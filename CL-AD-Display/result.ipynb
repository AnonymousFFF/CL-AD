{
 "cells": [
  {
   "cell_type": "code",
   "execution_count": 1,
   "id": "a20d067b",
   "metadata": {},
   "outputs": [],
   "source": [
    "import os\n",
    "import matplotlib.pyplot as plt\n",
    "import matplotlib.image as mpimg\n",
    "\n",
    "# 1. 提取路径 C 下所有子路径\n",
    "path_a = r\"D:\\python\\imagetest\\data\"  # 指定路径 A\n",
    "path_b = r\"D:\\python\\imagetest\\output0428-51\"  # 指定路径 B\n",
    "path_d = r\"D:\\python\\imagetest\\adversarials\\FGSM\"  # 指定路径 D\n",
    "path_e = r\"D:\\python\\imagetest\\adversarials\\CW\"  # 指定路径 E\n",
    "path_c = r\"D:\\python\\imagetest\\adversarials\\PGD\"  # 指定路径 C\n",
    "subpaths_c = [os.path.join(path_c, f) for f in os.listdir(path_c) if os.path.isdir(os.path.join(path_c, f))]\n",
    "\n",
    "# 2. 遍历子路径和子路径下的所有文件，并与路径 A、B、D、E 进行对比\n",
    "\n",
    "\n",
    "for i, subpath in enumerate(subpaths_c):\n",
    "    # 提取路径 C 子路径名称\n",
    "    subpath_name = os.path.basename(subpath)\n",
    "\n",
    "    # 匹配路径 B 下的子路径（按顺序对应）\n",
    "    path_b_sub_index = i\n",
    "    path_b_sub_list = [os.path.join(path_b, f) for f in os.listdir(path_b) if os.path.isdir(os.path.join(path_b, f))]\n",
    "    if path_b_sub_index < len(path_b_sub_list):\n",
    "        path_b_sub = path_b_sub_list[path_b_sub_index]\n",
    "    else:\n",
    "        path_b_sub = None\n",
    "\n",
    "    # 匹配路径 D 和 E 下的子路径\n",
    "    path_d_sub = os.path.join(path_d, subpath_name)\n",
    "    path_e_sub = os.path.join(path_e, subpath_name)\n",
    "\n",
    "    # 收集路径 C 子路径下的所有文件\n",
    "    files_c = [os.path.join(root, file) for root, dirs, files in os.walk(subpath) for file in files]\n",
    "\n",
    "    # 初始化存储路径 A、B、D、E 的文件列表\n",
    "    files_a = []\n",
    "    files_b = []\n",
    "    files_d = []\n",
    "    files_e = []\n",
    "\n",
    "    # 遍历路径 C 子路径下的文件\n",
    "    for file_c in files_c:\n",
    "        file_name = os.path.basename(file_c)\n",
    "\n",
    "        # 在路径 A 中查找同名文件\n",
    "        file_a = None\n",
    "        for root, dirs, files in os.walk(path_a):\n",
    "            if file_name in files:\n",
    "                file_a = os.path.join(root, file_name)\n",
    "                break\n",
    "        files_a.append(file_a)\n",
    "\n",
    "        # 在路径 B 中查找同名文件\n",
    "        file_b = None\n",
    "        if path_b_sub and os.path.exists(path_b_sub):\n",
    "            for root, dirs, files in os.walk(path_b_sub):\n",
    "                if file_name in files:\n",
    "                    file_b = os.path.join(root, file_name)\n",
    "                    break\n",
    "        files_b.append(file_b)\n",
    "\n",
    "        # 在路径 D 中查找同名文件\n",
    "        file_d = None\n",
    "        if os.path.exists(path_d_sub):\n",
    "            for root, dirs, files in os.walk(path_d_sub):\n",
    "                if file_name in files:\n",
    "                    file_d = os.path.join(root, file_name)\n",
    "                    break\n",
    "        files_d.append(file_d)\n",
    "\n",
    "        # 在路径 E 中查找同名文件\n",
    "        file_e = None\n",
    "        if os.path.exists(path_e_sub):\n",
    "            for root, dirs, files in os.walk(path_e_sub):\n",
    "                if file_name in files:\n",
    "                    file_e = os.path.join(root, file_name)\n",
    "                    break\n",
    "        files_e.append(file_e)\n",
    "\n",
    "    # 3. 生成图像\n",
    "    fig, axs = plt.subplots(len(files_c), 5, figsize=(25, 5 * len(files_c)))\n",
    "\n",
    "    # 绘制路径 A、B、C、D、E 下的图像\n",
    "    for idx_file in range(len(files_c)):\n",
    "        file_a = files_a[idx_file]\n",
    "        file_b = files_b[idx_file]\n",
    "        file_c = files_c[idx_file]\n",
    "        file_d = files_d[idx_file]\n",
    "        file_e = files_e[idx_file]\n",
    "        file_name = os.path.basename(file_c)  # 获取文件名\n",
    "\n",
    "        # 路径 A\n",
    "        if file_a and os.path.exists(file_a):\n",
    "            img_a = mpimg.imread(file_a)\n",
    "            if len(axs.shape) == 1:\n",
    "                axs[0].imshow(img_a)\n",
    "                axs[0].set_title(file_name)  # 使用文件名作为标题\n",
    "                axs[0].axis('off')\n",
    "            else:\n",
    "                axs[idx_file, 0].imshow(img_a)\n",
    "                axs[idx_file, 0].set_title(file_name)  # 使用文件名作为标题\n",
    "                axs[idx_file, 0].axis('off')\n",
    "        else:\n",
    "            if len(axs.shape) == 1:\n",
    "                axs[0].text(0.5, 0.5, \"File not found in A\", ha='center', va='center')\n",
    "                axs[0].axis('off')\n",
    "            else:\n",
    "                axs[idx_file, 0].text(0.5, 0.5, \"File not found in A\", ha='center', va='center')\n",
    "                axs[idx_file, 0].axis('off')\n",
    "\n",
    "        # 路径 B\n",
    "        if file_b and os.path.exists(file_b):\n",
    "            img_b = mpimg.imread(file_b)\n",
    "            if len(axs.shape) == 1:\n",
    "                axs[1].imshow(img_b)\n",
    "                axs[1].set_title(\"ori\")\n",
    "                axs[1].axis('off')\n",
    "            else:\n",
    "                axs[idx_file, 1].imshow(img_b)\n",
    "                axs[idx_file, 1].set_title(\"ori\")\n",
    "                axs[idx_file, 1].axis('off')\n",
    "        else:\n",
    "            if len(axs.shape) == 1:\n",
    "                axs[1].text(0.5, 0.5, \"File not found in B\", ha='center', va='center')\n",
    "                axs[1].axis('off')\n",
    "            else:\n",
    "                axs[idx_file, 1].text(0.5, 0.5, \"File not found in B\", ha='center', va='center')\n",
    "                axs[idx_file, 1].axis('off')\n",
    "\n",
    "        # 路径 C\n",
    "        if os.path.exists(file_c):\n",
    "            img_c = mpimg.imread(file_c)\n",
    "            if len(axs.shape) == 1:\n",
    "                axs[2].imshow(img_c)\n",
    "                axs[2].set_title(\"PGD\")\n",
    "                axs[2].axis('off')\n",
    "            else:\n",
    "                axs[idx_file, 2].imshow(img_c)\n",
    "                axs[idx_file, 2].set_title(\"PGD\")\n",
    "                axs[idx_file, 2].axis('off')\n",
    "        else:\n",
    "            if len(axs.shape) == 1:\n",
    "                axs[2].text(0.5, 0.5, \"File not found in C\", ha='center', va='center')\n",
    "                axs[2].axis('off')\n",
    "            else:\n",
    "                axs[idx_file, 2].text(0.5, 0.5, \"File not found in C\", ha='center', va='center')\n",
    "                axs[idx_file, 2].axis('off')\n",
    "\n",
    "        # 路径 D\n",
    "        if file_d and os.path.exists(file_d):\n",
    "            img_d = mpimg.imread(file_d)\n",
    "            if len(axs.shape) == 1:\n",
    "                axs[3].imshow(img_d)\n",
    "                axs[3].set_title(\"FGSM\")\n",
    "                axs[3].axis('off')\n",
    "            else:\n",
    "                axs[idx_file, 3].imshow(img_d)\n",
    "                axs[idx_file, 3].set_title(\"FGSM\")\n",
    "                axs[idx_file, 3].axis('off')\n",
    "        else:\n",
    "            if len(axs.shape) == 1:\n",
    "                axs[3].text(0.5, 0.5, \"File not found in D\", ha='center', va='center')\n",
    "                axs[3].axis('off')\n",
    "            else:\n",
    "                axs[idx_file, 3].text(0.5, 0.5, \"File not found in D\", ha='center', va='center')\n",
    "                axs[idx_file, 3].axis('off')\n",
    "\n",
    "        # 路径 E\n",
    "        if file_e and os.path.exists(file_e):\n",
    "            img_e = mpimg.imread(file_e)\n",
    "            if len(axs.shape) == 1:\n",
    "                axs[4].imshow(img_e)\n",
    "                axs[4].set_title(\"CW\")\n",
    "                axs[4].axis('off')\n",
    "            else:\n",
    "                axs[idx_file, 4].imshow(img_e)\n",
    "                axs[idx_file, 4].set_title(\"CW\")\n",
    "                axs[idx_file, 4].axis('off')\n",
    "        else:\n",
    "            if len(axs.shape) == 1:\n",
    "                axs[4].text(0.5, 0.5, \"File not found in E\", ha='center', va='center')\n",
    "                axs[4].axis('off')\n",
    "            else:\n",
    "                axs[idx_file, 4].text(0.5, 0.5, \"File not found in E\", ha='center', va='center')\n",
    "                axs[idx_file, 4].axis('off')\n",
    "\n",
    "    # 调整布局\n",
    "    plt.tight_layout()\n",
    "\n",
    "    # 4. 保存图像\n",
    "    save_path = r\"D:\\python\\imagetest\\adversarials\\result\"\n",
    "    plt.savefig(os.path.join(save_path, f\"{subpath_name}.png\"))\n",
    "    plt.close()"
   ]
  },
  {
   "cell_type": "code",
   "execution_count": 1,
   "id": "d1ce5507",
   "metadata": {},
   "outputs": [],
   "source": [
    "import os\n",
    "import re\n",
    "import numpy as np\n",
    "from PIL import Image, ImageDraw\n",
    "import matplotlib.pyplot as plt\n",
    "import matplotlib.gridspec as gridspec\n",
    "\n",
    "# 解析标签文件\n",
    "label_dict = {}\n",
    "current_label = None\n",
    "with open('labels2.txt', 'r') as f:\n",
    "    content = f.read().splitlines()\n",
    "\n",
    "for line in content:\n",
    "    if line.startswith('label'):\n",
    "        current_label = re.findall(r'\\d+', line)[0]\n",
    "        label_dict[current_label] = []\n",
    "    elif current_label is not None and line:\n",
    "        label_dict[current_label].extend(line.split(','))\n",
    "\n",
    "# 配置参数\n",
    "path_config = {\n",
    "    'A': r\"D:\\python\\imagetest\\data\",\n",
    "    'B': r\"D:\\python\\imagetest\\output0428-51\",\n",
    "    'C': r\"D:\\python\\imagetest\\adversarials\\PGD\",\n",
    "    'D': r\"D:\\python\\imagetest\\adversarials\\FGSM\",\n",
    "    'E': r\"D:\\python\\imagetest\\adversarials\\CW\"\n",
    "}\n",
    "colors = {'B': '#00FF00', 'C': '#0000FF', 'D': '#FF0000', 'E': '#800080'}\n",
    "box_size = 80\n",
    "labellist = ['7', '12', '94', '668']\n",
    "\n",
    "def find_image_recursive(base_path, target_file):\n",
    "    \"\"\"递归查找目标文件\"\"\"\n",
    "    target_lower = target_file.lower()\n",
    "    for root, _, files in os.walk(base_path):\n",
    "        for f in files:\n",
    "            if f.lower().startswith(target_lower.split('.')[0]):\n",
    "                return os.path.join(root, f)\n",
    "    return None\n",
    "\n",
    "def detect_nonwhite_region(img_path):\n",
    "    \"\"\"精确定位非白色区域\"\"\"\n",
    "    try:\n",
    "        img = Image.open(img_path).convert(\"RGB\")\n",
    "        arr = np.array(img)\n",
    "        \n",
    "        non_white_mask = np.any(arr != [255, 255, 255], axis=-1)\n",
    "        if not np.any(non_white_mask):\n",
    "            return (0, 0)\n",
    "        \n",
    "        rows = np.any(non_white_mask, axis=1)\n",
    "        cols = np.any(non_white_mask, axis=0)\n",
    "        ymin, ymax = np.where(rows)[0][[0, -1]]\n",
    "        xmin, xmax = np.where(cols)[0][[0, -1]]\n",
    "        \n",
    "        return (xmin, ymin)\n",
    "    except Exception as e:\n",
    "        print(f\"坐标检测失败: {img_path} - {str(e)}\")\n",
    "        return None\n",
    "\n",
    "# 主处理流程\n",
    "for label in labellist:\n",
    "    if label not in label_dict:\n",
    "        continue\n",
    "    \n",
    "    # 创建总画布\n",
    "    fig = plt.figure(figsize=(20, 16))\n",
    "    gs = gridspec.GridSpec(8, 5, \n",
    "                         width_ratios=[3,1,1,1,1],\n",
    "                         height_ratios=[1]*8)\n",
    "    \n",
    "    # 设置总标题（调整y位置）\n",
    "    fig.suptitle(f'Label {label} Samples', fontsize=16, y=0.98)\n",
    "    \n",
    "    for sample_idx, img_file in enumerate(label_dict[label][:4]):\n",
    "        img_file = img_file.strip()\n",
    "        \n",
    "        # 加载原始图像\n",
    "        orig_img = Image.open(os.path.join(path_config['A'], img_file))\n",
    "        orig_img = orig_img.resize((224, 224), Image.LANCZOS)\n",
    "        \n",
    "        # 收集有效区域\n",
    "        box_data = {}\n",
    "        for key in ['B', 'C', 'D', 'E']:\n",
    "            found_path = find_image_recursive(path_config[key], img_file)\n",
    "            if not found_path:\n",
    "                continue\n",
    "            \n",
    "            coord = detect_nonwhite_region(found_path)\n",
    "            if coord is None:\n",
    "                continue\n",
    "            \n",
    "            x, y = coord\n",
    "            box = (\n",
    "                max(0, x), \n",
    "                max(0, y),\n",
    "                min(x + box_size, 224),\n",
    "                min(y + box_size, 224)\n",
    "            )\n",
    "            box_data[key] = box\n",
    "        \n",
    "        # 处理子图\n",
    "        clean_crops = []\n",
    "        for key in ['B', 'C', 'D', 'E']:\n",
    "            if key not in box_data:\n",
    "                clean_crops.append(None)\n",
    "                continue\n",
    "            \n",
    "            try:\n",
    "                # 截取原始区域\n",
    "                crop = orig_img.crop(box_data[key]).resize((80, 80))\n",
    "                \n",
    "                # 添加颜色边框（关键修改）\n",
    "                border_img = Image.new('RGB', (82, 82), color=colors[key])\n",
    "                border_img.paste(crop, (1, 1))\n",
    "                clean_crops.append((key, border_img))\n",
    "            except:\n",
    "                clean_crops.append(None)\n",
    "        \n",
    "        # 创建带框主图\n",
    "        display_img = orig_img.copy()\n",
    "        draw = ImageDraw.Draw(display_img)\n",
    "        for key, box in box_data.items():\n",
    "            draw.rectangle(box, outline=colors[key], width=4)\n",
    "        \n",
    "        # 绘制主图\n",
    "        main_ax = fig.add_subplot(gs[sample_idx*2: sample_idx*2+2, 0])\n",
    "        main_ax.imshow(display_img)\n",
    "        main_ax.axis('off')\n",
    "        main_ax.set_title(f'Sample {sample_idx+1}', fontsize=12)\n",
    "        \n",
    "        # 绘制子图\n",
    "        for i, crop in enumerate(clean_crops):\n",
    "            col = 1 + (i // 2)\n",
    "            row = sample_idx*2 + (i % 2)\n",
    "            \n",
    "            ax = fig.add_subplot(gs[row, col])\n",
    "            if crop:\n",
    "                ax.imshow(crop[1])\n",
    "                ax.set_title(f'{crop[0]} Box', \n",
    "                            color=colors[crop[0]],  # 标题颜色匹配\n",
    "                            fontsize=10)\n",
    "            else:\n",
    "                ax.text(0.5, 0.5, 'N/A', \n",
    "                       ha='center', va='center',\n",
    "                       fontsize=12)\n",
    "            ax.axis('off')\n",
    "\n",
    "    plt.tight_layout()\n",
    "    plt.subplots_adjust(top=0.95)  # 调整顶部间距\n",
    "    plt.show()"
   ]
  },
  {
   "cell_type": "code",
   "execution_count": 4,
   "id": "08e33774",
   "metadata": {},
   "outputs": [
    {
     "name": "stderr",
     "output_type": "stream",
     "text": [
      "C:\\Users\\Sacrify\\AppData\\Local\\Temp\\ipykernel_20752\\1062299964.py:160: UserWarning: This figure includes Axes that are not compatible with tight_layout, so results might be incorrect.\n",
      "  plt.tight_layout()\n"
     ]
    }
   ],
   "source": [
    "import os\n",
    "import re\n",
    "import numpy as np\n",
    "from PIL import Image, ImageDraw\n",
    "import matplotlib.pyplot as plt\n",
    "import matplotlib.gridspec as gridspec\n",
    "\n",
    "# 创建输出目录\n",
    "output_dir = r\"D:\\python\\imagetest\\adversarials\\result2\"\n",
    "os.makedirs(output_dir, exist_ok=True)\n",
    "\n",
    "# 解析标签文件\n",
    "label_dict = {}\n",
    "current_label = None\n",
    "with open('labels2.txt', 'r') as f:\n",
    "    content = f.read().splitlines()\n",
    "\n",
    "for line in content:\n",
    "    if line.startswith('label'):\n",
    "        current_label = re.findall(r'\\d+', line)[0]\n",
    "        label_dict[current_label] = []\n",
    "    elif current_label is not None and line:\n",
    "        label_dict[current_label].extend(line.split(','))\n",
    "\n",
    "# 配置参数\n",
    "path_config = {\n",
    "    'A': r\"D:\\python\\imagetest\\data\",\n",
    "    'B': r\"D:\\python\\imagetest\\output0428-51\",\n",
    "    'C': r\"D:\\python\\imagetest\\adversarials\\PGD\",\n",
    "    'D': r\"D:\\python\\imagetest\\adversarials\\FGSM\",\n",
    "    'E': r\"D:\\python\\imagetest\\adversarials\\CW\"\n",
    "}\n",
    "# 修改1：B路径绿色，其他红色\n",
    "colors = {'B': '#00FF00', 'C': '#FF0000', 'D': '#FF0000', 'E': '#FF0000'}\n",
    "box_size = 80\n",
    "border_thickness = 2  # 修改3：加粗边框\n",
    "labellist = ['1', '18', '51', '88']\n",
    "\n",
    "def find_image_recursive(base_path, target_file):\n",
    "    \"\"\"递归查找目标文件\"\"\"\n",
    "    target_lower = target_file.lower()\n",
    "    for root, _, files in os.walk(base_path):\n",
    "        for f in files:\n",
    "            if f.lower().startswith(target_lower.split('.')[0]):\n",
    "                return os.path.join(root, f)\n",
    "    return None\n",
    "\n",
    "def detect_nonwhite_region(img_path):\n",
    "    \"\"\"精确定位非白色区域\"\"\"\n",
    "    try:\n",
    "        img = Image.open(img_path).convert(\"RGB\")\n",
    "        arr = np.array(img)\n",
    "        \n",
    "        non_white_mask = np.any(arr != [255, 255, 255], axis=-1)\n",
    "        if not np.any(non_white_mask):\n",
    "            return (0, 0)\n",
    "        \n",
    "        rows = np.any(non_white_mask, axis=1)\n",
    "        cols = np.any(non_white_mask, axis=0)\n",
    "        ymin, ymax = np.where(rows)[0][[0, -1]]\n",
    "        xmin, xmax = np.where(cols)[0][[0, -1]]\n",
    "        \n",
    "        return (xmin, ymin)\n",
    "    except Exception as e:\n",
    "        print(f\"坐标检测失败: {img_path} - {str(e)}\")\n",
    "        return None\n",
    "\n",
    "# 主处理流程\n",
    "for label in labellist:\n",
    "    if label not in label_dict:\n",
    "        continue\n",
    "    \n",
    "    # 创建总画布\n",
    "    fig = plt.figure(figsize=(18, 14))\n",
    "    gs = gridspec.GridSpec(8, 5, \n",
    "                         width_ratios=[2.5,1,1,1,1],  # 修改2：调整宽度比例\n",
    "                         height_ratios=[1]*8,\n",
    "                         wspace=0.05, hspace=0.1)  # 修改2：减少间距\n",
    "    \n",
    "    fig.suptitle(f'Label {label} Samples', fontsize=16, y=0.98)\n",
    "    \n",
    "    for sample_idx, img_file in enumerate(label_dict[label][:4]):\n",
    "        img_file = img_file.strip()\n",
    "        base_name = os.path.splitext(img_file)[0]\n",
    "        \n",
    "        # 加载原始图像\n",
    "        orig_img = Image.open(os.path.join(path_config['A'], img_file))\n",
    "        orig_img = orig_img.resize((224, 224), Image.LANCZOS)\n",
    "        \n",
    "        # 收集有效区域\n",
    "        box_data = {}\n",
    "        for key in ['B', 'C', 'D', 'E']:\n",
    "            found_path = find_image_recursive(path_config[key], img_file)\n",
    "            if not found_path:\n",
    "                continue\n",
    "            \n",
    "            coord = detect_nonwhite_region(found_path)\n",
    "            if coord is None:\n",
    "                continue\n",
    "            \n",
    "            x, y = coord\n",
    "            box = (\n",
    "                max(0, x), \n",
    "                max(0, y),\n",
    "                min(x + box_size, 224),\n",
    "                min(y + box_size, 224)\n",
    "            )\n",
    "            box_data[key] = box\n",
    "        \n",
    "        # 处理子图（修改3：加粗边框）\n",
    "        clean_crops = []\n",
    "        for key in ['B', 'C', 'D', 'E']:\n",
    "            if key not in box_data:\n",
    "                clean_crops.append(None)\n",
    "                continue\n",
    "            \n",
    "            try:\n",
    "                crop = orig_img.crop(box_data[key]).resize((80, 80))\n",
    "                # 加粗边框实现\n",
    "                border_size = border_thickness\n",
    "                border_img = Image.new('RGB', \n",
    "                    (80 + 2*border_size, 80 + 2*border_size),\n",
    "                    color=colors[key])\n",
    "                border_img.paste(crop, (border_size, border_size))\n",
    "                clean_crops.append((key, border_img))\n",
    "            except:\n",
    "                clean_crops.append(None)\n",
    "        \n",
    "        # 创建带框主图（修改3：加粗主图框线）\n",
    "        display_img = orig_img.copy()\n",
    "        draw = ImageDraw.Draw(display_img)\n",
    "        for key, box in box_data.items():\n",
    "            draw.rectangle(box, outline=colors[key], width=6)  # 线宽从4改为6\n",
    "        \n",
    "        # 绘制主图\n",
    "        main_ax = fig.add_subplot(gs[sample_idx*2: sample_idx*2+2, 0])\n",
    "        main_ax.imshow(display_img)\n",
    "        main_ax.axis('off')\n",
    "        main_ax.set_title(f'Sample {sample_idx+1}', fontsize=12)\n",
    "        \n",
    "        # 绘制子图\n",
    "        for i, crop in enumerate(clean_crops):\n",
    "            col = 1 + (i // 2)\n",
    "            row = sample_idx*2 + (i % 2)\n",
    "            \n",
    "            ax = fig.add_subplot(gs[row, col])\n",
    "            if crop:\n",
    "                ax.imshow(crop[1])\n",
    "                ax.set_title(f'{crop[0]} Box', \n",
    "                            color=colors[crop[0]],\n",
    "                            fontsize=10)\n",
    "            else:\n",
    "                ax.text(0.5, 0.5, 'N/A', \n",
    "                       ha='center', va='center',\n",
    "                       fontsize=12)\n",
    "            ax.axis('off')\n",
    "\n",
    "    # 修改4：保存图像\n",
    "    output_path = os.path.join(output_dir, f\"label_{label}_result.png\")\n",
    "    plt.tight_layout()\n",
    "    plt.subplots_adjust(top=0.95)\n",
    "    plt.savefig(output_path, bbox_inches='tight', dpi=150)\n",
    "    plt.close()"
   ]
  },
  {
   "cell_type": "code",
   "execution_count": 14,
   "id": "5c082b75",
   "metadata": {},
   "outputs": [
    {
     "name": "stderr",
     "output_type": "stream",
     "text": [
      "C:\\Users\\Sacrify\\AppData\\Local\\Temp\\ipykernel_20752\\3094706261.py:161: UserWarning: This figure includes Axes that are not compatible with tight_layout, so results might be incorrect.\n",
      "  plt.tight_layout()\n"
     ]
    }
   ],
   "source": [
    "import os\n",
    "import re\n",
    "import numpy as np\n",
    "from PIL import Image, ImageDraw\n",
    "import matplotlib.pyplot as plt\n",
    "import matplotlib.gridspec as gridspec\n",
    "\n",
    "# 创建输出目录\n",
    "output_dir = r\"D:\\python\\imagetest\\adversarials\\result2\"\n",
    "os.makedirs(output_dir, exist_ok=True)\n",
    "\n",
    "# 解析标签文件\n",
    "label_dict = {}\n",
    "current_label = None\n",
    "with open('labels2.txt', 'r') as f:\n",
    "    content = f.read().splitlines()\n",
    "\n",
    "for line in content:\n",
    "    if line.startswith('label'):\n",
    "        current_label = re.findall(r'\\d+', line)[0]\n",
    "        label_dict[current_label] = []\n",
    "    elif current_label is not None and line:\n",
    "        label_dict[current_label].extend(line.split(','))\n",
    "\n",
    "# 配置参数\n",
    "path_config = {\n",
    "    'A': r\"D:\\python\\imagetest\\data\",\n",
    "    'B': r\"D:\\python\\imagetest\\output0428-51\",\n",
    "    'C': r\"D:\\python\\imagetest\\adversarials\\PGD\",\n",
    "    'D': r\"D:\\python\\imagetest\\adversarials\\FGSM\",\n",
    "    'E': r\"D:\\python\\imagetest\\adversarials\\CW\"\n",
    "}\n",
    "# 修改1：B路径绿色，其他红色\n",
    "colors = {'B': '#00FF00', 'C': '#FF0000', 'D': '#FF0000', 'E': '#FF0000'}\n",
    "box_size = 80\n",
    "border_thickness = 2  # 修改3：加粗边框\n",
    "labellist = ['1', '18', '47', '88']\n",
    "\n",
    "def find_image_recursive(base_path, target_file):\n",
    "    \"\"\"递归查找目标文件\"\"\"\n",
    "    target_lower = target_file.lower()\n",
    "    for root, _, files in os.walk(base_path):\n",
    "        for f in files:\n",
    "            if f.lower().startswith(target_lower.split('.')[0]):\n",
    "                return os.path.join(root, f)\n",
    "    return None\n",
    "\n",
    "def detect_nonwhite_region(img_path):\n",
    "    \"\"\"精确定位非白色区域\"\"\"\n",
    "    try:\n",
    "        img = Image.open(img_path).convert(\"RGB\")\n",
    "        arr = np.array(img)\n",
    "        \n",
    "        non_white_mask = np.any(arr != [255, 255, 255], axis=-1)\n",
    "        if not np.any(non_white_mask):\n",
    "            return (0, 0)\n",
    "        \n",
    "        rows = np.any(non_white_mask, axis=1)\n",
    "        cols = np.any(non_white_mask, axis=0)\n",
    "        ymin, ymax = np.where(rows)[0][[0, -1]]\n",
    "        xmin, xmax = np.where(cols)[0][[0, -1]]\n",
    "        \n",
    "        return (xmin, ymin)\n",
    "    except Exception as e:\n",
    "        print(f\"坐标检测失败: {img_path} - {str(e)}\")\n",
    "        return None\n",
    "\n",
    "# 主处理流程\n",
    "for label in labellist:\n",
    "    if label not in label_dict:\n",
    "        continue\n",
    "    \n",
    "    # 创建总画布\n",
    "    fig = plt.figure(figsize=(13, 16))\n",
    "    gs = gridspec.GridSpec(8, 5, \n",
    "                         width_ratios=[2.5,1,1,1,1],  \n",
    "                         height_ratios=[1]*8,\n",
    "                         wspace=0.03, hspace=0.03)  \n",
    "    \n",
    "    # fig.suptitle(f'Label {label} Samples', fontsize=16, y=0.98)  # 移除标题\n",
    "    \n",
    "    for sample_idx, img_file in enumerate(label_dict[label][:4]):\n",
    "        img_file = img_file.strip()\n",
    "        base_name = os.path.splitext(img_file)[0]\n",
    "        \n",
    "        # 加载原始图像\n",
    "        orig_img = Image.open(os.path.join(path_config['A'], img_file))\n",
    "        orig_img = orig_img.resize((224, 224), Image.LANCZOS)\n",
    "        \n",
    "        # 收集有效区域\n",
    "        box_data = {}\n",
    "        for key in ['B', 'C', 'D', 'E']:\n",
    "            found_path = find_image_recursive(path_config[key], img_file)\n",
    "            if not found_path:\n",
    "                continue\n",
    "            \n",
    "            coord = detect_nonwhite_region(found_path)\n",
    "            if coord is None:\n",
    "                continue\n",
    "            \n",
    "            x, y = coord\n",
    "            box = (\n",
    "                max(0, x), \n",
    "                max(0, y),\n",
    "                min(x + box_size, 224),\n",
    "                min(y + box_size, 224)\n",
    "            )\n",
    "            box_data[key] = box\n",
    "        \n",
    "        # 处理子图（修改3：加粗边框）\n",
    "        clean_crops = []\n",
    "        for key in ['B', 'C', 'D', 'E']:\n",
    "            if key not in box_data:\n",
    "                clean_crops.append(None)\n",
    "                continue\n",
    "            \n",
    "            try:\n",
    "                crop = orig_img.crop(box_data[key]).resize((80, 80))\n",
    "                # 加粗边框实现\n",
    "                border_size = border_thickness\n",
    "                border_img = Image.new('RGB', \n",
    "                    (80 + 2*border_size, 80 + 2*border_size),\n",
    "                    color=colors[key])\n",
    "                border_img.paste(crop, (border_size, border_size))\n",
    "                clean_crops.append((key, border_img))\n",
    "            except:\n",
    "                clean_crops.append(None)\n",
    "        \n",
    "        # 创建带框主图（修改3：加粗主图框线）\n",
    "        display_img = orig_img.copy()\n",
    "        draw = ImageDraw.Draw(display_img)\n",
    "        for key, box in box_data.items():\n",
    "            draw.rectangle(box, outline=colors[key], width=6)  # 线宽从4改为6\n",
    "        \n",
    "        # 绘制主图\n",
    "        main_ax = fig.add_subplot(gs[sample_idx*2: sample_idx*2+2, 0])\n",
    "        main_ax.imshow(display_img)\n",
    "        main_ax.axis('off')\n",
    "        # main_ax.set_title(f'Sample {sample_idx+1}', fontsize=12)  # 移除标题\n",
    "        \n",
    "        # 绘制子图\n",
    "        for i, crop in enumerate(clean_crops):\n",
    "            col = 1 + (i // 2)\n",
    "            row = sample_idx*2 + (i % 2)\n",
    "            \n",
    "            ax = fig.add_subplot(gs[row, col])\n",
    "            if crop:\n",
    "                ax.imshow(crop[1])\n",
    "                # ax.set_title(f'{crop[0]} Box', \n",
    "                #            color=colors[crop[0]],\n",
    "                #            fontsize=10)  # 移除标题\n",
    "            else:\n",
    "                # ax.text(0.5, 0.5, 'N/A', \n",
    "                #        ha='center', va='center',\n",
    "                #        fontsize=12)  # 移除文本\n",
    "                ax.imshow(np.zeros((80,80,3), dtype=np.uint8))  # 用黑图代替\n",
    "            ax.axis('off')\n",
    "\n",
    "    # 修改4：保存图像\n",
    "    output_path = os.path.join(output_dir, f\"label_{label}_result.png\")\n",
    "    plt.tight_layout()\n",
    "    plt.subplots_adjust(top=0.95)\n",
    "    plt.savefig(output_path, bbox_inches='tight', dpi=150)\n",
    "    plt.close()"
   ]
  },
  {
   "cell_type": "code",
   "execution_count": null,
   "id": "6a8ae39c",
   "metadata": {},
   "outputs": [],
   "source": []
  },
  {
   "cell_type": "code",
   "execution_count": null,
   "id": "164778c4",
   "metadata": {},
   "outputs": [],
   "source": []
  },
  {
   "cell_type": "code",
   "execution_count": null,
   "id": "71bdb83f",
   "metadata": {},
   "outputs": [],
   "source": []
  },
  {
   "cell_type": "code",
   "execution_count": 2,
   "id": "dbb2e083",
   "metadata": {},
   "outputs": [
    {
     "name": "stdout",
     "output_type": "stream",
     "text": [
      "处理完成！存储路径： D:\\python\\imagetest\\adversarials\\result2\n"
     ]
    }
   ],
   "source": [
    "import os\n",
    "import re\n",
    "import numpy as np\n",
    "from PIL import Image, ImageDraw\n",
    "\n",
    "# 配置参数\n",
    "output_root = r\"D:\\python\\imagetest\\adversarials\\result2\"\n",
    "path_config = {\n",
    "    'A': r\"D:\\python\\imagetest\\data\",\n",
    "    'B': r\"D:\\python\\imagetest\\output0428-51\",\n",
    "    'C': r\"D:\\python\\imagetest\\adversarials\\PGD\",\n",
    "    'D': r\"D:\\python\\imagetest\\adversarials\\BIM\",\n",
    "    'E': r\"D:\\python\\imagetest\\adversarials\\CW\"\n",
    "}\n",
    "colors = {'B': '#00FF00', 'C': '#FF0000', 'D': '#FF0000', 'E': '#FF0000'}\n",
    "box_size = 80\n",
    "crop_size = 64\n",
    "border_thickness = 2\n",
    "line_width = 4\n",
    "\n",
    "# 创建标签映射\n",
    "image_to_label = {}\n",
    "with open('labels3.txt', 'r') as f:\n",
    "    current_label = None\n",
    "    for line in f:\n",
    "        line = line.strip()\n",
    "        if line.startswith('label'):\n",
    "            current_label = re.findall(r'\\d+', line)[0]\n",
    "        elif current_label and line:\n",
    "            for fname in line.split(','):\n",
    "                image_to_label[fname.strip()] = current_label\n",
    "\n",
    "def find_image_recursive(base_path, target_file):\n",
    "    \"\"\"递归查找目标文件\"\"\"\n",
    "    target_base = os.path.splitext(target_file)[0].lower()\n",
    "    for root, _, files in os.walk(base_path):\n",
    "        for f in files:\n",
    "            if os.path.splitext(f)[0].lower() == target_base:\n",
    "                return os.path.join(root, f)\n",
    "    return None\n",
    "\n",
    "def detect_nonwhite_region(img_path):\n",
    "    \"\"\"非白色区域检测\"\"\"\n",
    "    try:\n",
    "        img = Image.open(img_path).convert(\"RGB\")\n",
    "        arr = np.array(img)\n",
    "        diff = np.abs(arr - [255, 255, 255]).sum(axis=2)\n",
    "        y_idx, x_idx = np.where(diff > 10)\n",
    "        return (x_idx[0], y_idx[0]) if len(x_idx) > 0 else (0, 0)\n",
    "    except Exception as e:\n",
    "        print(f\"坐标检测失败: {img_path} - {str(e)}\")\n",
    "        return None\n",
    "\n",
    "def save_image_with_boxes(orig_img, boxes, save_folder):\n",
    "    \"\"\"保存带框图像和子图\"\"\"\n",
    "    # 创建输出目录\n",
    "    os.makedirs(save_folder, exist_ok=True)\n",
    "    \n",
    "    # 保存带框主图\n",
    "    boxed_img = orig_img.copy()\n",
    "    draw = ImageDraw.Draw(boxed_img)\n",
    "    for key, box in boxes.items():\n",
    "        draw.rectangle(box, outline=colors[key], width=line_width)\n",
    "    boxed_img.save(os.path.join(save_folder, \"original_boxed.jpg\"), quality=95)\n",
    "    \n",
    "    # 保存子图\n",
    "    type_map = {'B':'ori', 'C':'PGD', 'D':'FGSM', 'E':'CW'}\n",
    "    for key in type_map:\n",
    "        if key not in boxes:\n",
    "            continue\n",
    "        \n",
    "        try:\n",
    "            # 截取区域并添加边框\n",
    "            crop = orig_img.crop(boxes[key]).resize((crop_size, crop_size))\n",
    "            border_img = Image.new('RGB', \n",
    "                (crop_size + 2*border_thickness, \n",
    "                 crop_size + 2*border_thickness),\n",
    "                color=colors[key])\n",
    "            border_img.paste(crop, (border_thickness, border_thickness))\n",
    "            border_img.save(os.path.join(save_folder, f\"{type_map[key]}.jpg\"), quality=95)\n",
    "        except Exception as e:\n",
    "            print(f\"保存子图失败: {str(e)}\")\n",
    "\n",
    "# 处理每个图像\n",
    "for img_file, label in image_to_label.items():\n",
    "    try:\n",
    "        base_name = os.path.splitext(img_file)[0]\n",
    "        save_folder = os.path.join(output_root, f\"label_{label}\", base_name)\n",
    "        \n",
    "        # 跳过已处理文件\n",
    "        if os.path.exists(os.path.join(save_folder, \"original_boxed.jpg\")):\n",
    "            continue\n",
    "        \n",
    "        # 加载原始图像\n",
    "        orig_img = Image.open(os.path.join(path_config['A'], img_file))\n",
    "        orig_img = orig_img.resize((224, 224), Image.LANCZOS)\n",
    "        \n",
    "        # 收集所有框信息\n",
    "        boxes = {}\n",
    "        for key in ['B', 'C', 'D', 'E']:\n",
    "            found_path = find_image_recursive(path_config[key], img_file)\n",
    "            if not found_path:\n",
    "                continue\n",
    "            \n",
    "            coord = detect_nonwhite_region(found_path)\n",
    "            if coord is None:\n",
    "                continue\n",
    "            \n",
    "            x, y = coord\n",
    "            box = (\n",
    "                max(0, x),\n",
    "                max(0, y),\n",
    "                min(x + box_size, 224),\n",
    "                min(y + box_size, 224))\n",
    "            boxes[key] = box\n",
    "        \n",
    "        # 保存图像\n",
    "        save_image_with_boxes(orig_img, boxes, save_folder)\n",
    "        \n",
    "    except Exception as e:\n",
    "        print(f\"处理失败 {img_file}: {str(e)}\")\n",
    "        continue\n",
    "\n",
    "print(\"处理完成！存储路径：\", output_root)"
   ]
  },
  {
   "cell_type": "code",
   "execution_count": null,
   "id": "ad082703",
   "metadata": {},
   "outputs": [],
   "source": []
  },
  {
   "cell_type": "code",
   "execution_count": null,
   "id": "8691919f",
   "metadata": {},
   "outputs": [],
   "source": []
  },
  {
   "cell_type": "code",
   "execution_count": null,
   "id": "2bf40a32",
   "metadata": {},
   "outputs": [],
   "source": []
  },
  {
   "cell_type": "code",
   "execution_count": null,
   "id": "5b8bdc11",
   "metadata": {},
   "outputs": [],
   "source": []
  },
  {
   "cell_type": "code",
   "execution_count": 18,
   "id": "f5e16e90",
   "metadata": {},
   "outputs": [
    {
     "data": {
      "application/vnd.jupyter.widget-view+json": {
       "model_id": "",
       "version_major": 2,
       "version_minor": 0
      },
      "text/plain": [
       "PGD - Batches:   0%|          | 0/1 [00:00<?, ?it/s]"
      ]
     },
     "metadata": {},
     "output_type": "display_data"
    },
    {
     "data": {
      "application/vnd.jupyter.widget-view+json": {
       "model_id": "bf99c7df01304f729b915ac0ab916a72",
       "version_major": 2,
       "version_minor": 0
      },
      "text/plain": [
       "C&W L_2:   0%|          | 0/1 [00:00<?, ?it/s]"
      ]
     },
     "metadata": {},
     "output_type": "display_data"
    },
    {
     "data": {
      "application/vnd.jupyter.widget-view+json": {
       "model_id": "",
       "version_major": 2,
       "version_minor": 0
      },
      "text/plain": [
       "PGD - Batches:   0%|          | 0/1 [00:00<?, ?it/s]"
      ]
     },
     "metadata": {},
     "output_type": "display_data"
    },
    {
     "data": {
      "application/vnd.jupyter.widget-view+json": {
       "model_id": "f27369554887492a8a98c673d2ae9bc7",
       "version_major": 2,
       "version_minor": 0
      },
      "text/plain": [
       "C&W L_2:   0%|          | 0/1 [00:00<?, ?it/s]"
      ]
     },
     "metadata": {},
     "output_type": "display_data"
    },
    {
     "data": {
      "application/vnd.jupyter.widget-view+json": {
       "model_id": "",
       "version_major": 2,
       "version_minor": 0
      },
      "text/plain": [
       "PGD - Batches:   0%|          | 0/1 [00:00<?, ?it/s]"
      ]
     },
     "metadata": {},
     "output_type": "display_data"
    },
    {
     "data": {
      "application/vnd.jupyter.widget-view+json": {
       "model_id": "37982098b4b3487398530bac46add20d",
       "version_major": 2,
       "version_minor": 0
      },
      "text/plain": [
       "C&W L_2:   0%|          | 0/1 [00:00<?, ?it/s]"
      ]
     },
     "metadata": {},
     "output_type": "display_data"
    },
    {
     "data": {
      "application/vnd.jupyter.widget-view+json": {
       "model_id": "",
       "version_major": 2,
       "version_minor": 0
      },
      "text/plain": [
       "PGD - Batches:   0%|          | 0/1 [00:00<?, ?it/s]"
      ]
     },
     "metadata": {},
     "output_type": "display_data"
    },
    {
     "data": {
      "application/vnd.jupyter.widget-view+json": {
       "model_id": "31c38e3f13aa454da6220659c3ca7dac",
       "version_major": 2,
       "version_minor": 0
      },
      "text/plain": [
       "C&W L_2:   0%|          | 0/1 [00:00<?, ?it/s]"
      ]
     },
     "metadata": {},
     "output_type": "display_data"
    },
    {
     "data": {
      "application/vnd.jupyter.widget-view+json": {
       "model_id": "",
       "version_major": 2,
       "version_minor": 0
      },
      "text/plain": [
       "PGD - Batches:   0%|          | 0/1 [00:00<?, ?it/s]"
      ]
     },
     "metadata": {},
     "output_type": "display_data"
    },
    {
     "data": {
      "application/vnd.jupyter.widget-view+json": {
       "model_id": "ecb49d08f90c47f59836a8ab3f7da4c7",
       "version_major": 2,
       "version_minor": 0
      },
      "text/plain": [
       "C&W L_2:   0%|          | 0/1 [00:00<?, ?it/s]"
      ]
     },
     "metadata": {},
     "output_type": "display_data"
    },
    {
     "data": {
      "application/vnd.jupyter.widget-view+json": {
       "model_id": "",
       "version_major": 2,
       "version_minor": 0
      },
      "text/plain": [
       "PGD - Batches:   0%|          | 0/1 [00:00<?, ?it/s]"
      ]
     },
     "metadata": {},
     "output_type": "display_data"
    },
    {
     "data": {
      "application/vnd.jupyter.widget-view+json": {
       "model_id": "a6a34fcf29f440ec92385e449914ed60",
       "version_major": 2,
       "version_minor": 0
      },
      "text/plain": [
       "C&W L_2:   0%|          | 0/1 [00:00<?, ?it/s]"
      ]
     },
     "metadata": {},
     "output_type": "display_data"
    },
    {
     "data": {
      "application/vnd.jupyter.widget-view+json": {
       "model_id": "",
       "version_major": 2,
       "version_minor": 0
      },
      "text/plain": [
       "PGD - Batches:   0%|          | 0/1 [00:00<?, ?it/s]"
      ]
     },
     "metadata": {},
     "output_type": "display_data"
    },
    {
     "data": {
      "application/vnd.jupyter.widget-view+json": {
       "model_id": "e8df3ceb868a401194408132d915762a",
       "version_major": 2,
       "version_minor": 0
      },
      "text/plain": [
       "C&W L_2:   0%|          | 0/1 [00:00<?, ?it/s]"
      ]
     },
     "metadata": {},
     "output_type": "display_data"
    },
    {
     "data": {
      "application/vnd.jupyter.widget-view+json": {
       "model_id": "",
       "version_major": 2,
       "version_minor": 0
      },
      "text/plain": [
       "PGD - Batches:   0%|          | 0/1 [00:00<?, ?it/s]"
      ]
     },
     "metadata": {},
     "output_type": "display_data"
    },
    {
     "data": {
      "application/vnd.jupyter.widget-view+json": {
       "model_id": "56f3bf6c87ae43dab8641765285d430e",
       "version_major": 2,
       "version_minor": 0
      },
      "text/plain": [
       "C&W L_2:   0%|          | 0/1 [00:00<?, ?it/s]"
      ]
     },
     "metadata": {},
     "output_type": "display_data"
    },
    {
     "data": {
      "application/vnd.jupyter.widget-view+json": {
       "model_id": "",
       "version_major": 2,
       "version_minor": 0
      },
      "text/plain": [
       "PGD - Batches:   0%|          | 0/1 [00:00<?, ?it/s]"
      ]
     },
     "metadata": {},
     "output_type": "display_data"
    },
    {
     "data": {
      "application/vnd.jupyter.widget-view+json": {
       "model_id": "21d660665e72408ca58fc83736db22a9",
       "version_major": 2,
       "version_minor": 0
      },
      "text/plain": [
       "C&W L_2:   0%|          | 0/1 [00:00<?, ?it/s]"
      ]
     },
     "metadata": {},
     "output_type": "display_data"
    },
    {
     "data": {
      "application/vnd.jupyter.widget-view+json": {
       "model_id": "",
       "version_major": 2,
       "version_minor": 0
      },
      "text/plain": [
       "PGD - Batches:   0%|          | 0/1 [00:00<?, ?it/s]"
      ]
     },
     "metadata": {},
     "output_type": "display_data"
    },
    {
     "data": {
      "application/vnd.jupyter.widget-view+json": {
       "model_id": "53c0b890c58f492da0373112760a1f4d",
       "version_major": 2,
       "version_minor": 0
      },
      "text/plain": [
       "C&W L_2:   0%|          | 0/1 [00:00<?, ?it/s]"
      ]
     },
     "metadata": {},
     "output_type": "display_data"
    },
    {
     "data": {
      "application/vnd.jupyter.widget-view+json": {
       "model_id": "",
       "version_major": 2,
       "version_minor": 0
      },
      "text/plain": [
       "PGD - Batches:   0%|          | 0/1 [00:00<?, ?it/s]"
      ]
     },
     "metadata": {},
     "output_type": "display_data"
    },
    {
     "data": {
      "application/vnd.jupyter.widget-view+json": {
       "model_id": "660c2cc84b644bbd9643569bc6b7bf67",
       "version_major": 2,
       "version_minor": 0
      },
      "text/plain": [
       "C&W L_2:   0%|          | 0/1 [00:00<?, ?it/s]"
      ]
     },
     "metadata": {},
     "output_type": "display_data"
    },
    {
     "data": {
      "application/vnd.jupyter.widget-view+json": {
       "model_id": "",
       "version_major": 2,
       "version_minor": 0
      },
      "text/plain": [
       "PGD - Batches:   0%|          | 0/1 [00:00<?, ?it/s]"
      ]
     },
     "metadata": {},
     "output_type": "display_data"
    },
    {
     "data": {
      "application/vnd.jupyter.widget-view+json": {
       "model_id": "a40601ead0e143cba16d6e21d241259f",
       "version_major": 2,
       "version_minor": 0
      },
      "text/plain": [
       "C&W L_2:   0%|          | 0/1 [00:00<?, ?it/s]"
      ]
     },
     "metadata": {},
     "output_type": "display_data"
    },
    {
     "data": {
      "application/vnd.jupyter.widget-view+json": {
       "model_id": "",
       "version_major": 2,
       "version_minor": 0
      },
      "text/plain": [
       "PGD - Batches:   0%|          | 0/1 [00:00<?, ?it/s]"
      ]
     },
     "metadata": {},
     "output_type": "display_data"
    },
    {
     "data": {
      "application/vnd.jupyter.widget-view+json": {
       "model_id": "e843d32fb0a9446497cc4445c1cb4293",
       "version_major": 2,
       "version_minor": 0
      },
      "text/plain": [
       "C&W L_2:   0%|          | 0/1 [00:00<?, ?it/s]"
      ]
     },
     "metadata": {},
     "output_type": "display_data"
    },
    {
     "data": {
      "application/vnd.jupyter.widget-view+json": {
       "model_id": "",
       "version_major": 2,
       "version_minor": 0
      },
      "text/plain": [
       "PGD - Batches:   0%|          | 0/1 [00:00<?, ?it/s]"
      ]
     },
     "metadata": {},
     "output_type": "display_data"
    },
    {
     "data": {
      "application/vnd.jupyter.widget-view+json": {
       "model_id": "10709062fbc34733adef7182d3733183",
       "version_major": 2,
       "version_minor": 0
      },
      "text/plain": [
       "C&W L_2:   0%|          | 0/1 [00:00<?, ?it/s]"
      ]
     },
     "metadata": {},
     "output_type": "display_data"
    },
    {
     "data": {
      "application/vnd.jupyter.widget-view+json": {
       "model_id": "",
       "version_major": 2,
       "version_minor": 0
      },
      "text/plain": [
       "PGD - Batches:   0%|          | 0/1 [00:00<?, ?it/s]"
      ]
     },
     "metadata": {},
     "output_type": "display_data"
    },
    {
     "data": {
      "application/vnd.jupyter.widget-view+json": {
       "model_id": "20b4c1e597bc4ef8a8613c5d473c2ae1",
       "version_major": 2,
       "version_minor": 0
      },
      "text/plain": [
       "C&W L_2:   0%|          | 0/1 [00:00<?, ?it/s]"
      ]
     },
     "metadata": {},
     "output_type": "display_data"
    },
    {
     "data": {
      "application/vnd.jupyter.widget-view+json": {
       "model_id": "",
       "version_major": 2,
       "version_minor": 0
      },
      "text/plain": [
       "PGD - Batches:   0%|          | 0/1 [00:00<?, ?it/s]"
      ]
     },
     "metadata": {},
     "output_type": "display_data"
    },
    {
     "data": {
      "application/vnd.jupyter.widget-view+json": {
       "model_id": "22f6543e3136460eb2642f0f5e088715",
       "version_major": 2,
       "version_minor": 0
      },
      "text/plain": [
       "C&W L_2:   0%|          | 0/1 [00:00<?, ?it/s]"
      ]
     },
     "metadata": {},
     "output_type": "display_data"
    },
    {
     "name": "stdout",
     "output_type": "stream",
     "text": [
      "Results saved to D:\\python\\imagetest\\adversarials\\dynamic_attack_results.txt\n"
     ]
    }
   ],
   "source": [
    "import os\n",
    "import torch\n",
    "import torch.nn as nn\n",
    "from torchvision import models, transforms\n",
    "from PIL import Image\n",
    "import numpy as np\n",
    "from art.estimators.classification import PyTorchClassifier\n",
    "from art.attacks.evasion import ProjectedGradientDescent, FastGradientMethod, CarliniL2Method\n",
    "\n",
    "device = torch.device('cuda' if torch.cuda.is_available() else 'cpu')\n",
    "\n",
    "# 配置路径\n",
    "data_dir = r'D:\\python\\imagetest\\data'\n",
    "output_dir = r'D:\\python\\imagetest\\adversarials'\n",
    "os.makedirs(output_dir, exist_ok=True)\n",
    "\n",
    "# 解析labels.txt\n",
    "label_file = 'labels.txt'\n",
    "label_dict = {}\n",
    "current_label = None\n",
    "\n",
    "with open(label_file, 'r') as f:\n",
    "    for line in f:\n",
    "        line = line.strip()\n",
    "        if line.startswith('label'):\n",
    "            current_label = line\n",
    "            label_dict[current_label] = []\n",
    "        else:\n",
    "            if current_label:\n",
    "                files = line.split(',')\n",
    "                label_dict[current_label].extend(files)\n",
    "\n",
    "# 加载ResNet18模型\n",
    "model = models.resnet18(pretrained=True)\n",
    "model.eval()\n",
    "model = model.to(device)  # 将模型移动到GPU上\n",
    "\n",
    "# 图像预处理\n",
    "preprocess = transforms.Compose([\n",
    "    transforms.Resize(256),\n",
    "    transforms.CenterCrop(224),\n",
    "    transforms.ToTensor(),\n",
    "    transforms.Normalize(mean=[0.485, 0.456, 0.406], std=[0.229, 0.224, 0.225]),\n",
    "])\n",
    "\n",
    "# 创建ART分类器\n",
    "classifier = PyTorchClassifier(\n",
    "    model=model,\n",
    "    clip_values=(0, 1),\n",
    "    loss=nn.CrossEntropyLoss(),\n",
    "    input_shape=(3, 224, 224),\n",
    "    nb_classes=1000,\n",
    ")\n",
    "\n",
    "# 攻击配置参数\n",
    "max_attempts = 3  # 最大尝试次数\n",
    "eps_levels = [8/255, 16/255, 24/255,32/255,128/255,200/255]  # 扰动强度梯度\n",
    "\n",
    "# 初始化攻击方法（不定向攻击）\n",
    "attacks = {\n",
    "    'PGD': ProjectedGradientDescent(classifier, targeted=False),\n",
    "    'FGSM': FastGradientMethod(classifier, targeted=False),\n",
    "    'CW': CarliniL2Method(classifier, targeted=False)\n",
    "}\n",
    "\n",
    "# 处理所有图像\n",
    "results = []\n",
    "\n",
    "for label, files in label_dict.items():\n",
    "    for file in files:\n",
    "        img_path = os.path.join(data_dir, file)\n",
    "        \n",
    "        # 读取并预处理图像\n",
    "        img = Image.open(img_path).convert('RGB')\n",
    "        img_tensor = preprocess(img).unsqueeze(0)\n",
    "        img_tensor = img_tensor.to(device)\n",
    "        x = img_tensor.cpu().numpy()  # 将张量移动到CPU后再转换为NumPy数组\n",
    "        \n",
    "        # 原始预测\n",
    "        with torch.no_grad():\n",
    "            output = model(img_tensor)\n",
    "        probs = torch.softmax(output, 1)\n",
    "        conf, pred = torch.max(probs, 1)\n",
    "        original_pred = pred.item()\n",
    "        \n",
    "        record = {\n",
    "            'file': file,\n",
    "            'original_label': label,\n",
    "            'original_pred': original_pred,\n",
    "            'original_conf': conf.item(),\n",
    "            'adversarials': {}\n",
    "        }\n",
    "\n",
    "        # 对每种攻击方法生成对抗样本\n",
    "        for attack_name in attacks:\n",
    "            final_eps = None\n",
    "            final_pred = original_pred\n",
    "            final_conf = 0.0\n",
    "            \n",
    "            # 动态调整扰动强度\n",
    "            #for current_eps in eps_levels:\n",
    "                # 配置攻击参数\n",
    "            #    if attack_name in ['PGD', 'FGSM']:\n",
    "            #        attacks[attack_name]\n",
    "            #    elif attack_name == 'CW':\n",
    "            #        attacks[attack_name]\n",
    "                \n",
    "            try:\n",
    "                # 生成对抗样本\n",
    "                x_adv = attacks[attack_name].generate(x.copy())\n",
    "\n",
    "                # 验证预测结果\n",
    "                with torch.no_grad():\n",
    "                    adv_output = model(torch.from_numpy(x_adv).to(device))\n",
    "                adv_probs = torch.softmax(adv_output, 1)\n",
    "                adv_conf, adv_pred = torch.max(adv_probs, 1)\n",
    "\n",
    "                if adv_pred.item() != original_pred:\n",
    "                    final_eps = current_eps\n",
    "                    final_pred = adv_pred.item()\n",
    "                    final_conf = adv_conf.item()\n",
    "                    #break\n",
    "            except Exception as e:\n",
    "                print(f\"Attack {attack_name} failed at eps={current_eps}: {str(e)}\")\n",
    "                    #continue\n",
    "            \n",
    "            # 记录最终结果\n",
    "            record['adversarials'][attack_name] = {\n",
    "                'success': final_pred != original_pred,\n",
    "                'final_eps': final_eps,\n",
    "                'prediction': final_pred,\n",
    "                'confidence': final_conf\n",
    "            }\n",
    "\n",
    "        results.append(record)\n",
    "\n",
    "# 保存结果\n",
    "output_file = os.path.join(output_dir, 'dynamic_attack_results.txt')\n",
    "with open(output_file, 'w') as f:\n",
    "    for res in results:\n",
    "        f.write(f\"File: {res['file']}\\n\")\n",
    "        f.write(f\"Original Label: {res['original_label']}\\n\")\n",
    "        f.write(f\"Original Prediction: {res['original_pred']} (Confidence: {res['original_conf']:.4f})\\n\")\n",
    "        \n",
    "        for attack_name, adv in res['adversarials'].items():\n",
    "            status = \"Success\" if adv['success'] else \"Failed\"\n",
    "            eps_info = f\"at ε={adv['final_eps']*255:.1f}/255\" if adv['final_eps'] else \"\"\n",
    "            f.write(f\"{attack_name} Attack {status} {eps_info}\\n\")\n",
    "            if adv['success']:\n",
    "                f.write(f\"  -> Pred: {adv['prediction']} (Confidence: {adv['confidence']:.4f})\\n\")\n",
    "        f.write(\"\\n\")\n",
    "\n",
    "print(f\"Results saved to {output_file}\")"
   ]
  },
  {
   "cell_type": "code",
   "execution_count": null,
   "id": "687f6abe",
   "metadata": {},
   "outputs": [],
   "source": []
  }
 ],
 "metadata": {
  "kernelspec": {
   "display_name": "Python 3 (ipykernel)",
   "language": "python",
   "name": "python3"
  },
  "language_info": {
   "codemirror_mode": {
    "name": "ipython",
    "version": 3
   },
   "file_extension": ".py",
   "mimetype": "text/x-python",
   "name": "python",
   "nbconvert_exporter": "python",
   "pygments_lexer": "ipython3",
   "version": "3.8.20"
  }
 },
 "nbformat": 4,
 "nbformat_minor": 5
}
