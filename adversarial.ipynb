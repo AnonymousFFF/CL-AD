{
 "cells": [
  {
   "cell_type": "code",
   "execution_count": null,
   "id": "dcee01d1",
   "metadata": {},
   "outputs": [],
   "source": [
    "import torch\n",
    "import torchvision\n",
    "import torchvision.transforms as transforms\n",
    "from art.estimators.classification import PyTorchClassifier\n",
    "import pandas as pd\n",
    "import numpy as np\n",
    "import art\n",
    "import torch.nn as nn\n",
    "import torch.optim as optim\n",
    "from art.attacks.evasion import FastGradientMethod, BasicIterativeMethod, DeepFool, BoundaryAttack\n",
    "\n",
    "# 定义数据预处理\n",
    "transform = transforms.Compose([\n",
    "    transforms.ToTensor(),\n",
    "])\n",
    "\n",
    "# 加载CIFAR-10数据集\n",
    "trainset = torchvision.datasets.CIFAR10(root='./cifar10', train=True, download=True, transform=transform)\n",
    "testset = torchvision.datasets.CIFAR10(root='./cifar10', train=False, download=True, transform=transform)\n",
    "\n",
    "# 合并训练集和测试集\n",
    "combined_data = trainset.data\n",
    "combined_labels = trainset.targets\n",
    "combined_data = np.concatenate((combined_data, testset.data), axis=0)\n",
    "combined_labels = np.concatenate((combined_labels, testset.targets), axis=0)\n",
    "\n",
    "# 获取类别名称\n",
    "class_names = trainset.classes\n",
    "\n",
    "# 创建一个字典来存储每个类别的DataFrame\n",
    "dataframes = {}\n",
    "\n",
    "# 按标签分组数据\n",
    "for label in range(len(class_names)):\n",
    "    # 获取当前标签的索引\n",
    "    indices = np.where(combined_labels == label)[0]\n",
    "    \n",
    "    # 提取对应的数据和标签\n",
    "    label_data = combined_data[indices]\n",
    "    label_labels = combined_labels[indices]\n",
    "    \n",
    "    # 创建DataFrame\n",
    "    df = pd.DataFrame({\n",
    "        'image': [img for img in label_data],\n",
    "        'label': label_labels\n",
    "    })\n",
    "    \n",
    "    # 用类别名称命名DataFrame\n",
    "    dataframes[class_names[label]] = df\n",
    "\n",
    "# 返回10个DataFrame\n",
    "\n",
    "\n",
    "\n",
    "# 如果需要返回这些DataFrame，可以返回字典\n",
    "# return dataframes"
   ]
  },
  {
   "cell_type": "code",
   "execution_count": null,
   "id": "b0e337ef",
   "metadata": {},
   "outputs": [],
   "source": [
    "import torchvision.models as models\n",
    "resnet_name=r\"D:\\python\\resnetcifar\\model\\resmodel.pth\"\n",
    "# 定义与保存时一致的模型结构\n",
    "class ModifiedResNet18(torch.nn.Module):\n",
    "    def __init__(self, num_classes=10):\n",
    "        super(ModifiedResNet18, self).__init__()\n",
    "        self.resnet18 = models.resnet18(pretrained=False)  # 不使用预训练权重，因为我们加载的是已经训练好的模型\n",
    "        self.resnet18.conv1 = torch.nn.Conv2d(3, 64, kernel_size=3, stride=1, padding=1, bias=False)\n",
    "        self.resnet18.maxpool = torch.nn.Identity()  # 移除最大池化层\n",
    "\n",
    "        # 获取ResNet18的特征提取部分\n",
    "        self.features = torch.nn.Sequential(*list(self.resnet18.children())[:-1])\n",
    "\n",
    "        # 添加MLP和全连接层\n",
    "        self.mlp = torch.nn.Sequential(\n",
    "            torch.nn.Linear(512, 256),\n",
    "            torch.nn.ReLU(inplace=True),\n",
    "            torch.nn.Dropout(0.5),\n",
    "            torch.nn.Linear(256, 128),\n",
    "            torch.nn.ReLU(inplace=True),\n",
    "            torch.nn.Dropout(0.5)\n",
    "        )\n",
    "        self.fc = torch.nn.Linear(128, num_classes)\n",
    "\n",
    "    def forward(self, x):\n",
    "        x = self.features(x)\n",
    "        x = x.view(x.size(0), -1)\n",
    "        x = self.mlp(x)\n",
    "        x = self.fc(x)\n",
    "        return x\n",
    "\n",
    "# 初始化模型\n",
    "model = ModifiedResNet18()\n",
    "\n",
    "# 加载保存的模型权重\n",
    "model_path = resnet_name # 替换为你的模型文件路径\n",
    "model.load_state_dict(torch.load(model_path))\n"
   ]
  },
  {
   "cell_type": "code",
   "execution_count": null,
   "id": "3cce17e2",
   "metadata": {},
   "outputs": [],
   "source": [
    "def create_art_classifier(model):\n",
    "    criterion = nn.CrossEntropyLoss()\n",
    "    optimizer = optim.Adam(model.parameters(), lr=0.01)\n",
    "    classifier = PyTorchClassifier(\n",
    "        model=model,\n",
    "        clip_values=(0, 1),\n",
    "        loss=criterion,\n",
    "        optimizer=optimizer,\n",
    "        input_shape=(3, 32, 32),\n",
    "        nb_classes=10,\n",
    "    )\n",
    "    return classifier\n",
    "classifier=create_art_classifier(model)"
   ]
  },
  {
   "cell_type": "code",
   "execution_count": null,
   "id": "83ba42f5",
   "metadata": {},
   "outputs": [],
   "source": [
    "# 删除airplane这一类\n",
    "if 'airplane' in dataframes:\n",
    "    del dataframes['airplane']\n",
    "    print(\"Deleted 'airplane' class from dataframes.\")\n",
    "else:\n",
    "    print(\"'airplane' class not found in dataframes.\")\n",
    "if 'automobile' in dataframes:\n",
    "    del dataframes['automobile']\n",
    "    print(\"Deleted automobile class from dataframes.\")  \n",
    "if 'bird' in dataframes:\n",
    "    del dataframes['bird']\n",
    "    print(\"Deleted bird class from dataframes.\")  \n",
    "if 'cat' in dataframes:\n",
    "    del dataframes['cat']\n",
    "    print(\"Deleted cat class from dataframes.\")  \n",
    "if 'deer' in dataframes:\n",
    "    del dataframes['deer']\n",
    "    print(\"Deleted deer class from dataframes.\")  \n",
    "if 'dog' in dataframes:\n",
    "    del dataframes['dog']\n",
    "    print(\"Deleted dog class from dataframes.\") \n",
    "if 'frog' in dataframes:\n",
    "    del dataframes['frog']\n",
    "    print(\"Deleted frog class from dataframes.\") "
   ]
  },
  {
   "cell_type": "code",
   "execution_count": 5,
   "id": "36a6b126",
   "metadata": {
    "scrolled": true
   },
   "outputs": [
    {
     "data": {
      "application/vnd.jupyter.widget-view+json": {
       "model_id": "4796b87897e3473faa52d6a3707f9a00",
       "version_major": 2,
       "version_minor": 0
      },
      "text/plain": [
       "DeepFool:   0%|          | 0/1 [00:00<?, ?it/s]"
      ]
     },
     "metadata": {},
     "output_type": "display_data"
    },
    {
     "data": {
      "application/vnd.jupyter.widget-view+json": {
       "model_id": "72cb4e24da3048e9aaf71052a704e7a8",
       "version_major": 2,
       "version_minor": 0
      },
      "text/plain": [
       "DeepFool:   0%|          | 0/1 [00:00<?, ?it/s]"
      ]
     },
     "metadata": {},
     "output_type": "display_data"
    },
    {
     "data": {
      "application/vnd.jupyter.widget-view+json": {
       "model_id": "06cac4d88f484ca8b22116c37074dd84",
       "version_major": 2,
       "version_minor": 0
      },
      "text/plain": [
       "DeepFool:   0%|          | 0/1 [00:00<?, ?it/s]"
      ]
     },
     "metadata": {},
     "output_type": "display_data"
    },
    {
     "data": {
      "application/vnd.jupyter.widget-view+json": {
       "model_id": "f26fbb72603c4190ae9c8ed6ce55d2b6",
       "version_major": 2,
       "version_minor": 0
      },
      "text/plain": [
       "DeepFool:   0%|          | 0/1 [00:00<?, ?it/s]"
      ]
     },
     "metadata": {},
     "output_type": "display_data"
    },
    {
     "data": {
      "application/vnd.jupyter.widget-view+json": {
       "model_id": "86f9a74ed8e346dd9ac3752c3b4c7408",
       "version_major": 2,
       "version_minor": 0
      },
      "text/plain": [
       "DeepFool:   0%|          | 0/1 [00:00<?, ?it/s]"
      ]
     },
     "metadata": {},
     "output_type": "display_data"
    },
    {
     "data": {
      "application/vnd.jupyter.widget-view+json": {
       "model_id": "77c744291e1248a39e31bbbe6a309825",
       "version_major": 2,
       "version_minor": 0
      },
      "text/plain": [
       "DeepFool:   0%|          | 0/1 [00:00<?, ?it/s]"
      ]
     },
     "metadata": {},
     "output_type": "display_data"
    },
    {
     "data": {
      "application/vnd.jupyter.widget-view+json": {
       "model_id": "ec7b54b4b16e4c23a768e32a4bb10bdb",
       "version_major": 2,
       "version_minor": 0
      },
      "text/plain": [
       "DeepFool:   0%|          | 0/1 [00:00<?, ?it/s]"
      ]
     },
     "metadata": {},
     "output_type": "display_data"
    },
    {
     "data": {
      "application/vnd.jupyter.widget-view+json": {
       "model_id": "f5dcf0bc4c1f4520ba1a367dafa60531",
       "version_major": 2,
       "version_minor": 0
      },
      "text/plain": [
       "DeepFool:   0%|          | 0/1 [00:00<?, ?it/s]"
      ]
     },
     "metadata": {},
     "output_type": "display_data"
    },
    {
     "data": {
      "application/vnd.jupyter.widget-view+json": {
       "model_id": "ae06858eef4c431898fc2e4222db4d5c",
       "version_major": 2,
       "version_minor": 0
      },
      "text/plain": [
       "DeepFool:   0%|          | 0/1 [00:00<?, ?it/s]"
      ]
     },
     "metadata": {},
     "output_type": "display_data"
    },
    {
     "name": "stdout",
     "output_type": "stream",
     "text": [
      "Processed 5700 images\n"
     ]
    },
    {
     "data": {
      "application/vnd.jupyter.widget-view+json": {
       "model_id": "44f805fc2cb24297b9775104080c7cf2",
       "version_major": 2,
       "version_minor": 0
      },
      "text/plain": [
       "DeepFool:   0%|          | 0/1 [00:00<?, ?it/s]"
      ]
     },
     "metadata": {},
     "output_type": "display_data"
    },
    {
     "data": {
      "application/vnd.jupyter.widget-view+json": {
       "model_id": "3c8d90205196473da6154f721831e378",
       "version_major": 2,
       "version_minor": 0
      },
      "text/plain": [
       "DeepFool:   0%|          | 0/1 [00:00<?, ?it/s]"
      ]
     },
     "metadata": {},
     "output_type": "display_data"
    },
    {
     "data": {
      "application/vnd.jupyter.widget-view+json": {
       "model_id": "eac13834c5484f41a6906f69a05a4a0e",
       "version_major": 2,
       "version_minor": 0
      },
      "text/plain": [
       "DeepFool:   0%|          | 0/1 [00:00<?, ?it/s]"
      ]
     },
     "metadata": {},
     "output_type": "display_data"
    },
    {
     "data": {
      "application/vnd.jupyter.widget-view+json": {
       "model_id": "9666c58e579245178e282b07d867d047",
       "version_major": 2,
       "version_minor": 0
      },
      "text/plain": [
       "DeepFool:   0%|          | 0/1 [00:00<?, ?it/s]"
      ]
     },
     "metadata": {},
     "output_type": "display_data"
    },
    {
     "data": {
      "application/vnd.jupyter.widget-view+json": {
       "model_id": "47612cf587b44995b8f50aebb041ae63",
       "version_major": 2,
       "version_minor": 0
      },
      "text/plain": [
       "DeepFool:   0%|          | 0/1 [00:00<?, ?it/s]"
      ]
     },
     "metadata": {},
     "output_type": "display_data"
    },
    {
     "data": {
      "application/vnd.jupyter.widget-view+json": {
       "model_id": "f936b8dea48443bbb65c91f6bf6731ff",
       "version_major": 2,
       "version_minor": 0
      },
      "text/plain": [
       "DeepFool:   0%|          | 0/1 [00:00<?, ?it/s]"
      ]
     },
     "metadata": {},
     "output_type": "display_data"
    },
    {
     "data": {
      "application/vnd.jupyter.widget-view+json": {
       "model_id": "c394e6f5f3144e7ca5e95d7880995453",
       "version_major": 2,
       "version_minor": 0
      },
      "text/plain": [
       "DeepFool:   0%|          | 0/1 [00:00<?, ?it/s]"
      ]
     },
     "metadata": {},
     "output_type": "display_data"
    },
    {
     "data": {
      "application/vnd.jupyter.widget-view+json": {
       "model_id": "92cf4cf76399405880c8ac713b45d959",
       "version_major": 2,
       "version_minor": 0
      },
      "text/plain": [
       "DeepFool:   0%|          | 0/1 [00:00<?, ?it/s]"
      ]
     },
     "metadata": {},
     "output_type": "display_data"
    },
    {
     "data": {
      "application/vnd.jupyter.widget-view+json": {
       "model_id": "6311d16e5cb349e5a263aed030a52760",
       "version_major": 2,
       "version_minor": 0
      },
      "text/plain": [
       "DeepFool:   0%|          | 0/1 [00:00<?, ?it/s]"
      ]
     },
     "metadata": {},
     "output_type": "display_data"
    },
    {
     "data": {
      "application/vnd.jupyter.widget-view+json": {
       "model_id": "68fd8651258041d28c8f0f637356ce16",
       "version_major": 2,
       "version_minor": 0
      },
      "text/plain": [
       "DeepFool:   0%|          | 0/1 [00:00<?, ?it/s]"
      ]
     },
     "metadata": {},
     "output_type": "display_data"
    },
    {
     "data": {
      "application/vnd.jupyter.widget-view+json": {
       "model_id": "099ff6561e2f4fae87594ef45873d8a2",
       "version_major": 2,
       "version_minor": 0
      },
      "text/plain": [
       "DeepFool:   0%|          | 0/1 [00:00<?, ?it/s]"
      ]
     },
     "metadata": {},
     "output_type": "display_data"
    },
    {
     "data": {
      "application/vnd.jupyter.widget-view+json": {
       "model_id": "0c88e077e1944e72818e26f59e9af42b",
       "version_major": 2,
       "version_minor": 0
      },
      "text/plain": [
       "DeepFool:   0%|          | 0/1 [00:00<?, ?it/s]"
      ]
     },
     "metadata": {},
     "output_type": "display_data"
    },
    {
     "data": {
      "application/vnd.jupyter.widget-view+json": {
       "model_id": "58ae8fb70cbc4d28b7faa5a49b667f75",
       "version_major": 2,
       "version_minor": 0
      },
      "text/plain": [
       "DeepFool:   0%|          | 0/1 [00:00<?, ?it/s]"
      ]
     },
     "metadata": {},
     "output_type": "display_data"
    },
    {
     "data": {
      "application/vnd.jupyter.widget-view+json": {
       "model_id": "8f5cba6ae078495c9a8efc4516104650",
       "version_major": 2,
       "version_minor": 0
      },
      "text/plain": [
       "DeepFool:   0%|          | 0/1 [00:00<?, ?it/s]"
      ]
     },
     "metadata": {},
     "output_type": "display_data"
    },
    {
     "data": {
      "application/vnd.jupyter.widget-view+json": {
       "model_id": "cfea805b1c9b4769a7a80baadcc9ab34",
       "version_major": 2,
       "version_minor": 0
      },
      "text/plain": [
       "DeepFool:   0%|          | 0/1 [00:00<?, ?it/s]"
      ]
     },
     "metadata": {},
     "output_type": "display_data"
    },
    {
     "data": {
      "application/vnd.jupyter.widget-view+json": {
       "model_id": "7b7d5121dfa44a8598338be35c921049",
       "version_major": 2,
       "version_minor": 0
      },
      "text/plain": [
       "DeepFool:   0%|          | 0/1 [00:00<?, ?it/s]"
      ]
     },
     "metadata": {},
     "output_type": "display_data"
    },
    {
     "data": {
      "application/vnd.jupyter.widget-view+json": {
       "model_id": "7595915d39af408e9a9ed201a6107397",
       "version_major": 2,
       "version_minor": 0
      },
      "text/plain": [
       "DeepFool:   0%|          | 0/1 [00:00<?, ?it/s]"
      ]
     },
     "metadata": {},
     "output_type": "display_data"
    },
    {
     "data": {
      "application/vnd.jupyter.widget-view+json": {
       "model_id": "6cc62586fe1941868499b0422c29e2d3",
       "version_major": 2,
       "version_minor": 0
      },
      "text/plain": [
       "DeepFool:   0%|          | 0/1 [00:00<?, ?it/s]"
      ]
     },
     "metadata": {},
     "output_type": "display_data"
    },
    {
     "data": {
      "application/vnd.jupyter.widget-view+json": {
       "model_id": "0a17df136b074c00bbbd9162c4c25c5f",
       "version_major": 2,
       "version_minor": 0
      },
      "text/plain": [
       "DeepFool:   0%|          | 0/1 [00:00<?, ?it/s]"
      ]
     },
     "metadata": {},
     "output_type": "display_data"
    },
    {
     "data": {
      "application/vnd.jupyter.widget-view+json": {
       "model_id": "0845d90bcd214be5a9e0bb52595e68f6",
       "version_major": 2,
       "version_minor": 0
      },
      "text/plain": [
       "DeepFool:   0%|          | 0/1 [00:00<?, ?it/s]"
      ]
     },
     "metadata": {},
     "output_type": "display_data"
    },
    {
     "data": {
      "application/vnd.jupyter.widget-view+json": {
       "model_id": "86dc6d9f4f424a9a8949f83175449921",
       "version_major": 2,
       "version_minor": 0
      },
      "text/plain": [
       "DeepFool:   0%|          | 0/1 [00:00<?, ?it/s]"
      ]
     },
     "metadata": {},
     "output_type": "display_data"
    },
    {
     "data": {
      "application/vnd.jupyter.widget-view+json": {
       "model_id": "82f6228285444d9887e1091b1ca44793",
       "version_major": 2,
       "version_minor": 0
      },
      "text/plain": [
       "DeepFool:   0%|          | 0/1 [00:00<?, ?it/s]"
      ]
     },
     "metadata": {},
     "output_type": "display_data"
    },
    {
     "data": {
      "application/vnd.jupyter.widget-view+json": {
       "model_id": "d6e793bfdcb04d3babbce974d2ef0f8b",
       "version_major": 2,
       "version_minor": 0
      },
      "text/plain": [
       "DeepFool:   0%|          | 0/1 [00:00<?, ?it/s]"
      ]
     },
     "metadata": {},
     "output_type": "display_data"
    },
    {
     "data": {
      "application/vnd.jupyter.widget-view+json": {
       "model_id": "ce5124c49da042eab75f4292b3be07aa",
       "version_major": 2,
       "version_minor": 0
      },
      "text/plain": [
       "DeepFool:   0%|          | 0/1 [00:00<?, ?it/s]"
      ]
     },
     "metadata": {},
     "output_type": "display_data"
    },
    {
     "data": {
      "application/vnd.jupyter.widget-view+json": {
       "model_id": "6e076ac74de447e78f1c737df7c5a4c2",
       "version_major": 2,
       "version_minor": 0
      },
      "text/plain": [
       "DeepFool:   0%|          | 0/1 [00:00<?, ?it/s]"
      ]
     },
     "metadata": {},
     "output_type": "display_data"
    },
    {
     "data": {
      "application/vnd.jupyter.widget-view+json": {
       "model_id": "244cef33c56148668cdb789fa17d259c",
       "version_major": 2,
       "version_minor": 0
      },
      "text/plain": [
       "DeepFool:   0%|          | 0/1 [00:00<?, ?it/s]"
      ]
     },
     "metadata": {},
     "output_type": "display_data"
    },
    {
     "data": {
      "application/vnd.jupyter.widget-view+json": {
       "model_id": "c5bc462142c1454bbddf3c16459c7657",
       "version_major": 2,
       "version_minor": 0
      },
      "text/plain": [
       "DeepFool:   0%|          | 0/1 [00:00<?, ?it/s]"
      ]
     },
     "metadata": {},
     "output_type": "display_data"
    },
    {
     "data": {
      "application/vnd.jupyter.widget-view+json": {
       "model_id": "cbb0eb41808d43328c1eb0bd8ec7e42d",
       "version_major": 2,
       "version_minor": 0
      },
      "text/plain": [
       "DeepFool:   0%|          | 0/1 [00:00<?, ?it/s]"
      ]
     },
     "metadata": {},
     "output_type": "display_data"
    },
    {
     "data": {
      "application/vnd.jupyter.widget-view+json": {
       "model_id": "b8e193dc29704e18807413678253810e",
       "version_major": 2,
       "version_minor": 0
      },
      "text/plain": [
       "DeepFool:   0%|          | 0/1 [00:00<?, ?it/s]"
      ]
     },
     "metadata": {},
     "output_type": "display_data"
    },
    {
     "data": {
      "application/vnd.jupyter.widget-view+json": {
       "model_id": "9ef54a72168e495993c457701ea49145",
       "version_major": 2,
       "version_minor": 0
      },
      "text/plain": [
       "DeepFool:   0%|          | 0/1 [00:00<?, ?it/s]"
      ]
     },
     "metadata": {},
     "output_type": "display_data"
    },
    {
     "data": {
      "application/vnd.jupyter.widget-view+json": {
       "model_id": "b6a64f0787cc4aa5b025921b5ec9bd0b",
       "version_major": 2,
       "version_minor": 0
      },
      "text/plain": [
       "DeepFool:   0%|          | 0/1 [00:00<?, ?it/s]"
      ]
     },
     "metadata": {},
     "output_type": "display_data"
    },
    {
     "data": {
      "application/vnd.jupyter.widget-view+json": {
       "model_id": "8a21b36cf9fa4c7ba31e777d6436a43e",
       "version_major": 2,
       "version_minor": 0
      },
      "text/plain": [
       "DeepFool:   0%|          | 0/1 [00:00<?, ?it/s]"
      ]
     },
     "metadata": {},
     "output_type": "display_data"
    },
    {
     "data": {
      "application/vnd.jupyter.widget-view+json": {
       "model_id": "2f08582eb4154f68870818c338b029fe",
       "version_major": 2,
       "version_minor": 0
      },
      "text/plain": [
       "DeepFool:   0%|          | 0/1 [00:00<?, ?it/s]"
      ]
     },
     "metadata": {},
     "output_type": "display_data"
    },
    {
     "data": {
      "application/vnd.jupyter.widget-view+json": {
       "model_id": "2a23ac581341499cafe320aea0a4c73b",
       "version_major": 2,
       "version_minor": 0
      },
      "text/plain": [
       "DeepFool:   0%|          | 0/1 [00:00<?, ?it/s]"
      ]
     },
     "metadata": {},
     "output_type": "display_data"
    },
    {
     "data": {
      "application/vnd.jupyter.widget-view+json": {
       "model_id": "43d6507123ba4e2586546ad57cc939aa",
       "version_major": 2,
       "version_minor": 0
      },
      "text/plain": [
       "DeepFool:   0%|          | 0/1 [00:00<?, ?it/s]"
      ]
     },
     "metadata": {},
     "output_type": "display_data"
    },
    {
     "data": {
      "application/vnd.jupyter.widget-view+json": {
       "model_id": "90d6f094b89948db9c27e91e0aae3396",
       "version_major": 2,
       "version_minor": 0
      },
      "text/plain": [
       "DeepFool:   0%|          | 0/1 [00:00<?, ?it/s]"
      ]
     },
     "metadata": {},
     "output_type": "display_data"
    },
    {
     "data": {
      "application/vnd.jupyter.widget-view+json": {
       "model_id": "e90160b6c26d413d85a9ce9f1ef36e97",
       "version_major": 2,
       "version_minor": 0
      },
      "text/plain": [
       "DeepFool:   0%|          | 0/1 [00:00<?, ?it/s]"
      ]
     },
     "metadata": {},
     "output_type": "display_data"
    },
    {
     "data": {
      "application/vnd.jupyter.widget-view+json": {
       "model_id": "d49521bc2c384772b5537dda6b047479",
       "version_major": 2,
       "version_minor": 0
      },
      "text/plain": [
       "DeepFool:   0%|          | 0/1 [00:00<?, ?it/s]"
      ]
     },
     "metadata": {},
     "output_type": "display_data"
    },
    {
     "data": {
      "application/vnd.jupyter.widget-view+json": {
       "model_id": "4fe5ddd36126452ba59a43de9226d189",
       "version_major": 2,
       "version_minor": 0
      },
      "text/plain": [
       "DeepFool:   0%|          | 0/1 [00:00<?, ?it/s]"
      ]
     },
     "metadata": {},
     "output_type": "display_data"
    },
    {
     "data": {
      "application/vnd.jupyter.widget-view+json": {
       "model_id": "df84aa679364428ab0f5702623283416",
       "version_major": 2,
       "version_minor": 0
      },
      "text/plain": [
       "DeepFool:   0%|          | 0/1 [00:00<?, ?it/s]"
      ]
     },
     "metadata": {},
     "output_type": "display_data"
    },
    {
     "data": {
      "application/vnd.jupyter.widget-view+json": {
       "model_id": "0972bdf9ee5e41279fd403275e2effae",
       "version_major": 2,
       "version_minor": 0
      },
      "text/plain": [
       "DeepFool:   0%|          | 0/1 [00:00<?, ?it/s]"
      ]
     },
     "metadata": {},
     "output_type": "display_data"
    },
    {
     "data": {
      "application/vnd.jupyter.widget-view+json": {
       "model_id": "f460b844b0824a999d674292f3818b56",
       "version_major": 2,
       "version_minor": 0
      },
      "text/plain": [
       "DeepFool:   0%|          | 0/1 [00:00<?, ?it/s]"
      ]
     },
     "metadata": {},
     "output_type": "display_data"
    },
    {
     "data": {
      "application/vnd.jupyter.widget-view+json": {
       "model_id": "e12257391d864975b7c9a20702534992",
       "version_major": 2,
       "version_minor": 0
      },
      "text/plain": [
       "DeepFool:   0%|          | 0/1 [00:00<?, ?it/s]"
      ]
     },
     "metadata": {},
     "output_type": "display_data"
    },
    {
     "data": {
      "application/vnd.jupyter.widget-view+json": {
       "model_id": "e9fa11a234f14bd09594bdcc7533d72f",
       "version_major": 2,
       "version_minor": 0
      },
      "text/plain": [
       "DeepFool:   0%|          | 0/1 [00:00<?, ?it/s]"
      ]
     },
     "metadata": {},
     "output_type": "display_data"
    },
    {
     "data": {
      "application/vnd.jupyter.widget-view+json": {
       "model_id": "5cda181086884991a2e12cc67b2fdc38",
       "version_major": 2,
       "version_minor": 0
      },
      "text/plain": [
       "DeepFool:   0%|          | 0/1 [00:00<?, ?it/s]"
      ]
     },
     "metadata": {},
     "output_type": "display_data"
    },
    {
     "data": {
      "application/vnd.jupyter.widget-view+json": {
       "model_id": "bd17e6fca8a949539d3bf63265236f75",
       "version_major": 2,
       "version_minor": 0
      },
      "text/plain": [
       "DeepFool:   0%|          | 0/1 [00:00<?, ?it/s]"
      ]
     },
     "metadata": {},
     "output_type": "display_data"
    },
    {
     "data": {
      "application/vnd.jupyter.widget-view+json": {
       "model_id": "5fdb3b72d03e45ac87a3c08bb866b397",
       "version_major": 2,
       "version_minor": 0
      },
      "text/plain": [
       "DeepFool:   0%|          | 0/1 [00:00<?, ?it/s]"
      ]
     },
     "metadata": {},
     "output_type": "display_data"
    },
    {
     "data": {
      "application/vnd.jupyter.widget-view+json": {
       "model_id": "f87b5327ee7c464eb4992b63a75ee60b",
       "version_major": 2,
       "version_minor": 0
      },
      "text/plain": [
       "DeepFool:   0%|          | 0/1 [00:00<?, ?it/s]"
      ]
     },
     "metadata": {},
     "output_type": "display_data"
    },
    {
     "data": {
      "application/vnd.jupyter.widget-view+json": {
       "model_id": "181b76e81f434e69bbfb534c91d38256",
       "version_major": 2,
       "version_minor": 0
      },
      "text/plain": [
       "DeepFool:   0%|          | 0/1 [00:00<?, ?it/s]"
      ]
     },
     "metadata": {},
     "output_type": "display_data"
    },
    {
     "data": {
      "application/vnd.jupyter.widget-view+json": {
       "model_id": "dcbdabfce95243179a0c662ec45a1618",
       "version_major": 2,
       "version_minor": 0
      },
      "text/plain": [
       "DeepFool:   0%|          | 0/1 [00:00<?, ?it/s]"
      ]
     },
     "metadata": {},
     "output_type": "display_data"
    },
    {
     "data": {
      "application/vnd.jupyter.widget-view+json": {
       "model_id": "42d11dfa95a140539ff2a8a3aa057492",
       "version_major": 2,
       "version_minor": 0
      },
      "text/plain": [
       "DeepFool:   0%|          | 0/1 [00:00<?, ?it/s]"
      ]
     },
     "metadata": {},
     "output_type": "display_data"
    },
    {
     "data": {
      "application/vnd.jupyter.widget-view+json": {
       "model_id": "a309da32dc954feb90e1c6b0c35fb4ab",
       "version_major": 2,
       "version_minor": 0
      },
      "text/plain": [
       "DeepFool:   0%|          | 0/1 [00:00<?, ?it/s]"
      ]
     },
     "metadata": {},
     "output_type": "display_data"
    },
    {
     "data": {
      "application/vnd.jupyter.widget-view+json": {
       "model_id": "452918b3a126420f8f66a29d111dd7ea",
       "version_major": 2,
       "version_minor": 0
      },
      "text/plain": [
       "DeepFool:   0%|          | 0/1 [00:00<?, ?it/s]"
      ]
     },
     "metadata": {},
     "output_type": "display_data"
    },
    {
     "data": {
      "application/vnd.jupyter.widget-view+json": {
       "model_id": "b6bad4ae4c56452a93731a5a76b316be",
       "version_major": 2,
       "version_minor": 0
      },
      "text/plain": [
       "DeepFool:   0%|          | 0/1 [00:00<?, ?it/s]"
      ]
     },
     "metadata": {},
     "output_type": "display_data"
    },
    {
     "data": {
      "application/vnd.jupyter.widget-view+json": {
       "model_id": "54c47bfc9bc34e028030b4674a3a73a1",
       "version_major": 2,
       "version_minor": 0
      },
      "text/plain": [
       "DeepFool:   0%|          | 0/1 [00:00<?, ?it/s]"
      ]
     },
     "metadata": {},
     "output_type": "display_data"
    },
    {
     "data": {
      "application/vnd.jupyter.widget-view+json": {
       "model_id": "5427f62fbb1441938a8af3cf87c2814e",
       "version_major": 2,
       "version_minor": 0
      },
      "text/plain": [
       "DeepFool:   0%|          | 0/1 [00:00<?, ?it/s]"
      ]
     },
     "metadata": {},
     "output_type": "display_data"
    },
    {
     "data": {
      "application/vnd.jupyter.widget-view+json": {
       "model_id": "783acb9c71e94dc9a2f86893c52ef765",
       "version_major": 2,
       "version_minor": 0
      },
      "text/plain": [
       "DeepFool:   0%|          | 0/1 [00:00<?, ?it/s]"
      ]
     },
     "metadata": {},
     "output_type": "display_data"
    },
    {
     "data": {
      "application/vnd.jupyter.widget-view+json": {
       "model_id": "b557c7f23a6945c8b5a702bc2476e6cd",
       "version_major": 2,
       "version_minor": 0
      },
      "text/plain": [
       "DeepFool:   0%|          | 0/1 [00:00<?, ?it/s]"
      ]
     },
     "metadata": {},
     "output_type": "display_data"
    },
    {
     "data": {
      "application/vnd.jupyter.widget-view+json": {
       "model_id": "276336e25ce34b2e927659dc4827a169",
       "version_major": 2,
       "version_minor": 0
      },
      "text/plain": [
       "DeepFool:   0%|          | 0/1 [00:00<?, ?it/s]"
      ]
     },
     "metadata": {},
     "output_type": "display_data"
    },
    {
     "data": {
      "application/vnd.jupyter.widget-view+json": {
       "model_id": "d355b88a2c35489c89ffe258f73e1e72",
       "version_major": 2,
       "version_minor": 0
      },
      "text/plain": [
       "DeepFool:   0%|          | 0/1 [00:00<?, ?it/s]"
      ]
     },
     "metadata": {},
     "output_type": "display_data"
    },
    {
     "data": {
      "application/vnd.jupyter.widget-view+json": {
       "model_id": "35f6becf68b4410a8da92587dcf2da64",
       "version_major": 2,
       "version_minor": 0
      },
      "text/plain": [
       "DeepFool:   0%|          | 0/1 [00:00<?, ?it/s]"
      ]
     },
     "metadata": {},
     "output_type": "display_data"
    },
    {
     "data": {
      "application/vnd.jupyter.widget-view+json": {
       "model_id": "b0b6317db6864242a8d98e3b13a2a31f",
       "version_major": 2,
       "version_minor": 0
      },
      "text/plain": [
       "DeepFool:   0%|          | 0/1 [00:00<?, ?it/s]"
      ]
     },
     "metadata": {},
     "output_type": "display_data"
    },
    {
     "data": {
      "application/vnd.jupyter.widget-view+json": {
       "model_id": "514a07d92f7441ea9ecd2136cae94fcc",
       "version_major": 2,
       "version_minor": 0
      },
      "text/plain": [
       "DeepFool:   0%|          | 0/1 [00:00<?, ?it/s]"
      ]
     },
     "metadata": {},
     "output_type": "display_data"
    },
    {
     "data": {
      "application/vnd.jupyter.widget-view+json": {
       "model_id": "b88cd3ec7fb248ae8c6a5144e00ac3fb",
       "version_major": 2,
       "version_minor": 0
      },
      "text/plain": [
       "DeepFool:   0%|          | 0/1 [00:00<?, ?it/s]"
      ]
     },
     "metadata": {},
     "output_type": "display_data"
    },
    {
     "data": {
      "application/vnd.jupyter.widget-view+json": {
       "model_id": "6e0fb0eaeb9d4eca90c0e05aa4b857d0",
       "version_major": 2,
       "version_minor": 0
      },
      "text/plain": [
       "DeepFool:   0%|          | 0/1 [00:00<?, ?it/s]"
      ]
     },
     "metadata": {},
     "output_type": "display_data"
    },
    {
     "data": {
      "application/vnd.jupyter.widget-view+json": {
       "model_id": "a033b97ac7e949a9ab316740a4d4d7da",
       "version_major": 2,
       "version_minor": 0
      },
      "text/plain": [
       "DeepFool:   0%|          | 0/1 [00:00<?, ?it/s]"
      ]
     },
     "metadata": {},
     "output_type": "display_data"
    },
    {
     "data": {
      "application/vnd.jupyter.widget-view+json": {
       "model_id": "84f13f763369465493a136410bc10586",
       "version_major": 2,
       "version_minor": 0
      },
      "text/plain": [
       "DeepFool:   0%|          | 0/1 [00:00<?, ?it/s]"
      ]
     },
     "metadata": {},
     "output_type": "display_data"
    },
    {
     "data": {
      "application/vnd.jupyter.widget-view+json": {
       "model_id": "da831aff79ad4bb2a93d00fe8fbe53ed",
       "version_major": 2,
       "version_minor": 0
      },
      "text/plain": [
       "DeepFool:   0%|          | 0/1 [00:00<?, ?it/s]"
      ]
     },
     "metadata": {},
     "output_type": "display_data"
    },
    {
     "data": {
      "application/vnd.jupyter.widget-view+json": {
       "model_id": "3285ad4926434e9d95362158dbd91f24",
       "version_major": 2,
       "version_minor": 0
      },
      "text/plain": [
       "DeepFool:   0%|          | 0/1 [00:00<?, ?it/s]"
      ]
     },
     "metadata": {},
     "output_type": "display_data"
    },
    {
     "data": {
      "application/vnd.jupyter.widget-view+json": {
       "model_id": "879e7d3d44cf467f89c65df5a1907c5e",
       "version_major": 2,
       "version_minor": 0
      },
      "text/plain": [
       "DeepFool:   0%|          | 0/1 [00:00<?, ?it/s]"
      ]
     },
     "metadata": {},
     "output_type": "display_data"
    },
    {
     "data": {
      "application/vnd.jupyter.widget-view+json": {
       "model_id": "48d923eccfbf4747bab85a511f7462b2",
       "version_major": 2,
       "version_minor": 0
      },
      "text/plain": [
       "DeepFool:   0%|          | 0/1 [00:00<?, ?it/s]"
      ]
     },
     "metadata": {},
     "output_type": "display_data"
    },
    {
     "data": {
      "application/vnd.jupyter.widget-view+json": {
       "model_id": "764269f049194861a8bb732b7dd9b842",
       "version_major": 2,
       "version_minor": 0
      },
      "text/plain": [
       "DeepFool:   0%|          | 0/1 [00:00<?, ?it/s]"
      ]
     },
     "metadata": {},
     "output_type": "display_data"
    },
    {
     "data": {
      "application/vnd.jupyter.widget-view+json": {
       "model_id": "d47e93d5889347f69a3f1e3352868727",
       "version_major": 2,
       "version_minor": 0
      },
      "text/plain": [
       "DeepFool:   0%|          | 0/1 [00:00<?, ?it/s]"
      ]
     },
     "metadata": {},
     "output_type": "display_data"
    },
    {
     "data": {
      "application/vnd.jupyter.widget-view+json": {
       "model_id": "458a2ba22a6043a797adcafc7993fccf",
       "version_major": 2,
       "version_minor": 0
      },
      "text/plain": [
       "DeepFool:   0%|          | 0/1 [00:00<?, ?it/s]"
      ]
     },
     "metadata": {},
     "output_type": "display_data"
    },
    {
     "data": {
      "application/vnd.jupyter.widget-view+json": {
       "model_id": "94e8b29355134bf98ddb6e1506b35a19",
       "version_major": 2,
       "version_minor": 0
      },
      "text/plain": [
       "DeepFool:   0%|          | 0/1 [00:00<?, ?it/s]"
      ]
     },
     "metadata": {},
     "output_type": "display_data"
    },
    {
     "data": {
      "application/vnd.jupyter.widget-view+json": {
       "model_id": "d3c6b3cb7fd3402d83715d279c7d3a16",
       "version_major": 2,
       "version_minor": 0
      },
      "text/plain": [
       "DeepFool:   0%|          | 0/1 [00:00<?, ?it/s]"
      ]
     },
     "metadata": {},
     "output_type": "display_data"
    },
    {
     "data": {
      "application/vnd.jupyter.widget-view+json": {
       "model_id": "8c874c0928b24758ad5940cf8eef8ef4",
       "version_major": 2,
       "version_minor": 0
      },
      "text/plain": [
       "DeepFool:   0%|          | 0/1 [00:00<?, ?it/s]"
      ]
     },
     "metadata": {},
     "output_type": "display_data"
    },
    {
     "data": {
      "application/vnd.jupyter.widget-view+json": {
       "model_id": "b84f88b018df45e1a6d1cbdb543255f0",
       "version_major": 2,
       "version_minor": 0
      },
      "text/plain": [
       "DeepFool:   0%|          | 0/1 [00:00<?, ?it/s]"
      ]
     },
     "metadata": {},
     "output_type": "display_data"
    },
    {
     "data": {
      "application/vnd.jupyter.widget-view+json": {
       "model_id": "fed163752c4744509aa311924d3d600c",
       "version_major": 2,
       "version_minor": 0
      },
      "text/plain": [
       "DeepFool:   0%|          | 0/1 [00:00<?, ?it/s]"
      ]
     },
     "metadata": {},
     "output_type": "display_data"
    },
    {
     "data": {
      "application/vnd.jupyter.widget-view+json": {
       "model_id": "af323a64d44f491289e9554d86df7d82",
       "version_major": 2,
       "version_minor": 0
      },
      "text/plain": [
       "DeepFool:   0%|          | 0/1 [00:00<?, ?it/s]"
      ]
     },
     "metadata": {},
     "output_type": "display_data"
    },
    {
     "data": {
      "application/vnd.jupyter.widget-view+json": {
       "model_id": "4e4eda03f3c744638842ff049666a35e",
       "version_major": 2,
       "version_minor": 0
      },
      "text/plain": [
       "DeepFool:   0%|          | 0/1 [00:00<?, ?it/s]"
      ]
     },
     "metadata": {},
     "output_type": "display_data"
    },
    {
     "data": {
      "application/vnd.jupyter.widget-view+json": {
       "model_id": "bfc6ce79cc05455199e63eea149d3d37",
       "version_major": 2,
       "version_minor": 0
      },
      "text/plain": [
       "DeepFool:   0%|          | 0/1 [00:00<?, ?it/s]"
      ]
     },
     "metadata": {},
     "output_type": "display_data"
    },
    {
     "data": {
      "application/vnd.jupyter.widget-view+json": {
       "model_id": "4be908edeadd4265b1426e93a550dcde",
       "version_major": 2,
       "version_minor": 0
      },
      "text/plain": [
       "DeepFool:   0%|          | 0/1 [00:00<?, ?it/s]"
      ]
     },
     "metadata": {},
     "output_type": "display_data"
    },
    {
     "data": {
      "application/vnd.jupyter.widget-view+json": {
       "model_id": "78c000dc0d4f48fbbdcdc200b46f639b",
       "version_major": 2,
       "version_minor": 0
      },
      "text/plain": [
       "DeepFool:   0%|          | 0/1 [00:00<?, ?it/s]"
      ]
     },
     "metadata": {},
     "output_type": "display_data"
    },
    {
     "data": {
      "application/vnd.jupyter.widget-view+json": {
       "model_id": "41911253d0864553a3daf9f5b146b891",
       "version_major": 2,
       "version_minor": 0
      },
      "text/plain": [
       "DeepFool:   0%|          | 0/1 [00:00<?, ?it/s]"
      ]
     },
     "metadata": {},
     "output_type": "display_data"
    },
    {
     "data": {
      "application/vnd.jupyter.widget-view+json": {
       "model_id": "33c87699afda4a56a1e4d13b55e2ae9e",
       "version_major": 2,
       "version_minor": 0
      },
      "text/plain": [
       "DeepFool:   0%|          | 0/1 [00:00<?, ?it/s]"
      ]
     },
     "metadata": {},
     "output_type": "display_data"
    },
    {
     "data": {
      "application/vnd.jupyter.widget-view+json": {
       "model_id": "a5fe313a43d5465eaf8368a91d59cf4c",
       "version_major": 2,
       "version_minor": 0
      },
      "text/plain": [
       "DeepFool:   0%|          | 0/1 [00:00<?, ?it/s]"
      ]
     },
     "metadata": {},
     "output_type": "display_data"
    },
    {
     "data": {
      "application/vnd.jupyter.widget-view+json": {
       "model_id": "b15dc94947574d49b6af986f13e376d6",
       "version_major": 2,
       "version_minor": 0
      },
      "text/plain": [
       "DeepFool:   0%|          | 0/1 [00:00<?, ?it/s]"
      ]
     },
     "metadata": {},
     "output_type": "display_data"
    },
    {
     "data": {
      "application/vnd.jupyter.widget-view+json": {
       "model_id": "8e5e9af42c9f46b6afce596d8688ceec",
       "version_major": 2,
       "version_minor": 0
      },
      "text/plain": [
       "DeepFool:   0%|          | 0/1 [00:00<?, ?it/s]"
      ]
     },
     "metadata": {},
     "output_type": "display_data"
    },
    {
     "data": {
      "application/vnd.jupyter.widget-view+json": {
       "model_id": "3277ce84179f4e43b934eecf73b44e21",
       "version_major": 2,
       "version_minor": 0
      },
      "text/plain": [
       "DeepFool:   0%|          | 0/1 [00:00<?, ?it/s]"
      ]
     },
     "metadata": {},
     "output_type": "display_data"
    },
    {
     "data": {
      "application/vnd.jupyter.widget-view+json": {
       "model_id": "be7e6d60b0334b4f8598e6397fbe0951",
       "version_major": 2,
       "version_minor": 0
      },
      "text/plain": [
       "DeepFool:   0%|          | 0/1 [00:00<?, ?it/s]"
      ]
     },
     "metadata": {},
     "output_type": "display_data"
    },
    {
     "data": {
      "application/vnd.jupyter.widget-view+json": {
       "model_id": "bffee86cea9742f3b349aba675a8d9b1",
       "version_major": 2,
       "version_minor": 0
      },
      "text/plain": [
       "DeepFool:   0%|          | 0/1 [00:00<?, ?it/s]"
      ]
     },
     "metadata": {},
     "output_type": "display_data"
    },
    {
     "data": {
      "application/vnd.jupyter.widget-view+json": {
       "model_id": "179ebb6ec38b4d4d8bd3b7afae02f5c7",
       "version_major": 2,
       "version_minor": 0
      },
      "text/plain": [
       "DeepFool:   0%|          | 0/1 [00:00<?, ?it/s]"
      ]
     },
     "metadata": {},
     "output_type": "display_data"
    },
    {
     "data": {
      "application/vnd.jupyter.widget-view+json": {
       "model_id": "553c601442ca4ebb8e52ed45f33af6c9",
       "version_major": 2,
       "version_minor": 0
      },
      "text/plain": [
       "DeepFool:   0%|          | 0/1 [00:00<?, ?it/s]"
      ]
     },
     "metadata": {},
     "output_type": "display_data"
    },
    {
     "data": {
      "application/vnd.jupyter.widget-view+json": {
       "model_id": "f83b252271bc4acbb64d42bd2097f7df",
       "version_major": 2,
       "version_minor": 0
      },
      "text/plain": [
       "DeepFool:   0%|          | 0/1 [00:00<?, ?it/s]"
      ]
     },
     "metadata": {},
     "output_type": "display_data"
    },
    {
     "data": {
      "application/vnd.jupyter.widget-view+json": {
       "model_id": "1501e312641f4330a0ed72838a7a00d6",
       "version_major": 2,
       "version_minor": 0
      },
      "text/plain": [
       "DeepFool:   0%|          | 0/1 [00:00<?, ?it/s]"
      ]
     },
     "metadata": {},
     "output_type": "display_data"
    },
    {
     "data": {
      "application/vnd.jupyter.widget-view+json": {
       "model_id": "c16d1f40313d47e5800e4707fb469f05",
       "version_major": 2,
       "version_minor": 0
      },
      "text/plain": [
       "DeepFool:   0%|          | 0/1 [00:00<?, ?it/s]"
      ]
     },
     "metadata": {},
     "output_type": "display_data"
    },
    {
     "data": {
      "application/vnd.jupyter.widget-view+json": {
       "model_id": "8bf378e4672e43ddbc3477b62ac2926f",
       "version_major": 2,
       "version_minor": 0
      },
      "text/plain": [
       "DeepFool:   0%|          | 0/1 [00:00<?, ?it/s]"
      ]
     },
     "metadata": {},
     "output_type": "display_data"
    },
    {
     "data": {
      "application/vnd.jupyter.widget-view+json": {
       "model_id": "824828a24fac4d4e96a1d58ff5c4020d",
       "version_major": 2,
       "version_minor": 0
      },
      "text/plain": [
       "DeepFool:   0%|          | 0/1 [00:00<?, ?it/s]"
      ]
     },
     "metadata": {},
     "output_type": "display_data"
    },
    {
     "data": {
      "application/vnd.jupyter.widget-view+json": {
       "model_id": "3575f9405b4240f59664dc0eff51367e",
       "version_major": 2,
       "version_minor": 0
      },
      "text/plain": [
       "DeepFool:   0%|          | 0/1 [00:00<?, ?it/s]"
      ]
     },
     "metadata": {},
     "output_type": "display_data"
    },
    {
     "name": "stdout",
     "output_type": "stream",
     "text": [
      "Processed 5800 images\n"
     ]
    },
    {
     "data": {
      "application/vnd.jupyter.widget-view+json": {
       "model_id": "c18353b020b84c3fa4e9165e8bb2bfc5",
       "version_major": 2,
       "version_minor": 0
      },
      "text/plain": [
       "DeepFool:   0%|          | 0/1 [00:00<?, ?it/s]"
      ]
     },
     "metadata": {},
     "output_type": "display_data"
    },
    {
     "data": {
      "application/vnd.jupyter.widget-view+json": {
       "model_id": "41c867d05b5c42c4870fecf8df405077",
       "version_major": 2,
       "version_minor": 0
      },
      "text/plain": [
       "DeepFool:   0%|          | 0/1 [00:00<?, ?it/s]"
      ]
     },
     "metadata": {},
     "output_type": "display_data"
    },
    {
     "data": {
      "application/vnd.jupyter.widget-view+json": {
       "model_id": "0d4b7f4776a5466587882eb364a40c4f",
       "version_major": 2,
       "version_minor": 0
      },
      "text/plain": [
       "DeepFool:   0%|          | 0/1 [00:00<?, ?it/s]"
      ]
     },
     "metadata": {},
     "output_type": "display_data"
    },
    {
     "data": {
      "application/vnd.jupyter.widget-view+json": {
       "model_id": "57847413609c42a0b46994b3f1cb6d0d",
       "version_major": 2,
       "version_minor": 0
      },
      "text/plain": [
       "DeepFool:   0%|          | 0/1 [00:00<?, ?it/s]"
      ]
     },
     "metadata": {},
     "output_type": "display_data"
    },
    {
     "data": {
      "application/vnd.jupyter.widget-view+json": {
       "model_id": "9f728b5ecdca48bbac7d88b51e31cb1b",
       "version_major": 2,
       "version_minor": 0
      },
      "text/plain": [
       "DeepFool:   0%|          | 0/1 [00:00<?, ?it/s]"
      ]
     },
     "metadata": {},
     "output_type": "display_data"
    },
    {
     "data": {
      "application/vnd.jupyter.widget-view+json": {
       "model_id": "3ccc6440e72e402b9a99548dd395546c",
       "version_major": 2,
       "version_minor": 0
      },
      "text/plain": [
       "DeepFool:   0%|          | 0/1 [00:00<?, ?it/s]"
      ]
     },
     "metadata": {},
     "output_type": "display_data"
    },
    {
     "data": {
      "application/vnd.jupyter.widget-view+json": {
       "model_id": "8c09b2dc92da41ca83198e4289596047",
       "version_major": 2,
       "version_minor": 0
      },
      "text/plain": [
       "DeepFool:   0%|          | 0/1 [00:00<?, ?it/s]"
      ]
     },
     "metadata": {},
     "output_type": "display_data"
    },
    {
     "data": {
      "application/vnd.jupyter.widget-view+json": {
       "model_id": "7cbeb10063a4461880c4e92da229c9b8",
       "version_major": 2,
       "version_minor": 0
      },
      "text/plain": [
       "DeepFool:   0%|          | 0/1 [00:00<?, ?it/s]"
      ]
     },
     "metadata": {},
     "output_type": "display_data"
    },
    {
     "data": {
      "application/vnd.jupyter.widget-view+json": {
       "model_id": "c12ec1eded75493fa596b870013b1d4e",
       "version_major": 2,
       "version_minor": 0
      },
      "text/plain": [
       "DeepFool:   0%|          | 0/1 [00:00<?, ?it/s]"
      ]
     },
     "metadata": {},
     "output_type": "display_data"
    },
    {
     "data": {
      "application/vnd.jupyter.widget-view+json": {
       "model_id": "90bf9efa89694ce68d0727cca8124375",
       "version_major": 2,
       "version_minor": 0
      },
      "text/plain": [
       "DeepFool:   0%|          | 0/1 [00:00<?, ?it/s]"
      ]
     },
     "metadata": {},
     "output_type": "display_data"
    },
    {
     "data": {
      "application/vnd.jupyter.widget-view+json": {
       "model_id": "9fe436b1bc1846578a59e4ea516b56c3",
       "version_major": 2,
       "version_minor": 0
      },
      "text/plain": [
       "DeepFool:   0%|          | 0/1 [00:00<?, ?it/s]"
      ]
     },
     "metadata": {},
     "output_type": "display_data"
    },
    {
     "data": {
      "application/vnd.jupyter.widget-view+json": {
       "model_id": "a0399e37ad724970b1010630db626f8d",
       "version_major": 2,
       "version_minor": 0
      },
      "text/plain": [
       "DeepFool:   0%|          | 0/1 [00:00<?, ?it/s]"
      ]
     },
     "metadata": {},
     "output_type": "display_data"
    },
    {
     "data": {
      "application/vnd.jupyter.widget-view+json": {
       "model_id": "58d0289f43f04c3d85eef54bc7cba73f",
       "version_major": 2,
       "version_minor": 0
      },
      "text/plain": [
       "DeepFool:   0%|          | 0/1 [00:00<?, ?it/s]"
      ]
     },
     "metadata": {},
     "output_type": "display_data"
    },
    {
     "data": {
      "application/vnd.jupyter.widget-view+json": {
       "model_id": "50bda17909dd4d7f9b7f74a2aaf28463",
       "version_major": 2,
       "version_minor": 0
      },
      "text/plain": [
       "DeepFool:   0%|          | 0/1 [00:00<?, ?it/s]"
      ]
     },
     "metadata": {},
     "output_type": "display_data"
    },
    {
     "data": {
      "application/vnd.jupyter.widget-view+json": {
       "model_id": "1e71eb7f28e64bb2956f810a6f7edff1",
       "version_major": 2,
       "version_minor": 0
      },
      "text/plain": [
       "DeepFool:   0%|          | 0/1 [00:00<?, ?it/s]"
      ]
     },
     "metadata": {},
     "output_type": "display_data"
    },
    {
     "data": {
      "application/vnd.jupyter.widget-view+json": {
       "model_id": "fb2deb49fab248c0a182096015828c4e",
       "version_major": 2,
       "version_minor": 0
      },
      "text/plain": [
       "DeepFool:   0%|          | 0/1 [00:00<?, ?it/s]"
      ]
     },
     "metadata": {},
     "output_type": "display_data"
    },
    {
     "data": {
      "application/vnd.jupyter.widget-view+json": {
       "model_id": "0a00d1afecce43b19323ddcf4e4e3095",
       "version_major": 2,
       "version_minor": 0
      },
      "text/plain": [
       "DeepFool:   0%|          | 0/1 [00:00<?, ?it/s]"
      ]
     },
     "metadata": {},
     "output_type": "display_data"
    },
    {
     "data": {
      "application/vnd.jupyter.widget-view+json": {
       "model_id": "addfbef5d7c04d5286c4a9e1a642ce91",
       "version_major": 2,
       "version_minor": 0
      },
      "text/plain": [
       "DeepFool:   0%|          | 0/1 [00:00<?, ?it/s]"
      ]
     },
     "metadata": {},
     "output_type": "display_data"
    },
    {
     "data": {
      "application/vnd.jupyter.widget-view+json": {
       "model_id": "d9742c1bf85c4a619f4c48847fef21fe",
       "version_major": 2,
       "version_minor": 0
      },
      "text/plain": [
       "DeepFool:   0%|          | 0/1 [00:00<?, ?it/s]"
      ]
     },
     "metadata": {},
     "output_type": "display_data"
    },
    {
     "data": {
      "application/vnd.jupyter.widget-view+json": {
       "model_id": "d6a887caeea74adab80c41e0201b4851",
       "version_major": 2,
       "version_minor": 0
      },
      "text/plain": [
       "DeepFool:   0%|          | 0/1 [00:00<?, ?it/s]"
      ]
     },
     "metadata": {},
     "output_type": "display_data"
    },
    {
     "data": {
      "application/vnd.jupyter.widget-view+json": {
       "model_id": "4fbc1f081af046d8b1b84aadfdd206ba",
       "version_major": 2,
       "version_minor": 0
      },
      "text/plain": [
       "DeepFool:   0%|          | 0/1 [00:00<?, ?it/s]"
      ]
     },
     "metadata": {},
     "output_type": "display_data"
    },
    {
     "data": {
      "application/vnd.jupyter.widget-view+json": {
       "model_id": "907387fb7b324c57856f798f39550314",
       "version_major": 2,
       "version_minor": 0
      },
      "text/plain": [
       "DeepFool:   0%|          | 0/1 [00:00<?, ?it/s]"
      ]
     },
     "metadata": {},
     "output_type": "display_data"
    },
    {
     "data": {
      "application/vnd.jupyter.widget-view+json": {
       "model_id": "60fe4e24b3a647e797105aa3e2ffc298",
       "version_major": 2,
       "version_minor": 0
      },
      "text/plain": [
       "DeepFool:   0%|          | 0/1 [00:00<?, ?it/s]"
      ]
     },
     "metadata": {},
     "output_type": "display_data"
    },
    {
     "data": {
      "application/vnd.jupyter.widget-view+json": {
       "model_id": "677e42fb524d4f04b55b41500a6bed47",
       "version_major": 2,
       "version_minor": 0
      },
      "text/plain": [
       "DeepFool:   0%|          | 0/1 [00:00<?, ?it/s]"
      ]
     },
     "metadata": {},
     "output_type": "display_data"
    },
    {
     "data": {
      "application/vnd.jupyter.widget-view+json": {
       "model_id": "32d836a623a9409c9b0caf38298e8cbe",
       "version_major": 2,
       "version_minor": 0
      },
      "text/plain": [
       "DeepFool:   0%|          | 0/1 [00:00<?, ?it/s]"
      ]
     },
     "metadata": {},
     "output_type": "display_data"
    },
    {
     "data": {
      "application/vnd.jupyter.widget-view+json": {
       "model_id": "d6b2ccf9537d4f9e988412265dc1f135",
       "version_major": 2,
       "version_minor": 0
      },
      "text/plain": [
       "DeepFool:   0%|          | 0/1 [00:00<?, ?it/s]"
      ]
     },
     "metadata": {},
     "output_type": "display_data"
    },
    {
     "data": {
      "application/vnd.jupyter.widget-view+json": {
       "model_id": "52d0b5c4afeb439292a1923e57962ec2",
       "version_major": 2,
       "version_minor": 0
      },
      "text/plain": [
       "DeepFool:   0%|          | 0/1 [00:00<?, ?it/s]"
      ]
     },
     "metadata": {},
     "output_type": "display_data"
    },
    {
     "data": {
      "application/vnd.jupyter.widget-view+json": {
       "model_id": "1a0c3c812d2c4f13a6fd7e52d2dc1755",
       "version_major": 2,
       "version_minor": 0
      },
      "text/plain": [
       "DeepFool:   0%|          | 0/1 [00:00<?, ?it/s]"
      ]
     },
     "metadata": {},
     "output_type": "display_data"
    },
    {
     "data": {
      "application/vnd.jupyter.widget-view+json": {
       "model_id": "aa3e541762894eb6a1ec5d8f0b745d44",
       "version_major": 2,
       "version_minor": 0
      },
      "text/plain": [
       "DeepFool:   0%|          | 0/1 [00:00<?, ?it/s]"
      ]
     },
     "metadata": {},
     "output_type": "display_data"
    },
    {
     "data": {
      "application/vnd.jupyter.widget-view+json": {
       "model_id": "b3fe8d7cf30c4de98531e0d63a082393",
       "version_major": 2,
       "version_minor": 0
      },
      "text/plain": [
       "DeepFool:   0%|          | 0/1 [00:00<?, ?it/s]"
      ]
     },
     "metadata": {},
     "output_type": "display_data"
    },
    {
     "data": {
      "application/vnd.jupyter.widget-view+json": {
       "model_id": "8797cd7b572545c18d158f647411e9d7",
       "version_major": 2,
       "version_minor": 0
      },
      "text/plain": [
       "DeepFool:   0%|          | 0/1 [00:00<?, ?it/s]"
      ]
     },
     "metadata": {},
     "output_type": "display_data"
    },
    {
     "data": {
      "application/vnd.jupyter.widget-view+json": {
       "model_id": "fc1917ea499d4219a5ab502b1c4f1a8b",
       "version_major": 2,
       "version_minor": 0
      },
      "text/plain": [
       "DeepFool:   0%|          | 0/1 [00:00<?, ?it/s]"
      ]
     },
     "metadata": {},
     "output_type": "display_data"
    },
    {
     "data": {
      "application/vnd.jupyter.widget-view+json": {
       "model_id": "d9b59170017946b5b635dcad7cc7d58c",
       "version_major": 2,
       "version_minor": 0
      },
      "text/plain": [
       "DeepFool:   0%|          | 0/1 [00:00<?, ?it/s]"
      ]
     },
     "metadata": {},
     "output_type": "display_data"
    },
    {
     "data": {
      "application/vnd.jupyter.widget-view+json": {
       "model_id": "6a5f30fa747e4568a239512ab9a3ecf6",
       "version_major": 2,
       "version_minor": 0
      },
      "text/plain": [
       "DeepFool:   0%|          | 0/1 [00:00<?, ?it/s]"
      ]
     },
     "metadata": {},
     "output_type": "display_data"
    },
    {
     "data": {
      "application/vnd.jupyter.widget-view+json": {
       "model_id": "0374f9ca574f4d59a45cadf3cce3fa8c",
       "version_major": 2,
       "version_minor": 0
      },
      "text/plain": [
       "DeepFool:   0%|          | 0/1 [00:00<?, ?it/s]"
      ]
     },
     "metadata": {},
     "output_type": "display_data"
    },
    {
     "data": {
      "application/vnd.jupyter.widget-view+json": {
       "model_id": "b6aa6ecc2aad42908cacdfd7b3145efd",
       "version_major": 2,
       "version_minor": 0
      },
      "text/plain": [
       "DeepFool:   0%|          | 0/1 [00:00<?, ?it/s]"
      ]
     },
     "metadata": {},
     "output_type": "display_data"
    },
    {
     "data": {
      "application/vnd.jupyter.widget-view+json": {
       "model_id": "3467f820d1374acc8d25a1b987b1e6af",
       "version_major": 2,
       "version_minor": 0
      },
      "text/plain": [
       "DeepFool:   0%|          | 0/1 [00:00<?, ?it/s]"
      ]
     },
     "metadata": {},
     "output_type": "display_data"
    },
    {
     "data": {
      "application/vnd.jupyter.widget-view+json": {
       "model_id": "8c910a18bbcb48cebf646a3b0094afbf",
       "version_major": 2,
       "version_minor": 0
      },
      "text/plain": [
       "DeepFool:   0%|          | 0/1 [00:00<?, ?it/s]"
      ]
     },
     "metadata": {},
     "output_type": "display_data"
    },
    {
     "data": {
      "application/vnd.jupyter.widget-view+json": {
       "model_id": "5dbd30571ecf4c1092617fd28c8e24e3",
       "version_major": 2,
       "version_minor": 0
      },
      "text/plain": [
       "DeepFool:   0%|          | 0/1 [00:00<?, ?it/s]"
      ]
     },
     "metadata": {},
     "output_type": "display_data"
    },
    {
     "data": {
      "application/vnd.jupyter.widget-view+json": {
       "model_id": "7950b47b48684c27be95c4e117c027e2",
       "version_major": 2,
       "version_minor": 0
      },
      "text/plain": [
       "DeepFool:   0%|          | 0/1 [00:00<?, ?it/s]"
      ]
     },
     "metadata": {},
     "output_type": "display_data"
    },
    {
     "data": {
      "application/vnd.jupyter.widget-view+json": {
       "model_id": "eca6d57fa66d4fb68523dd5400626c79",
       "version_major": 2,
       "version_minor": 0
      },
      "text/plain": [
       "DeepFool:   0%|          | 0/1 [00:00<?, ?it/s]"
      ]
     },
     "metadata": {},
     "output_type": "display_data"
    },
    {
     "data": {
      "application/vnd.jupyter.widget-view+json": {
       "model_id": "1582fe95729e4d88abd433f063102027",
       "version_major": 2,
       "version_minor": 0
      },
      "text/plain": [
       "DeepFool:   0%|          | 0/1 [00:00<?, ?it/s]"
      ]
     },
     "metadata": {},
     "output_type": "display_data"
    },
    {
     "data": {
      "application/vnd.jupyter.widget-view+json": {
       "model_id": "52301944775b4897995fb97c1b8aef62",
       "version_major": 2,
       "version_minor": 0
      },
      "text/plain": [
       "DeepFool:   0%|          | 0/1 [00:00<?, ?it/s]"
      ]
     },
     "metadata": {},
     "output_type": "display_data"
    },
    {
     "data": {
      "application/vnd.jupyter.widget-view+json": {
       "model_id": "338b39932ee24752bd85f60052484e09",
       "version_major": 2,
       "version_minor": 0
      },
      "text/plain": [
       "DeepFool:   0%|          | 0/1 [00:00<?, ?it/s]"
      ]
     },
     "metadata": {},
     "output_type": "display_data"
    },
    {
     "data": {
      "application/vnd.jupyter.widget-view+json": {
       "model_id": "14c54beb75fe4a6e953b7e82d869ca24",
       "version_major": 2,
       "version_minor": 0
      },
      "text/plain": [
       "DeepFool:   0%|          | 0/1 [00:00<?, ?it/s]"
      ]
     },
     "metadata": {},
     "output_type": "display_data"
    },
    {
     "data": {
      "application/vnd.jupyter.widget-view+json": {
       "model_id": "e8c3961a6c0a4f09a2ed4bfe55b46b16",
       "version_major": 2,
       "version_minor": 0
      },
      "text/plain": [
       "DeepFool:   0%|          | 0/1 [00:00<?, ?it/s]"
      ]
     },
     "metadata": {},
     "output_type": "display_data"
    },
    {
     "data": {
      "application/vnd.jupyter.widget-view+json": {
       "model_id": "f9a30d131dce4bb19ad64ddddb27079c",
       "version_major": 2,
       "version_minor": 0
      },
      "text/plain": [
       "DeepFool:   0%|          | 0/1 [00:00<?, ?it/s]"
      ]
     },
     "metadata": {},
     "output_type": "display_data"
    },
    {
     "data": {
      "application/vnd.jupyter.widget-view+json": {
       "model_id": "ae30da0519a041c284e715df24aedacc",
       "version_major": 2,
       "version_minor": 0
      },
      "text/plain": [
       "DeepFool:   0%|          | 0/1 [00:00<?, ?it/s]"
      ]
     },
     "metadata": {},
     "output_type": "display_data"
    },
    {
     "data": {
      "application/vnd.jupyter.widget-view+json": {
       "model_id": "3eeb59c6e9c4491987bdeb61f1706101",
       "version_major": 2,
       "version_minor": 0
      },
      "text/plain": [
       "DeepFool:   0%|          | 0/1 [00:00<?, ?it/s]"
      ]
     },
     "metadata": {},
     "output_type": "display_data"
    },
    {
     "data": {
      "application/vnd.jupyter.widget-view+json": {
       "model_id": "510d0d0352c24de19bc416ec352514e9",
       "version_major": 2,
       "version_minor": 0
      },
      "text/plain": [
       "DeepFool:   0%|          | 0/1 [00:00<?, ?it/s]"
      ]
     },
     "metadata": {},
     "output_type": "display_data"
    },
    {
     "data": {
      "application/vnd.jupyter.widget-view+json": {
       "model_id": "f3d0718066cc4802bdf0db0d1e1de3e1",
       "version_major": 2,
       "version_minor": 0
      },
      "text/plain": [
       "DeepFool:   0%|          | 0/1 [00:00<?, ?it/s]"
      ]
     },
     "metadata": {},
     "output_type": "display_data"
    },
    {
     "data": {
      "application/vnd.jupyter.widget-view+json": {
       "model_id": "3dad5b523296437e8e6959d0388c2110",
       "version_major": 2,
       "version_minor": 0
      },
      "text/plain": [
       "DeepFool:   0%|          | 0/1 [00:00<?, ?it/s]"
      ]
     },
     "metadata": {},
     "output_type": "display_data"
    },
    {
     "data": {
      "application/vnd.jupyter.widget-view+json": {
       "model_id": "a15fdd09cb14490184708dc5a170a1be",
       "version_major": 2,
       "version_minor": 0
      },
      "text/plain": [
       "DeepFool:   0%|          | 0/1 [00:00<?, ?it/s]"
      ]
     },
     "metadata": {},
     "output_type": "display_data"
    },
    {
     "data": {
      "application/vnd.jupyter.widget-view+json": {
       "model_id": "0b16190b7b2447f49357a5c1a552827c",
       "version_major": 2,
       "version_minor": 0
      },
      "text/plain": [
       "DeepFool:   0%|          | 0/1 [00:00<?, ?it/s]"
      ]
     },
     "metadata": {},
     "output_type": "display_data"
    },
    {
     "data": {
      "application/vnd.jupyter.widget-view+json": {
       "model_id": "e2c221e7f0b6490b93c80c9a266cd899",
       "version_major": 2,
       "version_minor": 0
      },
      "text/plain": [
       "DeepFool:   0%|          | 0/1 [00:00<?, ?it/s]"
      ]
     },
     "metadata": {},
     "output_type": "display_data"
    },
    {
     "data": {
      "application/vnd.jupyter.widget-view+json": {
       "model_id": "23e6e615315c4c9d9d6c5dfd840686b6",
       "version_major": 2,
       "version_minor": 0
      },
      "text/plain": [
       "DeepFool:   0%|          | 0/1 [00:00<?, ?it/s]"
      ]
     },
     "metadata": {},
     "output_type": "display_data"
    },
    {
     "data": {
      "application/vnd.jupyter.widget-view+json": {
       "model_id": "7ea132781b254ea1b7e8a92d9b14664f",
       "version_major": 2,
       "version_minor": 0
      },
      "text/plain": [
       "DeepFool:   0%|          | 0/1 [00:00<?, ?it/s]"
      ]
     },
     "metadata": {},
     "output_type": "display_data"
    },
    {
     "data": {
      "application/vnd.jupyter.widget-view+json": {
       "model_id": "3dc93a61d10e430194737c18609004ac",
       "version_major": 2,
       "version_minor": 0
      },
      "text/plain": [
       "DeepFool:   0%|          | 0/1 [00:00<?, ?it/s]"
      ]
     },
     "metadata": {},
     "output_type": "display_data"
    },
    {
     "data": {
      "application/vnd.jupyter.widget-view+json": {
       "model_id": "d37380e7c6c74a1a97526559970de63f",
       "version_major": 2,
       "version_minor": 0
      },
      "text/plain": [
       "DeepFool:   0%|          | 0/1 [00:00<?, ?it/s]"
      ]
     },
     "metadata": {},
     "output_type": "display_data"
    },
    {
     "data": {
      "application/vnd.jupyter.widget-view+json": {
       "model_id": "c202417cf06c4de0aa197ab6831be62e",
       "version_major": 2,
       "version_minor": 0
      },
      "text/plain": [
       "DeepFool:   0%|          | 0/1 [00:00<?, ?it/s]"
      ]
     },
     "metadata": {},
     "output_type": "display_data"
    },
    {
     "data": {
      "application/vnd.jupyter.widget-view+json": {
       "model_id": "903affc081134db189d63518c428b656",
       "version_major": 2,
       "version_minor": 0
      },
      "text/plain": [
       "DeepFool:   0%|          | 0/1 [00:00<?, ?it/s]"
      ]
     },
     "metadata": {},
     "output_type": "display_data"
    },
    {
     "data": {
      "application/vnd.jupyter.widget-view+json": {
       "model_id": "4d27a4cc8050423092d153cca523c642",
       "version_major": 2,
       "version_minor": 0
      },
      "text/plain": [
       "DeepFool:   0%|          | 0/1 [00:00<?, ?it/s]"
      ]
     },
     "metadata": {},
     "output_type": "display_data"
    },
    {
     "data": {
      "application/vnd.jupyter.widget-view+json": {
       "model_id": "1fbd67894cd14f57a7ec6fb8c325e5a8",
       "version_major": 2,
       "version_minor": 0
      },
      "text/plain": [
       "DeepFool:   0%|          | 0/1 [00:00<?, ?it/s]"
      ]
     },
     "metadata": {},
     "output_type": "display_data"
    },
    {
     "data": {
      "application/vnd.jupyter.widget-view+json": {
       "model_id": "c194560045b9499e9f8657e2f1834ae3",
       "version_major": 2,
       "version_minor": 0
      },
      "text/plain": [
       "DeepFool:   0%|          | 0/1 [00:00<?, ?it/s]"
      ]
     },
     "metadata": {},
     "output_type": "display_data"
    },
    {
     "data": {
      "application/vnd.jupyter.widget-view+json": {
       "model_id": "f021e2278e7240569cf1756e0b22d0d6",
       "version_major": 2,
       "version_minor": 0
      },
      "text/plain": [
       "DeepFool:   0%|          | 0/1 [00:00<?, ?it/s]"
      ]
     },
     "metadata": {},
     "output_type": "display_data"
    },
    {
     "data": {
      "application/vnd.jupyter.widget-view+json": {
       "model_id": "f9767e0f0bb6430e8b65919365d70466",
       "version_major": 2,
       "version_minor": 0
      },
      "text/plain": [
       "DeepFool:   0%|          | 0/1 [00:00<?, ?it/s]"
      ]
     },
     "metadata": {},
     "output_type": "display_data"
    },
    {
     "data": {
      "application/vnd.jupyter.widget-view+json": {
       "model_id": "b8eb504b9f274525a28d5f26f95356f0",
       "version_major": 2,
       "version_minor": 0
      },
      "text/plain": [
       "DeepFool:   0%|          | 0/1 [00:00<?, ?it/s]"
      ]
     },
     "metadata": {},
     "output_type": "display_data"
    },
    {
     "data": {
      "application/vnd.jupyter.widget-view+json": {
       "model_id": "96d958d1c7054aa1b6ef406f8a905368",
       "version_major": 2,
       "version_minor": 0
      },
      "text/plain": [
       "DeepFool:   0%|          | 0/1 [00:00<?, ?it/s]"
      ]
     },
     "metadata": {},
     "output_type": "display_data"
    },
    {
     "data": {
      "application/vnd.jupyter.widget-view+json": {
       "model_id": "fa54278ec7cb4ba59b2b61215054e1b2",
       "version_major": 2,
       "version_minor": 0
      },
      "text/plain": [
       "DeepFool:   0%|          | 0/1 [00:00<?, ?it/s]"
      ]
     },
     "metadata": {},
     "output_type": "display_data"
    },
    {
     "data": {
      "application/vnd.jupyter.widget-view+json": {
       "model_id": "638bfb182ff9406aab19087b83cd908f",
       "version_major": 2,
       "version_minor": 0
      },
      "text/plain": [
       "DeepFool:   0%|          | 0/1 [00:00<?, ?it/s]"
      ]
     },
     "metadata": {},
     "output_type": "display_data"
    },
    {
     "data": {
      "application/vnd.jupyter.widget-view+json": {
       "model_id": "20e2b135edd74e7eae2953ca0362624c",
       "version_major": 2,
       "version_minor": 0
      },
      "text/plain": [
       "DeepFool:   0%|          | 0/1 [00:00<?, ?it/s]"
      ]
     },
     "metadata": {},
     "output_type": "display_data"
    },
    {
     "data": {
      "application/vnd.jupyter.widget-view+json": {
       "model_id": "0374364f935742b0ac455fc43163ee94",
       "version_major": 2,
       "version_minor": 0
      },
      "text/plain": [
       "DeepFool:   0%|          | 0/1 [00:00<?, ?it/s]"
      ]
     },
     "metadata": {},
     "output_type": "display_data"
    },
    {
     "data": {
      "application/vnd.jupyter.widget-view+json": {
       "model_id": "ee37cf188c1c49b09671eeb3a6a13419",
       "version_major": 2,
       "version_minor": 0
      },
      "text/plain": [
       "DeepFool:   0%|          | 0/1 [00:00<?, ?it/s]"
      ]
     },
     "metadata": {},
     "output_type": "display_data"
    },
    {
     "data": {
      "application/vnd.jupyter.widget-view+json": {
       "model_id": "41ead29a6813450fa9d537cf76dd9d0b",
       "version_major": 2,
       "version_minor": 0
      },
      "text/plain": [
       "DeepFool:   0%|          | 0/1 [00:00<?, ?it/s]"
      ]
     },
     "metadata": {},
     "output_type": "display_data"
    },
    {
     "data": {
      "application/vnd.jupyter.widget-view+json": {
       "model_id": "6cafa4e244824ba684f0daa74ed9b3cb",
       "version_major": 2,
       "version_minor": 0
      },
      "text/plain": [
       "DeepFool:   0%|          | 0/1 [00:00<?, ?it/s]"
      ]
     },
     "metadata": {},
     "output_type": "display_data"
    },
    {
     "data": {
      "application/vnd.jupyter.widget-view+json": {
       "model_id": "151cfd05d96e4104a5fe7bfe5f93864a",
       "version_major": 2,
       "version_minor": 0
      },
      "text/plain": [
       "DeepFool:   0%|          | 0/1 [00:00<?, ?it/s]"
      ]
     },
     "metadata": {},
     "output_type": "display_data"
    },
    {
     "data": {
      "application/vnd.jupyter.widget-view+json": {
       "model_id": "cf0cc5b93b06420dab68ff317882da33",
       "version_major": 2,
       "version_minor": 0
      },
      "text/plain": [
       "DeepFool:   0%|          | 0/1 [00:00<?, ?it/s]"
      ]
     },
     "metadata": {},
     "output_type": "display_data"
    },
    {
     "data": {
      "application/vnd.jupyter.widget-view+json": {
       "model_id": "6dc175c964304d52afc11c145449fa12",
       "version_major": 2,
       "version_minor": 0
      },
      "text/plain": [
       "DeepFool:   0%|          | 0/1 [00:00<?, ?it/s]"
      ]
     },
     "metadata": {},
     "output_type": "display_data"
    },
    {
     "data": {
      "application/vnd.jupyter.widget-view+json": {
       "model_id": "ff02590e8405416caa81f03e3c9f4b96",
       "version_major": 2,
       "version_minor": 0
      },
      "text/plain": [
       "DeepFool:   0%|          | 0/1 [00:00<?, ?it/s]"
      ]
     },
     "metadata": {},
     "output_type": "display_data"
    },
    {
     "data": {
      "application/vnd.jupyter.widget-view+json": {
       "model_id": "34f0438bc36e42d49a7f2eb0dbdbc846",
       "version_major": 2,
       "version_minor": 0
      },
      "text/plain": [
       "DeepFool:   0%|          | 0/1 [00:00<?, ?it/s]"
      ]
     },
     "metadata": {},
     "output_type": "display_data"
    },
    {
     "data": {
      "application/vnd.jupyter.widget-view+json": {
       "model_id": "a4ba451bb23847a7ac42b0677833ca79",
       "version_major": 2,
       "version_minor": 0
      },
      "text/plain": [
       "DeepFool:   0%|          | 0/1 [00:00<?, ?it/s]"
      ]
     },
     "metadata": {},
     "output_type": "display_data"
    },
    {
     "data": {
      "application/vnd.jupyter.widget-view+json": {
       "model_id": "e82eee13ce854ea3bf65cf2004122305",
       "version_major": 2,
       "version_minor": 0
      },
      "text/plain": [
       "DeepFool:   0%|          | 0/1 [00:00<?, ?it/s]"
      ]
     },
     "metadata": {},
     "output_type": "display_data"
    },
    {
     "data": {
      "application/vnd.jupyter.widget-view+json": {
       "model_id": "b1c7760a783946bc97814cab962fd086",
       "version_major": 2,
       "version_minor": 0
      },
      "text/plain": [
       "DeepFool:   0%|          | 0/1 [00:00<?, ?it/s]"
      ]
     },
     "metadata": {},
     "output_type": "display_data"
    },
    {
     "data": {
      "application/vnd.jupyter.widget-view+json": {
       "model_id": "37c7b6ea8c2c4236864c8d517cb4908d",
       "version_major": 2,
       "version_minor": 0
      },
      "text/plain": [
       "DeepFool:   0%|          | 0/1 [00:00<?, ?it/s]"
      ]
     },
     "metadata": {},
     "output_type": "display_data"
    },
    {
     "data": {
      "application/vnd.jupyter.widget-view+json": {
       "model_id": "0e8f8c9f74ce4e7fb25e34f50582b0ed",
       "version_major": 2,
       "version_minor": 0
      },
      "text/plain": [
       "DeepFool:   0%|          | 0/1 [00:00<?, ?it/s]"
      ]
     },
     "metadata": {},
     "output_type": "display_data"
    },
    {
     "data": {
      "application/vnd.jupyter.widget-view+json": {
       "model_id": "b835032e51e54a5ca93a17edb8ee2e9f",
       "version_major": 2,
       "version_minor": 0
      },
      "text/plain": [
       "DeepFool:   0%|          | 0/1 [00:00<?, ?it/s]"
      ]
     },
     "metadata": {},
     "output_type": "display_data"
    },
    {
     "data": {
      "application/vnd.jupyter.widget-view+json": {
       "model_id": "aeb0909a31fa4020add3dce27820ea77",
       "version_major": 2,
       "version_minor": 0
      },
      "text/plain": [
       "DeepFool:   0%|          | 0/1 [00:00<?, ?it/s]"
      ]
     },
     "metadata": {},
     "output_type": "display_data"
    },
    {
     "data": {
      "application/vnd.jupyter.widget-view+json": {
       "model_id": "0d1e12dea1a041f98bdf60f0b719074d",
       "version_major": 2,
       "version_minor": 0
      },
      "text/plain": [
       "DeepFool:   0%|          | 0/1 [00:00<?, ?it/s]"
      ]
     },
     "metadata": {},
     "output_type": "display_data"
    },
    {
     "data": {
      "application/vnd.jupyter.widget-view+json": {
       "model_id": "1353428db8d342efb8e7dd3539de4959",
       "version_major": 2,
       "version_minor": 0
      },
      "text/plain": [
       "DeepFool:   0%|          | 0/1 [00:00<?, ?it/s]"
      ]
     },
     "metadata": {},
     "output_type": "display_data"
    },
    {
     "data": {
      "application/vnd.jupyter.widget-view+json": {
       "model_id": "22ef13a84d734bbf94b7078c8d000891",
       "version_major": 2,
       "version_minor": 0
      },
      "text/plain": [
       "DeepFool:   0%|          | 0/1 [00:00<?, ?it/s]"
      ]
     },
     "metadata": {},
     "output_type": "display_data"
    },
    {
     "data": {
      "application/vnd.jupyter.widget-view+json": {
       "model_id": "7c4f8bc41a994923ab95aa6850bf7936",
       "version_major": 2,
       "version_minor": 0
      },
      "text/plain": [
       "DeepFool:   0%|          | 0/1 [00:00<?, ?it/s]"
      ]
     },
     "metadata": {},
     "output_type": "display_data"
    },
    {
     "data": {
      "application/vnd.jupyter.widget-view+json": {
       "model_id": "a2628c0d1de9435881c7badde09c24b2",
       "version_major": 2,
       "version_minor": 0
      },
      "text/plain": [
       "DeepFool:   0%|          | 0/1 [00:00<?, ?it/s]"
      ]
     },
     "metadata": {},
     "output_type": "display_data"
    },
    {
     "data": {
      "application/vnd.jupyter.widget-view+json": {
       "model_id": "9c1355972faa4c04a6236810d30ea780",
       "version_major": 2,
       "version_minor": 0
      },
      "text/plain": [
       "DeepFool:   0%|          | 0/1 [00:00<?, ?it/s]"
      ]
     },
     "metadata": {},
     "output_type": "display_data"
    },
    {
     "data": {
      "application/vnd.jupyter.widget-view+json": {
       "model_id": "aa7338eb51e54a27b3e0405248e144f4",
       "version_major": 2,
       "version_minor": 0
      },
      "text/plain": [
       "DeepFool:   0%|          | 0/1 [00:00<?, ?it/s]"
      ]
     },
     "metadata": {},
     "output_type": "display_data"
    },
    {
     "data": {
      "application/vnd.jupyter.widget-view+json": {
       "model_id": "85d28c3a13864c04afda4a349e5a26e9",
       "version_major": 2,
       "version_minor": 0
      },
      "text/plain": [
       "DeepFool:   0%|          | 0/1 [00:00<?, ?it/s]"
      ]
     },
     "metadata": {},
     "output_type": "display_data"
    },
    {
     "data": {
      "application/vnd.jupyter.widget-view+json": {
       "model_id": "c538522d2d7e4170a9746ae486c6abc0",
       "version_major": 2,
       "version_minor": 0
      },
      "text/plain": [
       "DeepFool:   0%|          | 0/1 [00:00<?, ?it/s]"
      ]
     },
     "metadata": {},
     "output_type": "display_data"
    },
    {
     "data": {
      "application/vnd.jupyter.widget-view+json": {
       "model_id": "a810dbbb27d9443187e1e8d6487054c5",
       "version_major": 2,
       "version_minor": 0
      },
      "text/plain": [
       "DeepFool:   0%|          | 0/1 [00:00<?, ?it/s]"
      ]
     },
     "metadata": {},
     "output_type": "display_data"
    },
    {
     "data": {
      "application/vnd.jupyter.widget-view+json": {
       "model_id": "40a0467f2abd4e00b5ff2065926a53ab",
       "version_major": 2,
       "version_minor": 0
      },
      "text/plain": [
       "DeepFool:   0%|          | 0/1 [00:00<?, ?it/s]"
      ]
     },
     "metadata": {},
     "output_type": "display_data"
    },
    {
     "data": {
      "application/vnd.jupyter.widget-view+json": {
       "model_id": "ecb30e3a1b0c48fa93578832daa6b073",
       "version_major": 2,
       "version_minor": 0
      },
      "text/plain": [
       "DeepFool:   0%|          | 0/1 [00:00<?, ?it/s]"
      ]
     },
     "metadata": {},
     "output_type": "display_data"
    },
    {
     "data": {
      "application/vnd.jupyter.widget-view+json": {
       "model_id": "f054f51a0e814fc08ca4fe34e92ffcce",
       "version_major": 2,
       "version_minor": 0
      },
      "text/plain": [
       "DeepFool:   0%|          | 0/1 [00:00<?, ?it/s]"
      ]
     },
     "metadata": {},
     "output_type": "display_data"
    },
    {
     "name": "stdout",
     "output_type": "stream",
     "text": [
      "Processed 5900 images\n"
     ]
    },
    {
     "data": {
      "application/vnd.jupyter.widget-view+json": {
       "model_id": "3d641dcffc5d45c7a732ba2901884775",
       "version_major": 2,
       "version_minor": 0
      },
      "text/plain": [
       "DeepFool:   0%|          | 0/1 [00:00<?, ?it/s]"
      ]
     },
     "metadata": {},
     "output_type": "display_data"
    },
    {
     "data": {
      "application/vnd.jupyter.widget-view+json": {
       "model_id": "08f2eeb2cb00486faeb645aa39df6199",
       "version_major": 2,
       "version_minor": 0
      },
      "text/plain": [
       "DeepFool:   0%|          | 0/1 [00:00<?, ?it/s]"
      ]
     },
     "metadata": {},
     "output_type": "display_data"
    },
    {
     "data": {
      "application/vnd.jupyter.widget-view+json": {
       "model_id": "1f61c7c69dc24ff89564c575d3695e42",
       "version_major": 2,
       "version_minor": 0
      },
      "text/plain": [
       "DeepFool:   0%|          | 0/1 [00:00<?, ?it/s]"
      ]
     },
     "metadata": {},
     "output_type": "display_data"
    },
    {
     "data": {
      "application/vnd.jupyter.widget-view+json": {
       "model_id": "734340ec1f4442bf988ef1d678206959",
       "version_major": 2,
       "version_minor": 0
      },
      "text/plain": [
       "DeepFool:   0%|          | 0/1 [00:00<?, ?it/s]"
      ]
     },
     "metadata": {},
     "output_type": "display_data"
    },
    {
     "data": {
      "application/vnd.jupyter.widget-view+json": {
       "model_id": "eeecabfeaab24fd5be1eb98e02cc72da",
       "version_major": 2,
       "version_minor": 0
      },
      "text/plain": [
       "DeepFool:   0%|          | 0/1 [00:00<?, ?it/s]"
      ]
     },
     "metadata": {},
     "output_type": "display_data"
    },
    {
     "data": {
      "application/vnd.jupyter.widget-view+json": {
       "model_id": "5132109c542f41298f302ae76ada8e41",
       "version_major": 2,
       "version_minor": 0
      },
      "text/plain": [
       "DeepFool:   0%|          | 0/1 [00:00<?, ?it/s]"
      ]
     },
     "metadata": {},
     "output_type": "display_data"
    },
    {
     "data": {
      "application/vnd.jupyter.widget-view+json": {
       "model_id": "6156dc1fbcd1462a9ab21eaba61a484a",
       "version_major": 2,
       "version_minor": 0
      },
      "text/plain": [
       "DeepFool:   0%|          | 0/1 [00:00<?, ?it/s]"
      ]
     },
     "metadata": {},
     "output_type": "display_data"
    },
    {
     "data": {
      "application/vnd.jupyter.widget-view+json": {
       "model_id": "93e97e60a5604b83891cc7d485b3931f",
       "version_major": 2,
       "version_minor": 0
      },
      "text/plain": [
       "DeepFool:   0%|          | 0/1 [00:00<?, ?it/s]"
      ]
     },
     "metadata": {},
     "output_type": "display_data"
    },
    {
     "data": {
      "application/vnd.jupyter.widget-view+json": {
       "model_id": "49429fe6efb946d89baaa487d8e7df88",
       "version_major": 2,
       "version_minor": 0
      },
      "text/plain": [
       "DeepFool:   0%|          | 0/1 [00:00<?, ?it/s]"
      ]
     },
     "metadata": {},
     "output_type": "display_data"
    },
    {
     "data": {
      "application/vnd.jupyter.widget-view+json": {
       "model_id": "6ee8911c987640e3954cafd307662ac7",
       "version_major": 2,
       "version_minor": 0
      },
      "text/plain": [
       "DeepFool:   0%|          | 0/1 [00:00<?, ?it/s]"
      ]
     },
     "metadata": {},
     "output_type": "display_data"
    },
    {
     "data": {
      "application/vnd.jupyter.widget-view+json": {
       "model_id": "74071a6f1ba8406fb443da38777eac9b",
       "version_major": 2,
       "version_minor": 0
      },
      "text/plain": [
       "DeepFool:   0%|          | 0/1 [00:00<?, ?it/s]"
      ]
     },
     "metadata": {},
     "output_type": "display_data"
    },
    {
     "data": {
      "application/vnd.jupyter.widget-view+json": {
       "model_id": "1ab09c2211544298a58506a8bb3d3060",
       "version_major": 2,
       "version_minor": 0
      },
      "text/plain": [
       "DeepFool:   0%|          | 0/1 [00:00<?, ?it/s]"
      ]
     },
     "metadata": {},
     "output_type": "display_data"
    },
    {
     "data": {
      "application/vnd.jupyter.widget-view+json": {
       "model_id": "089f2edd5f834c908b4c93e01cdb7d96",
       "version_major": 2,
       "version_minor": 0
      },
      "text/plain": [
       "DeepFool:   0%|          | 0/1 [00:00<?, ?it/s]"
      ]
     },
     "metadata": {},
     "output_type": "display_data"
    },
    {
     "data": {
      "application/vnd.jupyter.widget-view+json": {
       "model_id": "fb74c71436474dc4a180edec514fa2d4",
       "version_major": 2,
       "version_minor": 0
      },
      "text/plain": [
       "DeepFool:   0%|          | 0/1 [00:00<?, ?it/s]"
      ]
     },
     "metadata": {},
     "output_type": "display_data"
    },
    {
     "data": {
      "application/vnd.jupyter.widget-view+json": {
       "model_id": "d8f53cec90e34bea89793483c7132f91",
       "version_major": 2,
       "version_minor": 0
      },
      "text/plain": [
       "DeepFool:   0%|          | 0/1 [00:00<?, ?it/s]"
      ]
     },
     "metadata": {},
     "output_type": "display_data"
    },
    {
     "data": {
      "application/vnd.jupyter.widget-view+json": {
       "model_id": "6ddc9c99d1774ba6abff14f4484e3031",
       "version_major": 2,
       "version_minor": 0
      },
      "text/plain": [
       "DeepFool:   0%|          | 0/1 [00:00<?, ?it/s]"
      ]
     },
     "metadata": {},
     "output_type": "display_data"
    },
    {
     "data": {
      "application/vnd.jupyter.widget-view+json": {
       "model_id": "db9930519692495bbb9fdbca39f2fd60",
       "version_major": 2,
       "version_minor": 0
      },
      "text/plain": [
       "DeepFool:   0%|          | 0/1 [00:00<?, ?it/s]"
      ]
     },
     "metadata": {},
     "output_type": "display_data"
    },
    {
     "data": {
      "application/vnd.jupyter.widget-view+json": {
       "model_id": "2a787aaa62a84afd909cce97fef192d1",
       "version_major": 2,
       "version_minor": 0
      },
      "text/plain": [
       "DeepFool:   0%|          | 0/1 [00:00<?, ?it/s]"
      ]
     },
     "metadata": {},
     "output_type": "display_data"
    },
    {
     "data": {
      "application/vnd.jupyter.widget-view+json": {
       "model_id": "fe31d978e6aa4ba0995ea29d2c3551f8",
       "version_major": 2,
       "version_minor": 0
      },
      "text/plain": [
       "DeepFool:   0%|          | 0/1 [00:00<?, ?it/s]"
      ]
     },
     "metadata": {},
     "output_type": "display_data"
    },
    {
     "data": {
      "application/vnd.jupyter.widget-view+json": {
       "model_id": "5ec3a724c46f4c1cbc6b7a99287ff719",
       "version_major": 2,
       "version_minor": 0
      },
      "text/plain": [
       "DeepFool:   0%|          | 0/1 [00:00<?, ?it/s]"
      ]
     },
     "metadata": {},
     "output_type": "display_data"
    },
    {
     "data": {
      "application/vnd.jupyter.widget-view+json": {
       "model_id": "c5a9d7e69d8643a6a4257d5ae0d39995",
       "version_major": 2,
       "version_minor": 0
      },
      "text/plain": [
       "DeepFool:   0%|          | 0/1 [00:00<?, ?it/s]"
      ]
     },
     "metadata": {},
     "output_type": "display_data"
    },
    {
     "data": {
      "application/vnd.jupyter.widget-view+json": {
       "model_id": "e59cb4a8edd04c8d8ac03dad08b71fe0",
       "version_major": 2,
       "version_minor": 0
      },
      "text/plain": [
       "DeepFool:   0%|          | 0/1 [00:00<?, ?it/s]"
      ]
     },
     "metadata": {},
     "output_type": "display_data"
    },
    {
     "data": {
      "application/vnd.jupyter.widget-view+json": {
       "model_id": "ccf47804d2c54cd5a0395a015ec4d0de",
       "version_major": 2,
       "version_minor": 0
      },
      "text/plain": [
       "DeepFool:   0%|          | 0/1 [00:00<?, ?it/s]"
      ]
     },
     "metadata": {},
     "output_type": "display_data"
    },
    {
     "data": {
      "application/vnd.jupyter.widget-view+json": {
       "model_id": "57d105ef0d3641179b7dbf2e260e635f",
       "version_major": 2,
       "version_minor": 0
      },
      "text/plain": [
       "DeepFool:   0%|          | 0/1 [00:00<?, ?it/s]"
      ]
     },
     "metadata": {},
     "output_type": "display_data"
    },
    {
     "data": {
      "application/vnd.jupyter.widget-view+json": {
       "model_id": "030b958f75064c0b879bf77e1405cf82",
       "version_major": 2,
       "version_minor": 0
      },
      "text/plain": [
       "DeepFool:   0%|          | 0/1 [00:00<?, ?it/s]"
      ]
     },
     "metadata": {},
     "output_type": "display_data"
    },
    {
     "data": {
      "application/vnd.jupyter.widget-view+json": {
       "model_id": "414b6ecf0bb14b1494f83d4bc916c197",
       "version_major": 2,
       "version_minor": 0
      },
      "text/plain": [
       "DeepFool:   0%|          | 0/1 [00:00<?, ?it/s]"
      ]
     },
     "metadata": {},
     "output_type": "display_data"
    },
    {
     "data": {
      "application/vnd.jupyter.widget-view+json": {
       "model_id": "4db78dd497aa47cf886f5ae04665e63e",
       "version_major": 2,
       "version_minor": 0
      },
      "text/plain": [
       "DeepFool:   0%|          | 0/1 [00:00<?, ?it/s]"
      ]
     },
     "metadata": {},
     "output_type": "display_data"
    },
    {
     "data": {
      "application/vnd.jupyter.widget-view+json": {
       "model_id": "c76a290f6bf746b5ac6bcb758d2ebebc",
       "version_major": 2,
       "version_minor": 0
      },
      "text/plain": [
       "DeepFool:   0%|          | 0/1 [00:00<?, ?it/s]"
      ]
     },
     "metadata": {},
     "output_type": "display_data"
    },
    {
     "data": {
      "application/vnd.jupyter.widget-view+json": {
       "model_id": "05d993d7c8964b728513ebf41b227bb7",
       "version_major": 2,
       "version_minor": 0
      },
      "text/plain": [
       "DeepFool:   0%|          | 0/1 [00:00<?, ?it/s]"
      ]
     },
     "metadata": {},
     "output_type": "display_data"
    },
    {
     "data": {
      "application/vnd.jupyter.widget-view+json": {
       "model_id": "a4866ec8702745ee89a3214ac0f627cc",
       "version_major": 2,
       "version_minor": 0
      },
      "text/plain": [
       "DeepFool:   0%|          | 0/1 [00:00<?, ?it/s]"
      ]
     },
     "metadata": {},
     "output_type": "display_data"
    },
    {
     "data": {
      "application/vnd.jupyter.widget-view+json": {
       "model_id": "e39c51b5641f4c5aa6e0faee7e1bef32",
       "version_major": 2,
       "version_minor": 0
      },
      "text/plain": [
       "DeepFool:   0%|          | 0/1 [00:00<?, ?it/s]"
      ]
     },
     "metadata": {},
     "output_type": "display_data"
    },
    {
     "data": {
      "application/vnd.jupyter.widget-view+json": {
       "model_id": "28d0b5c579c34737b2f9b64199dbbe6a",
       "version_major": 2,
       "version_minor": 0
      },
      "text/plain": [
       "DeepFool:   0%|          | 0/1 [00:00<?, ?it/s]"
      ]
     },
     "metadata": {},
     "output_type": "display_data"
    },
    {
     "data": {
      "application/vnd.jupyter.widget-view+json": {
       "model_id": "86d2f16a581543aa9de62d9836c7a5cb",
       "version_major": 2,
       "version_minor": 0
      },
      "text/plain": [
       "DeepFool:   0%|          | 0/1 [00:00<?, ?it/s]"
      ]
     },
     "metadata": {},
     "output_type": "display_data"
    },
    {
     "data": {
      "application/vnd.jupyter.widget-view+json": {
       "model_id": "9ea30a1b75ff4f079a4448b2868f7c1b",
       "version_major": 2,
       "version_minor": 0
      },
      "text/plain": [
       "DeepFool:   0%|          | 0/1 [00:00<?, ?it/s]"
      ]
     },
     "metadata": {},
     "output_type": "display_data"
    },
    {
     "data": {
      "application/vnd.jupyter.widget-view+json": {
       "model_id": "4233a167922642ff8f3b85d63995f73b",
       "version_major": 2,
       "version_minor": 0
      },
      "text/plain": [
       "DeepFool:   0%|          | 0/1 [00:00<?, ?it/s]"
      ]
     },
     "metadata": {},
     "output_type": "display_data"
    },
    {
     "data": {
      "application/vnd.jupyter.widget-view+json": {
       "model_id": "69410341561848d18d053ec940622348",
       "version_major": 2,
       "version_minor": 0
      },
      "text/plain": [
       "DeepFool:   0%|          | 0/1 [00:00<?, ?it/s]"
      ]
     },
     "metadata": {},
     "output_type": "display_data"
    },
    {
     "data": {
      "application/vnd.jupyter.widget-view+json": {
       "model_id": "d794c4f4504641deab58d43861331cfb",
       "version_major": 2,
       "version_minor": 0
      },
      "text/plain": [
       "DeepFool:   0%|          | 0/1 [00:00<?, ?it/s]"
      ]
     },
     "metadata": {},
     "output_type": "display_data"
    },
    {
     "data": {
      "application/vnd.jupyter.widget-view+json": {
       "model_id": "3928a08f1c8b4635b9d832a7b6fd72e8",
       "version_major": 2,
       "version_minor": 0
      },
      "text/plain": [
       "DeepFool:   0%|          | 0/1 [00:00<?, ?it/s]"
      ]
     },
     "metadata": {},
     "output_type": "display_data"
    },
    {
     "data": {
      "application/vnd.jupyter.widget-view+json": {
       "model_id": "d5d5f57050d348da832042add32661eb",
       "version_major": 2,
       "version_minor": 0
      },
      "text/plain": [
       "DeepFool:   0%|          | 0/1 [00:00<?, ?it/s]"
      ]
     },
     "metadata": {},
     "output_type": "display_data"
    },
    {
     "data": {
      "application/vnd.jupyter.widget-view+json": {
       "model_id": "ba53c040e402472ca5fa9e06fa46ad85",
       "version_major": 2,
       "version_minor": 0
      },
      "text/plain": [
       "DeepFool:   0%|          | 0/1 [00:00<?, ?it/s]"
      ]
     },
     "metadata": {},
     "output_type": "display_data"
    },
    {
     "data": {
      "application/vnd.jupyter.widget-view+json": {
       "model_id": "be3bea8f4b3a4ad2a1559fdfa125db78",
       "version_major": 2,
       "version_minor": 0
      },
      "text/plain": [
       "DeepFool:   0%|          | 0/1 [00:00<?, ?it/s]"
      ]
     },
     "metadata": {},
     "output_type": "display_data"
    },
    {
     "data": {
      "application/vnd.jupyter.widget-view+json": {
       "model_id": "e6701bb2c0ff415c97af12478c1d0dc2",
       "version_major": 2,
       "version_minor": 0
      },
      "text/plain": [
       "DeepFool:   0%|          | 0/1 [00:00<?, ?it/s]"
      ]
     },
     "metadata": {},
     "output_type": "display_data"
    },
    {
     "data": {
      "application/vnd.jupyter.widget-view+json": {
       "model_id": "3cae9bdce84c493ab0abcccab65c61b9",
       "version_major": 2,
       "version_minor": 0
      },
      "text/plain": [
       "DeepFool:   0%|          | 0/1 [00:00<?, ?it/s]"
      ]
     },
     "metadata": {},
     "output_type": "display_data"
    },
    {
     "data": {
      "application/vnd.jupyter.widget-view+json": {
       "model_id": "5d7b4d88451d4388b11e68378b0d548f",
       "version_major": 2,
       "version_minor": 0
      },
      "text/plain": [
       "DeepFool:   0%|          | 0/1 [00:00<?, ?it/s]"
      ]
     },
     "metadata": {},
     "output_type": "display_data"
    },
    {
     "data": {
      "application/vnd.jupyter.widget-view+json": {
       "model_id": "6ae3bff5838c41dba96790cdef1364de",
       "version_major": 2,
       "version_minor": 0
      },
      "text/plain": [
       "DeepFool:   0%|          | 0/1 [00:00<?, ?it/s]"
      ]
     },
     "metadata": {},
     "output_type": "display_data"
    },
    {
     "data": {
      "application/vnd.jupyter.widget-view+json": {
       "model_id": "9031fe8cf3f346d0b19e2e3ef586a4c3",
       "version_major": 2,
       "version_minor": 0
      },
      "text/plain": [
       "DeepFool:   0%|          | 0/1 [00:00<?, ?it/s]"
      ]
     },
     "metadata": {},
     "output_type": "display_data"
    },
    {
     "data": {
      "application/vnd.jupyter.widget-view+json": {
       "model_id": "e90e3d1966da4323b03b4c51d34d2a5a",
       "version_major": 2,
       "version_minor": 0
      },
      "text/plain": [
       "DeepFool:   0%|          | 0/1 [00:00<?, ?it/s]"
      ]
     },
     "metadata": {},
     "output_type": "display_data"
    },
    {
     "data": {
      "application/vnd.jupyter.widget-view+json": {
       "model_id": "d13cd7391c414b00b489c4f4c4dfa208",
       "version_major": 2,
       "version_minor": 0
      },
      "text/plain": [
       "DeepFool:   0%|          | 0/1 [00:00<?, ?it/s]"
      ]
     },
     "metadata": {},
     "output_type": "display_data"
    },
    {
     "data": {
      "application/vnd.jupyter.widget-view+json": {
       "model_id": "d25daed7dfbc4e9b91c6713d7af2ee24",
       "version_major": 2,
       "version_minor": 0
      },
      "text/plain": [
       "DeepFool:   0%|          | 0/1 [00:00<?, ?it/s]"
      ]
     },
     "metadata": {},
     "output_type": "display_data"
    },
    {
     "data": {
      "application/vnd.jupyter.widget-view+json": {
       "model_id": "89e7b16d60194753a0deaa7e4847d8ac",
       "version_major": 2,
       "version_minor": 0
      },
      "text/plain": [
       "DeepFool:   0%|          | 0/1 [00:00<?, ?it/s]"
      ]
     },
     "metadata": {},
     "output_type": "display_data"
    },
    {
     "data": {
      "application/vnd.jupyter.widget-view+json": {
       "model_id": "ed4fbc72304747bca2c11be543e5ed8f",
       "version_major": 2,
       "version_minor": 0
      },
      "text/plain": [
       "DeepFool:   0%|          | 0/1 [00:00<?, ?it/s]"
      ]
     },
     "metadata": {},
     "output_type": "display_data"
    },
    {
     "data": {
      "application/vnd.jupyter.widget-view+json": {
       "model_id": "25cf899a8c0245c9b2483a787f89f3d0",
       "version_major": 2,
       "version_minor": 0
      },
      "text/plain": [
       "DeepFool:   0%|          | 0/1 [00:00<?, ?it/s]"
      ]
     },
     "metadata": {},
     "output_type": "display_data"
    },
    {
     "data": {
      "application/vnd.jupyter.widget-view+json": {
       "model_id": "65338867e5964aa98eeebf9acc3f7dd0",
       "version_major": 2,
       "version_minor": 0
      },
      "text/plain": [
       "DeepFool:   0%|          | 0/1 [00:00<?, ?it/s]"
      ]
     },
     "metadata": {},
     "output_type": "display_data"
    },
    {
     "data": {
      "application/vnd.jupyter.widget-view+json": {
       "model_id": "a318d50799d14d5cb9d80df15d5270bb",
       "version_major": 2,
       "version_minor": 0
      },
      "text/plain": [
       "DeepFool:   0%|          | 0/1 [00:00<?, ?it/s]"
      ]
     },
     "metadata": {},
     "output_type": "display_data"
    },
    {
     "data": {
      "application/vnd.jupyter.widget-view+json": {
       "model_id": "1bcb831cbc3d45ae89d0d41300d6e5f2",
       "version_major": 2,
       "version_minor": 0
      },
      "text/plain": [
       "DeepFool:   0%|          | 0/1 [00:00<?, ?it/s]"
      ]
     },
     "metadata": {},
     "output_type": "display_data"
    },
    {
     "data": {
      "application/vnd.jupyter.widget-view+json": {
       "model_id": "ef959182dde549fa8c8d68023a3429f3",
       "version_major": 2,
       "version_minor": 0
      },
      "text/plain": [
       "DeepFool:   0%|          | 0/1 [00:00<?, ?it/s]"
      ]
     },
     "metadata": {},
     "output_type": "display_data"
    },
    {
     "data": {
      "application/vnd.jupyter.widget-view+json": {
       "model_id": "c184eba6e62c453cac959c61b36785b5",
       "version_major": 2,
       "version_minor": 0
      },
      "text/plain": [
       "DeepFool:   0%|          | 0/1 [00:00<?, ?it/s]"
      ]
     },
     "metadata": {},
     "output_type": "display_data"
    },
    {
     "data": {
      "application/vnd.jupyter.widget-view+json": {
       "model_id": "31a55e603c014abd9fa994bf70b7acf5",
       "version_major": 2,
       "version_minor": 0
      },
      "text/plain": [
       "DeepFool:   0%|          | 0/1 [00:00<?, ?it/s]"
      ]
     },
     "metadata": {},
     "output_type": "display_data"
    },
    {
     "data": {
      "application/vnd.jupyter.widget-view+json": {
       "model_id": "bfa977d48a8d4669bfdf7ea2c96eb837",
       "version_major": 2,
       "version_minor": 0
      },
      "text/plain": [
       "DeepFool:   0%|          | 0/1 [00:00<?, ?it/s]"
      ]
     },
     "metadata": {},
     "output_type": "display_data"
    },
    {
     "data": {
      "application/vnd.jupyter.widget-view+json": {
       "model_id": "883f9c0f49d14a27b73d47bee3aecea3",
       "version_major": 2,
       "version_minor": 0
      },
      "text/plain": [
       "DeepFool:   0%|          | 0/1 [00:00<?, ?it/s]"
      ]
     },
     "metadata": {},
     "output_type": "display_data"
    },
    {
     "data": {
      "application/vnd.jupyter.widget-view+json": {
       "model_id": "3b32cd01c2b64bba9584ecf047be2706",
       "version_major": 2,
       "version_minor": 0
      },
      "text/plain": [
       "DeepFool:   0%|          | 0/1 [00:00<?, ?it/s]"
      ]
     },
     "metadata": {},
     "output_type": "display_data"
    },
    {
     "data": {
      "application/vnd.jupyter.widget-view+json": {
       "model_id": "a68fa2cf31bc4fc9ab31a760998fa28d",
       "version_major": 2,
       "version_minor": 0
      },
      "text/plain": [
       "DeepFool:   0%|          | 0/1 [00:00<?, ?it/s]"
      ]
     },
     "metadata": {},
     "output_type": "display_data"
    },
    {
     "data": {
      "application/vnd.jupyter.widget-view+json": {
       "model_id": "6a9ad9cdcf594214984b500cdcc87e64",
       "version_major": 2,
       "version_minor": 0
      },
      "text/plain": [
       "DeepFool:   0%|          | 0/1 [00:00<?, ?it/s]"
      ]
     },
     "metadata": {},
     "output_type": "display_data"
    },
    {
     "data": {
      "application/vnd.jupyter.widget-view+json": {
       "model_id": "a49c0a712886451c889b06563442890d",
       "version_major": 2,
       "version_minor": 0
      },
      "text/plain": [
       "DeepFool:   0%|          | 0/1 [00:00<?, ?it/s]"
      ]
     },
     "metadata": {},
     "output_type": "display_data"
    },
    {
     "data": {
      "application/vnd.jupyter.widget-view+json": {
       "model_id": "f27b5db398e84a9fbb0b3728c53e26a6",
       "version_major": 2,
       "version_minor": 0
      },
      "text/plain": [
       "DeepFool:   0%|          | 0/1 [00:00<?, ?it/s]"
      ]
     },
     "metadata": {},
     "output_type": "display_data"
    },
    {
     "data": {
      "application/vnd.jupyter.widget-view+json": {
       "model_id": "e16648692d5a4f118b71fa2c7615cc02",
       "version_major": 2,
       "version_minor": 0
      },
      "text/plain": [
       "DeepFool:   0%|          | 0/1 [00:00<?, ?it/s]"
      ]
     },
     "metadata": {},
     "output_type": "display_data"
    },
    {
     "data": {
      "application/vnd.jupyter.widget-view+json": {
       "model_id": "c49e068cdb544cac9fc587fa1ec56ceb",
       "version_major": 2,
       "version_minor": 0
      },
      "text/plain": [
       "DeepFool:   0%|          | 0/1 [00:00<?, ?it/s]"
      ]
     },
     "metadata": {},
     "output_type": "display_data"
    },
    {
     "data": {
      "application/vnd.jupyter.widget-view+json": {
       "model_id": "af45e1c09b9c49c9b06f166362513e50",
       "version_major": 2,
       "version_minor": 0
      },
      "text/plain": [
       "DeepFool:   0%|          | 0/1 [00:00<?, ?it/s]"
      ]
     },
     "metadata": {},
     "output_type": "display_data"
    },
    {
     "data": {
      "application/vnd.jupyter.widget-view+json": {
       "model_id": "9996156b7e824c3c8efdff0088c75246",
       "version_major": 2,
       "version_minor": 0
      },
      "text/plain": [
       "DeepFool:   0%|          | 0/1 [00:00<?, ?it/s]"
      ]
     },
     "metadata": {},
     "output_type": "display_data"
    },
    {
     "data": {
      "application/vnd.jupyter.widget-view+json": {
       "model_id": "4fadd5d42bec4704bed3ae5ca85bda08",
       "version_major": 2,
       "version_minor": 0
      },
      "text/plain": [
       "DeepFool:   0%|          | 0/1 [00:00<?, ?it/s]"
      ]
     },
     "metadata": {},
     "output_type": "display_data"
    },
    {
     "data": {
      "application/vnd.jupyter.widget-view+json": {
       "model_id": "c282f7e7cc404db792ddb73066303781",
       "version_major": 2,
       "version_minor": 0
      },
      "text/plain": [
       "DeepFool:   0%|          | 0/1 [00:00<?, ?it/s]"
      ]
     },
     "metadata": {},
     "output_type": "display_data"
    },
    {
     "data": {
      "application/vnd.jupyter.widget-view+json": {
       "model_id": "d431643493e045ca86eab0ce49900180",
       "version_major": 2,
       "version_minor": 0
      },
      "text/plain": [
       "DeepFool:   0%|          | 0/1 [00:00<?, ?it/s]"
      ]
     },
     "metadata": {},
     "output_type": "display_data"
    },
    {
     "data": {
      "application/vnd.jupyter.widget-view+json": {
       "model_id": "06f4f259466146cda499d93a485111e5",
       "version_major": 2,
       "version_minor": 0
      },
      "text/plain": [
       "DeepFool:   0%|          | 0/1 [00:00<?, ?it/s]"
      ]
     },
     "metadata": {},
     "output_type": "display_data"
    },
    {
     "data": {
      "application/vnd.jupyter.widget-view+json": {
       "model_id": "1e5c394b43a8451b80e751ce358bdaaa",
       "version_major": 2,
       "version_minor": 0
      },
      "text/plain": [
       "DeepFool:   0%|          | 0/1 [00:00<?, ?it/s]"
      ]
     },
     "metadata": {},
     "output_type": "display_data"
    },
    {
     "data": {
      "application/vnd.jupyter.widget-view+json": {
       "model_id": "de602c1ff0954dc2a65bdf1fea35d8df",
       "version_major": 2,
       "version_minor": 0
      },
      "text/plain": [
       "DeepFool:   0%|          | 0/1 [00:00<?, ?it/s]"
      ]
     },
     "metadata": {},
     "output_type": "display_data"
    },
    {
     "data": {
      "application/vnd.jupyter.widget-view+json": {
       "model_id": "53b2a7a72da84ef6a4fa8e68c702b419",
       "version_major": 2,
       "version_minor": 0
      },
      "text/plain": [
       "DeepFool:   0%|          | 0/1 [00:00<?, ?it/s]"
      ]
     },
     "metadata": {},
     "output_type": "display_data"
    },
    {
     "data": {
      "application/vnd.jupyter.widget-view+json": {
       "model_id": "bc8d2234ae5c4c15b200c8e0fda34016",
       "version_major": 2,
       "version_minor": 0
      },
      "text/plain": [
       "DeepFool:   0%|          | 0/1 [00:00<?, ?it/s]"
      ]
     },
     "metadata": {},
     "output_type": "display_data"
    },
    {
     "data": {
      "application/vnd.jupyter.widget-view+json": {
       "model_id": "e60973d0ba3b4db79edfeafc36191769",
       "version_major": 2,
       "version_minor": 0
      },
      "text/plain": [
       "DeepFool:   0%|          | 0/1 [00:00<?, ?it/s]"
      ]
     },
     "metadata": {},
     "output_type": "display_data"
    },
    {
     "data": {
      "application/vnd.jupyter.widget-view+json": {
       "model_id": "2e82b98a2acf4d6b856c25240f339448",
       "version_major": 2,
       "version_minor": 0
      },
      "text/plain": [
       "DeepFool:   0%|          | 0/1 [00:00<?, ?it/s]"
      ]
     },
     "metadata": {},
     "output_type": "display_data"
    },
    {
     "data": {
      "application/vnd.jupyter.widget-view+json": {
       "model_id": "4b579903e303498199133e00bb6528f6",
       "version_major": 2,
       "version_minor": 0
      },
      "text/plain": [
       "DeepFool:   0%|          | 0/1 [00:00<?, ?it/s]"
      ]
     },
     "metadata": {},
     "output_type": "display_data"
    },
    {
     "data": {
      "application/vnd.jupyter.widget-view+json": {
       "model_id": "ee80ecb3b4ee4c15aedc4fbf6d08d527",
       "version_major": 2,
       "version_minor": 0
      },
      "text/plain": [
       "DeepFool:   0%|          | 0/1 [00:00<?, ?it/s]"
      ]
     },
     "metadata": {},
     "output_type": "display_data"
    },
    {
     "data": {
      "application/vnd.jupyter.widget-view+json": {
       "model_id": "c280e825eb1b4a95bf0158f1d5cfdbec",
       "version_major": 2,
       "version_minor": 0
      },
      "text/plain": [
       "DeepFool:   0%|          | 0/1 [00:00<?, ?it/s]"
      ]
     },
     "metadata": {},
     "output_type": "display_data"
    },
    {
     "data": {
      "application/vnd.jupyter.widget-view+json": {
       "model_id": "c3cfc35ad9034c30957737641ddb7e8f",
       "version_major": 2,
       "version_minor": 0
      },
      "text/plain": [
       "DeepFool:   0%|          | 0/1 [00:00<?, ?it/s]"
      ]
     },
     "metadata": {},
     "output_type": "display_data"
    },
    {
     "data": {
      "application/vnd.jupyter.widget-view+json": {
       "model_id": "cc2cbf3f5fce456c80ce11e367a4624f",
       "version_major": 2,
       "version_minor": 0
      },
      "text/plain": [
       "DeepFool:   0%|          | 0/1 [00:00<?, ?it/s]"
      ]
     },
     "metadata": {},
     "output_type": "display_data"
    },
    {
     "data": {
      "application/vnd.jupyter.widget-view+json": {
       "model_id": "d7947926847d47d7a24282bec724fc26",
       "version_major": 2,
       "version_minor": 0
      },
      "text/plain": [
       "DeepFool:   0%|          | 0/1 [00:00<?, ?it/s]"
      ]
     },
     "metadata": {},
     "output_type": "display_data"
    },
    {
     "data": {
      "application/vnd.jupyter.widget-view+json": {
       "model_id": "aadd0eabc1fb4386a48d6fac69de723c",
       "version_major": 2,
       "version_minor": 0
      },
      "text/plain": [
       "DeepFool:   0%|          | 0/1 [00:00<?, ?it/s]"
      ]
     },
     "metadata": {},
     "output_type": "display_data"
    },
    {
     "data": {
      "application/vnd.jupyter.widget-view+json": {
       "model_id": "5c901cb0e2f4487f965352fcc4799397",
       "version_major": 2,
       "version_minor": 0
      },
      "text/plain": [
       "DeepFool:   0%|          | 0/1 [00:00<?, ?it/s]"
      ]
     },
     "metadata": {},
     "output_type": "display_data"
    },
    {
     "data": {
      "application/vnd.jupyter.widget-view+json": {
       "model_id": "24392d45640a416cbe74f95974a0fe4e",
       "version_major": 2,
       "version_minor": 0
      },
      "text/plain": [
       "DeepFool:   0%|          | 0/1 [00:00<?, ?it/s]"
      ]
     },
     "metadata": {},
     "output_type": "display_data"
    },
    {
     "data": {
      "application/vnd.jupyter.widget-view+json": {
       "model_id": "1e486f57e929451393d46a829fd4cfee",
       "version_major": 2,
       "version_minor": 0
      },
      "text/plain": [
       "DeepFool:   0%|          | 0/1 [00:00<?, ?it/s]"
      ]
     },
     "metadata": {},
     "output_type": "display_data"
    },
    {
     "data": {
      "application/vnd.jupyter.widget-view+json": {
       "model_id": "d54483404b6a4c298bc6b7f2d331422b",
       "version_major": 2,
       "version_minor": 0
      },
      "text/plain": [
       "DeepFool:   0%|          | 0/1 [00:00<?, ?it/s]"
      ]
     },
     "metadata": {},
     "output_type": "display_data"
    },
    {
     "data": {
      "application/vnd.jupyter.widget-view+json": {
       "model_id": "72465b9df9864979bc5966ef77f17b83",
       "version_major": 2,
       "version_minor": 0
      },
      "text/plain": [
       "DeepFool:   0%|          | 0/1 [00:00<?, ?it/s]"
      ]
     },
     "metadata": {},
     "output_type": "display_data"
    },
    {
     "data": {
      "application/vnd.jupyter.widget-view+json": {
       "model_id": "0f01e219becd4501b136bd4311e92421",
       "version_major": 2,
       "version_minor": 0
      },
      "text/plain": [
       "DeepFool:   0%|          | 0/1 [00:00<?, ?it/s]"
      ]
     },
     "metadata": {},
     "output_type": "display_data"
    },
    {
     "data": {
      "application/vnd.jupyter.widget-view+json": {
       "model_id": "2d63e4e2dcf34d5780aabdc3afc4067e",
       "version_major": 2,
       "version_minor": 0
      },
      "text/plain": [
       "DeepFool:   0%|          | 0/1 [00:00<?, ?it/s]"
      ]
     },
     "metadata": {},
     "output_type": "display_data"
    },
    {
     "data": {
      "application/vnd.jupyter.widget-view+json": {
       "model_id": "5163105d75614728b22778f6e1c8c54d",
       "version_major": 2,
       "version_minor": 0
      },
      "text/plain": [
       "DeepFool:   0%|          | 0/1 [00:00<?, ?it/s]"
      ]
     },
     "metadata": {},
     "output_type": "display_data"
    },
    {
     "data": {
      "application/vnd.jupyter.widget-view+json": {
       "model_id": "be6f400f5c914eedb157c2307e55fcf7",
       "version_major": 2,
       "version_minor": 0
      },
      "text/plain": [
       "DeepFool:   0%|          | 0/1 [00:00<?, ?it/s]"
      ]
     },
     "metadata": {},
     "output_type": "display_data"
    },
    {
     "data": {
      "application/vnd.jupyter.widget-view+json": {
       "model_id": "b069d704b5c942d1a0e3fcee4e9a91c1",
       "version_major": 2,
       "version_minor": 0
      },
      "text/plain": [
       "DeepFool:   0%|          | 0/1 [00:00<?, ?it/s]"
      ]
     },
     "metadata": {},
     "output_type": "display_data"
    },
    {
     "data": {
      "application/vnd.jupyter.widget-view+json": {
       "model_id": "0e87e2aa34c247c0b7d70b8758a211d4",
       "version_major": 2,
       "version_minor": 0
      },
      "text/plain": [
       "DeepFool:   0%|          | 0/1 [00:00<?, ?it/s]"
      ]
     },
     "metadata": {},
     "output_type": "display_data"
    },
    {
     "data": {
      "application/vnd.jupyter.widget-view+json": {
       "model_id": "63f3afc667364d8e834eca39b9d9b5cb",
       "version_major": 2,
       "version_minor": 0
      },
      "text/plain": [
       "DeepFool:   0%|          | 0/1 [00:00<?, ?it/s]"
      ]
     },
     "metadata": {},
     "output_type": "display_data"
    },
    {
     "data": {
      "application/vnd.jupyter.widget-view+json": {
       "model_id": "281434f1a84045379fb48420eb1fb53b",
       "version_major": 2,
       "version_minor": 0
      },
      "text/plain": [
       "DeepFool:   0%|          | 0/1 [00:00<?, ?it/s]"
      ]
     },
     "metadata": {},
     "output_type": "display_data"
    },
    {
     "data": {
      "application/vnd.jupyter.widget-view+json": {
       "model_id": "1787ca0ad54047faa3692196522da9e9",
       "version_major": 2,
       "version_minor": 0
      },
      "text/plain": [
       "DeepFool:   0%|          | 0/1 [00:00<?, ?it/s]"
      ]
     },
     "metadata": {},
     "output_type": "display_data"
    },
    {
     "name": "stdout",
     "output_type": "stream",
     "text": [
      "Processed 6000 images\n",
      "Data for class 'truck' saved to D:\\python\\resnetcifar\\adv\\deepfool\\truck_deepfool.csv\n"
     ]
    }
   ],
   "source": [
    "import os\n",
    "\n",
    "# 创建保存目录（如果不存在）\n",
    "output_dir = r\"D:\\python\\resnetcifar\\adv\\deepfool\"  # 指定保存目录\n",
    "os.makedirs(output_dir, exist_ok=True)\n",
    "\n",
    "#ART 使用的DeepFool攻击\n",
    "max_iter=10\n",
    "epsilon=8/255\n",
    "def attack_dataframe_deepfool(df, max_iter=50):\n",
    "    # 创建ART分类器\n",
    "    classifier = create_art_classifier(model)\n",
    "    # 创建DeepFool攻击对象\n",
    "    attack = DeepFool(\n",
    "        classifier=classifier,\n",
    "        max_iter=max_iter,\n",
    "        epsilon=epsilon,\n",
    "        batch_size=128\n",
    "    )\n",
    "\n",
    "    # 创建一个新的DataFrame存储攻击后的图像数据\n",
    "    attacked_df = pd.DataFrame(columns=['image', 'label'])\n",
    "\n",
    "    # 遍历输入的DataFrame中的每张图像\n",
    "    for index, row in df.iterrows():\n",
    "        # 提取图像和标签\n",
    "        image = row['image']\n",
    "        label = row['label']\n",
    "\n",
    "        # 将图像转换为Tensor并归一化到[0, 1]\n",
    "        image_tensor = torch.tensor(image, dtype=torch.float32).permute(2, 0, 1).unsqueeze(0) / 255.0\n",
    "\n",
    "        # 生成对抗样本\n",
    "        perturbed_image = attack.generate(x=image_tensor.numpy())\n",
    "\n",
    "        # 将攻击后的图像转换回NumPy数组\n",
    "        attacked_image = (perturbed_image.squeeze(0) * 255).astype(np.uint8)\n",
    "\n",
    "        # 将攻击后的图像和标签添加到新的DataFrame中\n",
    "        new_row = pd.DataFrame({'image': [attacked_image], 'label': [label]})\n",
    "        attacked_df = pd.concat([attacked_df, new_row], ignore_index=True)\n",
    "\n",
    "        # 打印进度\n",
    "        if (index + 1) % 100 == 0:\n",
    "            print(f\"Processed {index + 1} images\")\n",
    "\n",
    "    return attacked_df\n",
    "\n",
    "# 对整个字典中的所有类别进行DeepFool攻击\n",
    "def attack_all_dataframes_deepfool(dataframes, max_iter=50):\n",
    "    attacked_dataframes = {}\n",
    "    for class_name, df in dataframes.items():\n",
    "        print(f\"Attacking class: {class_name}\")\n",
    "        attacked_df = attack_dataframe_deepfool(df, max_iter)\n",
    "        attacked_dataframes[class_name] = attacked_df\n",
    "        \n",
    "        # 创建一个新的DataFrame来存储攻击后的数据\n",
    "        df_to_save = attacked_df.copy()\n",
    "        df_to_save['class_name'] = class_name  # 添加类别名称列\n",
    "\n",
    "        # 将图像数据转换为字符串格式以便保存\n",
    "        df_to_save['image'] = df_to_save['image'].apply(lambda x: x.tobytes())\n",
    "\n",
    "        # 保存到CSV文件\n",
    "        filename = f\"{class_name}_deepfool.csv\"\n",
    "        save_path = os.path.join(output_dir, filename)  # 指定保存路径\n",
    "        df_to_save.to_csv(save_path, index=False)\n",
    "        print(f\"Data for class '{class_name}' saved to {save_path}\")\n",
    "    \n",
    "    return attacked_dataframes\n",
    "\n",
    "# 执行DeepFool攻击\n",
    "dfs_deepfool = attack_all_dataframes_deepfool(dataframes, max_iter=50)"
   ]
  },
  {
   "cell_type": "code",
   "execution_count": null,
   "id": "9c2c3818",
   "metadata": {},
   "outputs": [],
   "source": []
  },
  {
   "cell_type": "code",
   "execution_count": null,
   "id": "ca7a1332",
   "metadata": {},
   "outputs": [],
   "source": []
  },
  {
   "cell_type": "code",
   "execution_count": null,
   "id": "565688ed",
   "metadata": {},
   "outputs": [],
   "source": []
  },
  {
   "cell_type": "code",
   "execution_count": null,
   "id": "3d40090a",
   "metadata": {},
   "outputs": [],
   "source": []
  },
  {
   "cell_type": "code",
   "execution_count": null,
   "id": "fe2f5a64",
   "metadata": {},
   "outputs": [],
   "source": []
  },
  {
   "cell_type": "code",
   "execution_count": null,
   "id": "60288701",
   "metadata": {},
   "outputs": [],
   "source": []
  },
  {
   "cell_type": "code",
   "execution_count": null,
   "id": "2700dff9",
   "metadata": {},
   "outputs": [],
   "source": []
  },
  {
   "cell_type": "code",
   "execution_count": null,
   "id": "3380537f",
   "metadata": {},
   "outputs": [],
   "source": []
  },
  {
   "cell_type": "code",
   "execution_count": null,
   "id": "0fa5d89e",
   "metadata": {
    "scrolled": true
   },
   "outputs": [],
   "source": [
    "# 使用ART的BIM攻击\n",
    "def attack_dataframe_bim(df, epsilon=8/255, max_iter=10, eps_step=2/255):\n",
    "    # 创建ART分类器\n",
    "    classifier = create_art_classifier(model)\n",
    "    # 创建BIM攻击对象\n",
    "    attack = BasicIterativeMethod(\n",
    "        estimator=classifier, \n",
    "        eps=epsilon,\n",
    "        eps_step=eps_step,\n",
    "        max_iter=max_iter\n",
    "    )\n",
    "\n",
    "    # 创建一个新的DataFrame存储攻击后的图像数据\n",
    "    attacked_df = pd.DataFrame(columns=['image', 'label'])\n",
    "\n",
    "    # 遍历输入的DataFrame中的每张图像\n",
    "    for index, row in df.iterrows():\n",
    "        # 提取图像和标签\n",
    "        image = row['image']\n",
    "        label = row['label']\n",
    "\n",
    "        # 将图像转换为Tensor并归一化到[0, 1]\n",
    "        image_tensor = torch.tensor(image, dtype=torch.float32).permute(2, 0, 1).unsqueeze(0) / 255.0\n",
    "\n",
    "        # 生成对抗样本\n",
    "        perturbed_image = attack.generate(x=image_tensor.numpy())\n",
    "\n",
    "        # 将攻击后的图像转换回NumPy数组\n",
    "        attacked_image = (perturbed_image.squeeze(0) * 255).astype(np.uint8)\n",
    "\n",
    "        # 将攻击后的图像和标签添加到新的DataFrame中\n",
    "        new_row = pd.DataFrame({'image': [attacked_image], 'label': [label]})\n",
    "        attacked_df = pd.concat([attacked_df, new_row], ignore_index=True)\n",
    "\n",
    "        # 打印进度\n",
    "        if (index + 1) % 1000 == 0:\n",
    "            print(f\"Processed {index + 1} images\")\n",
    "\n",
    "    return attacked_df\n",
    "\n",
    "# 对整个字典中的所有类别进行BIM攻击\n",
    "def attack_all_dataframes_bim(dataframes, epsilon=8/255, max_iter=10, eps_step=2/255):\n",
    "    attacked_dataframes = {}\n",
    "    for class_name, df in dataframes.items():\n",
    "        print(f\"Attacking class: {class_name}\")\n",
    "        attacked_df = attack_dataframe_bim(df, epsilon, max_iter, eps_step)\n",
    "        attacked_dataframes[class_name] = attacked_df\n",
    "    return attacked_dataframes\n",
    "\n",
    "bims = attack_all_dataframes_bim(dataframes, epsilon=8/255, max_iter=10, eps_step=2/255)\n",
    "save_attacked_dataframes_to_csv(bims,\"bims.csv\")"
   ]
  },
  {
   "cell_type": "code",
   "execution_count": null,
   "id": "7ad75609",
   "metadata": {},
   "outputs": [],
   "source": [
    "# 使用ART的DeepFool攻击\n",
    "def attack_dataframe_deepfool(df, max_iter=10, epsilon=0.1):\n",
    "    # 创建ART分类器\n",
    "    classifier = create_art_classifier(model)\n",
    "    # 创建DeepFool攻击对象\n",
    "    attack = DeepFool(\n",
    "        classifier=classifier,\n",
    "        max_iter=max_iter,\n",
    "        epsilon=epsilon,\n",
    "        batch_size=1\n",
    "    )\n",
    "\n",
    "    # 创建一个新的DataFrame存储攻击后的图像数据\n",
    "    attacked_df = pd.DataFrame(columns=['image', 'label'])\n",
    "\n",
    "    # 遍历输入的DataFrame中的每张图像\n",
    "    for index, row in df.iterrows():\n",
    "        # 提取图像和标签\n",
    "        image = row['image']\n",
    "        label = row['label']\n",
    "\n",
    "        # 将图像转换为Tensor并归一化到[0, 1]\n",
    "        image_tensor = torch.tensor(image, dtype=torch.float32).permute(2, 0, 1).unsqueeze(0) / 255.0\n",
    "\n",
    "        # 生成对抗样本\n",
    "        perturbed_image = attack.generate(x=image_tensor.numpy())\n",
    "\n",
    "        # 将攻击后的图像转换回NumPy数组\n",
    "        attacked_image = (perturbed_image.squeeze(0) * 255).astype(np.uint8)\n",
    "\n",
    "        # 将攻击后的图像和标签添加到新的DataFrame中\n",
    "        new_row = pd.DataFrame({'image': [attacked_image], 'label': [label]})\n",
    "        attacked_df = pd.concat([attacked_df, new_row], ignore_index=True)\n",
    "\n",
    "        # 打印进度\n",
    "        if (index + 1) % 1000 == 0:\n",
    "            print(f\"Processed {index + 1} images\")\n",
    "\n",
    "    return attacked_df\n",
    "\n",
    "# 对整个字典中的所有类别进行DeepFool攻击\n",
    "def attack_all_dataframes_deepfool(dataframes, max_iter=10, epsilon=0.1):\n",
    "    attacked_dataframes = {}\n",
    "    for class_name, df in dataframes.items():\n",
    "        print(f\"Attacking class: {class_name}\")\n",
    "        attacked_df = attack_dataframe_deepfool(df, max_iter, epsilon)\n",
    "        attacked_dataframes[class_name] = attacked_df\n",
    "    return attacked_dataframes\n",
    "\n",
    "deepfools = attack_all_dataframes_deepfool(dataframes, max_iter=10, epsilon=0.1)\n",
    "save_attacked_dataframes_to_csv(deepfools,\"deepfools.csv\")"
   ]
  },
  {
   "cell_type": "code",
   "execution_count": null,
   "id": "5f75bbf6",
   "metadata": {},
   "outputs": [],
   "source": [
    "# 使用ART的Boundary Attack（黑盒攻击）\n",
    "def attack_dataframe_boundary(df, targeted=False, max_iter=100, delta=0.01):\n",
    "    # 创建ART分类器\n",
    "    classifier = create_art_classifier(model)\n",
    "    # 创建Boundary攻击对象\n",
    "    attack = BoundaryAttack(\n",
    "        classifier=classifier,\n",
    "        targeted=targeted,\n",
    "        max_iter=max_iter,\n",
    "        delta=delta\n",
    "    )\n",
    "\n",
    "    # 创建一个新的DataFrame存储攻击后的图像数据\n",
    "    attacked_df = pd.DataFrame(columns=['image', 'label'])\n",
    "\n",
    "    # 遍历输入的DataFrame中的每张图像\n",
    "    for index, row in df.iterrows():\n",
    "        # 提取图像和标签\n",
    "        image = row['image']\n",
    "        label = row['label']\n",
    "\n",
    "        # 将图像转换为Tensor并归一化到[0, 1]\n",
    "        image_tensor = torch.tensor(image, dtype=torch.float32).permute(2, 0, 1).unsqueeze(0) / 255.0\n",
    "\n",
    "        # 生成对抗样本\n",
    "        perturbed_image = attack.generate(x=image_tensor.numpy(), y=np.array([label]))\n",
    "\n",
    "        # 将攻击后的图像转换回NumPy数组\n",
    "        attacked_image = (perturbed_image.squeeze(0) * 255).astype(np.uint8)\n",
    "\n",
    "        # 将攻击后的图像和标签添加到新的DataFrame中\n",
    "        new_row = pd.DataFrame({'image': [attacked_image], 'label': [label]})\n",
    "        attacked_df = pd.concat([attacked_df, new_row], ignore_index=True)\n",
    "\n",
    "        # 打印进度\n",
    "        if (index + 1) % 1000 == 0:\n",
    "            print(f\"Processed {index + 1} images\")\n",
    "\n",
    "    return attacked_df\n",
    "\n",
    "# 对整个字典中的所有类别进行Boundary Attack\n",
    "def attack_all_dataframes_boundary(dataframes, targeted=False, max_iter=100, delta=0.01):\n",
    "    attacked_dataframes = {}\n",
    "    for class_name, df in dataframes.items():\n",
    "        print(f\"Attacking class: {class_name}\")\n",
    "        attacked_df = attack_dataframe_boundary(df, targeted, max_iter, delta)\n",
    "        attacked_dataframes[class_name] = attacked_df\n",
    "    return attacked_dataframes\n",
    "\n",
    "boundaries = attack_all_dataframes_boundary(dataframes, targeted=False, max_iter=100, delta=0.01)\n",
    "save_attacked_dataframes_to_csv(boundaries,\"boundarys.csv\")"
   ]
  },
  {
   "cell_type": "code",
   "execution_count": null,
   "id": "8fa6fee8",
   "metadata": {},
   "outputs": [],
   "source": []
  },
  {
   "cell_type": "code",
   "execution_count": null,
   "id": "05e6591a",
   "metadata": {},
   "outputs": [],
   "source": []
  },
  {
   "cell_type": "code",
   "execution_count": null,
   "id": "f765cd53",
   "metadata": {},
   "outputs": [],
   "source": []
  },
  {
   "cell_type": "code",
   "execution_count": null,
   "id": "426c8aea",
   "metadata": {},
   "outputs": [],
   "source": []
  },
  {
   "cell_type": "code",
   "execution_count": null,
   "id": "ed00dbfe",
   "metadata": {},
   "outputs": [],
   "source": []
  },
  {
   "cell_type": "code",
   "execution_count": null,
   "id": "181fac58",
   "metadata": {},
   "outputs": [],
   "source": [
    "# 使用ART的FGSM攻击\n",
    "def attack_dataframe_art(df, epsilon=8/255):\n",
    "    # 创建ART分类器\n",
    "    classifier = create_art_classifier(model)\n",
    "    # 创建FGSM攻击对象\n",
    "    attack = FastGradientMethod(estimator=classifier, eps=epsilon)\n",
    "\n",
    "    # 创建一个新的DataFrame存储攻击后的图像数据\n",
    "    attacked_df = pd.DataFrame(columns=['image', 'label'])\n",
    "\n",
    "    # 遍历输入的DataFrame中的每张图像\n",
    "    for index, row in df.iterrows():\n",
    "        # 提取图像和标签\n",
    "        image = row['image']\n",
    "        label = row['label']\n",
    "\n",
    "        # 将图像转换为Tensor并归一化到[0, 1]\n",
    "        image_tensor = torch.tensor(image, dtype=torch.float32).permute(2, 0, 1).unsqueeze(0) / 255.0\n",
    "\n",
    "        # 生成对抗样本\n",
    "        perturbed_image = attack.generate(x=image_tensor.numpy())\n",
    "\n",
    "        # 将攻击后的图像转换回NumPy数组\n",
    "        attacked_image = (perturbed_image.squeeze(0) * 255).astype(np.uint8)\n",
    "\n",
    "        # 将攻击后的图像和标签添加到新的DataFrame中\n",
    "        new_row = pd.DataFrame({'image': [attacked_image], 'label': [label]})\n",
    "        attacked_df = pd.concat([attacked_df, new_row], ignore_index=True)\n",
    "\n",
    "        # 打印进度\n",
    "        if (index + 1) % 1000 == 0:\n",
    "            print(f\"Processed {index + 1} images\")\n",
    "\n",
    "    return attacked_df"
   ]
  },
  {
   "cell_type": "code",
   "execution_count": null,
   "id": "088059ab",
   "metadata": {
    "scrolled": true
   },
   "outputs": [],
   "source": [
    "# 对整个字典中的所有类别进行FGSM攻击\n",
    "def attack_all_dataframes(dataframes, epsilon=8/255):\n",
    "    attacked_dataframes = {}\n",
    "    for class_name, df in dataframes.items():\n",
    "        print(f\"Attacking class: {class_name}\")\n",
    "        attacked_df = attack_dataframe_art(df, epsilon)\n",
    "        attacked_dataframes[class_name] = attacked_df\n",
    "    return attacked_dataframes"
   ]
  },
  {
   "cell_type": "code",
   "execution_count": null,
   "id": "cf9a7e87",
   "metadata": {},
   "outputs": [],
   "source": [
    "fgsms=attack_all_dataframes(dataframes, epsilon=8/255)"
   ]
  },
  {
   "cell_type": "code",
   "execution_count": null,
   "id": "3d2a7753",
   "metadata": {},
   "outputs": [],
   "source": [
    "#存储和恢复\n",
    "import pandas as pd\n",
    "import numpy as np\n",
    "\n",
    "# 将attacked_dataframes保存到CSV文件\n",
    "def save_attacked_dataframes_to_csv(attacked_dataframes, filename='fgsm.csv'):\n",
    "    # 创建一个空的DataFrame来存储所有类别的数据\n",
    "    all_data = pd.DataFrame(columns=['image', 'label', 'class_name'])\n",
    "\n",
    "    # 遍历每个类别的DataFrame并添加类别名称列\n",
    "    for class_name, df in attacked_dataframes.items():\n",
    "        df['class_name'] = class_name  # 添加类别名称列\n",
    "        all_data = pd.concat([all_data, df], ignore_index=True)\n",
    "\n",
    "    # 将图像数据转换为字符串格式以便保存\n",
    "    all_data['image'] = all_data['image'].apply(lambda x: x.tobytes())\n",
    "\n",
    "    # 保存到CSV文件\n",
    "    all_data.to_csv(filename, index=False)\n",
    "    print(f\"Data saved to {filename}\")\n",
    "\n",
    "\n",
    "save_attacked_dataframes_to_csv(fgsms)"
   ]
  },
  {
   "cell_type": "code",
   "execution_count": null,
   "id": "3685353f",
   "metadata": {},
   "outputs": [],
   "source": [
    "import pandas as pd\n",
    "import numpy as np\n",
    "\n",
    "# 从CSV文件中读取数据并恢复attacked_dataframes\n",
    "def load_attacked_dataframes_from_csv(filename='fgsm.csv'):\n",
    "    # 读取CSV文件\n",
    "    all_data = pd.read_csv(filename)\n",
    "\n",
    "    # 将图像数据从字符串格式转换回NumPy数组\n",
    "    all_data['image'] = all_data['image'].apply(lambda x: np.frombuffer(eval(x), dtype=np.uint8).reshape(32, 32, 3))\n",
    "\n",
    "    # 按类别名称分组并创建字典\n",
    "    attacked_dataframes = {}\n",
    "    for class_name in all_data['class_name'].unique():\n",
    "        class_data = all_data[all_data['class_name'] == class_name]\n",
    "        df = class_data[['image', 'label']].reset_index(drop=True)\n",
    "        attacked_dataframes[class_name] = df\n",
    "\n",
    "    return attacked_dataframes\n",
    "\n",
    "# 示例用法\n",
    "if __name__ == \"__main__\":\n",
    "    # 从CSV文件中读取数据\n",
    "    attacked_dataframes = load_attacked_dataframes_from_csv('fgsm.csv')\n",
    "\n",
    "    # 打印恢复后的字典\n",
    "    for class_name, attacked_df in attacked_dataframes.items():\n",
    "        print(f\"Recovered DataFrame for class '{class_name}':\")\n",
    "        print(attacked_df.head())\n",
    "        print(\"\\n\")"
   ]
  },
  {
   "cell_type": "code",
   "execution_count": null,
   "id": "c834fca8",
   "metadata": {},
   "outputs": [],
   "source": [
    "from art.attacks.evasion import CarliniL2Method\n",
    "# 使用ART的CW攻击\n",
    "def attack_dataframe_cw(df, confidence=0.0, max_iter=500):\n",
    "    # 创建ART分类器\n",
    "    classifier = create_art_classifier(model)\n",
    "    # 创建CW攻击对象\n",
    "    attack = CarliniL2Method(classifier=classifier, confidence=confidence, max_iter=max_iter)\n",
    "\n",
    "    # 创建一个新的DataFrame存储攻击后的图像数据\n",
    "    attacked_df = pd.DataFrame(columns=['image', 'label'])\n",
    "\n",
    "    # 遍历输入的DataFrame中的每张图像\n",
    "    for index, row in df.iterrows():\n",
    "        # 提取图像和标签\n",
    "        image = row['image']\n",
    "        label = row['label']\n",
    "\n",
    "        # 将图像转换为Tensor并归一化到[0, 1]\n",
    "        image_tensor = torch.tensor(image, dtype=torch.float32).permute(2, 0, 1).unsqueeze(0) / 255.0\n",
    "\n",
    "        # 生成对抗样本\n",
    "        perturbed_image = attack.generate(x=image_tensor.numpy())\n",
    "\n",
    "        # 将攻击后的图像转换回NumPy数组\n",
    "        attacked_image = (perturbed_image.squeeze(0) * 255).astype(np.uint8)\n",
    "\n",
    "        # 将攻击后的图像和标签添加到新的DataFrame中\n",
    "        new_row = pd.DataFrame({'image': [attacked_image], 'label': [label]})\n",
    "        attacked_df = pd.concat([attacked_df, new_row], ignore_index=True)\n",
    "\n",
    "        # 打印进度\n",
    "        if (index + 1) % 100 == 0:\n",
    "            print(f\"Processed {index + 1} images\")\n",
    "\n",
    "    return attacked_df\n"
   ]
  },
  {
   "cell_type": "code",
   "execution_count": null,
   "id": "1a990c94",
   "metadata": {},
   "outputs": [],
   "source": [
    "# 对整个字典中的所有类别进行CW攻击\n",
    "def attack_all_dataframes_cw(dataframes, confidence=0.0, max_iter=1000):\n",
    "    attacked_dataframes = {}\n",
    "    for class_name, df in dataframes.items():\n",
    "        print(f\"Attacking class: {class_name}\")\n",
    "        attacked_df = attack_dataframe_cw(df[:200], confidence, max_iter)\n",
    "        attacked_dataframes[class_name] = attacked_df\n",
    "         # 创建一个新的DataFrame来存储攻击后的数据\n",
    "        df_to_save = attacked_df.copy()\n",
    "        df_to_save['class_name'] = class_name  # 添加类别名称列\n",
    "\n",
    "        # 将图像数据转换为字符串格式以便保存\n",
    "        df_to_save['image'] = df_to_save['image'].apply(lambda x: x.tobytes())\n",
    "\n",
    "        # 保存到CSV文件\n",
    "        filename = f\"{class_name}_cw1.csv\"\n",
    "        df_to_save.to_csv(filename, index=False)\n",
    "        print(f\"Data for class '{class_name}' saved to {filename}\")\n",
    "    \n",
    "    return attacked_dataframes\n"
   ]
  },
  {
   "cell_type": "code",
   "execution_count": null,
   "id": "7ef2608d",
   "metadata": {},
   "outputs": [],
   "source": [
    "# 删除airplane这一类\n",
    "if 'airplane' in dataframes:\n",
    "    del dataframes['airplane']\n",
    "    print(\"Deleted 'airplane' class from dataframes.\")\n",
    "else:\n",
    "    print(\"'airplane' class not found in dataframes.\")\n",
    "if 'automobile' in dataframes:\n",
    "    del dataframes['automobile']\n",
    "    print(\"Deleted automobile class from dataframes.\")  \n",
    "\"\"\"if 'bird' in dataframes:\n",
    "    del dataframes['bird']\n",
    "    print(\"Deleted bird class from dataframes.\")  \n",
    "if 'cat' in dataframes:\n",
    "    del dataframes['cat']\n",
    "    print(\"Deleted cat class from dataframes.\")  \n",
    "if 'deer' in dataframes:\n",
    "    del dataframes['deer']\n",
    "    print(\"Deleted deer class from dataframes.\")  \n",
    "if 'dog' in dataframes:\n",
    "    del dataframes['dog']\n",
    "    print(\"Deleted dog class from dataframes.\")  \"\"\""
   ]
  },
  {
   "cell_type": "code",
   "execution_count": null,
   "id": "3e4add03",
   "metadata": {
    "scrolled": true
   },
   "outputs": [],
   "source": [
    "cws=attack_all_dataframes_cw(dataframes,0.0, max_iter=500)"
   ]
  },
  {
   "cell_type": "code",
   "execution_count": null,
   "id": "a4532ae1",
   "metadata": {},
   "outputs": [],
   "source": []
  },
  {
   "cell_type": "code",
   "execution_count": null,
   "id": "5a84b9cb",
   "metadata": {},
   "outputs": [],
   "source": [
    "cws=attack_all_dataframes_cw(dataframes,0.0, max_iter=500)"
   ]
  },
  {
   "cell_type": "code",
   "execution_count": null,
   "id": "e717cf60",
   "metadata": {},
   "outputs": [],
   "source": []
  },
  {
   "cell_type": "code",
   "execution_count": null,
   "id": "50e78d04",
   "metadata": {},
   "outputs": [],
   "source": [
    "#PGD\n",
    "from art.attacks.evasion import ProjectedGradientDescent\n",
    "# 使用ART的PGD攻击\n",
    "def attack_dataframe_pgd(df, epsilon=8/255, alpha=2/255, iterations=10):\n",
    "    # 创建ART分类器\n",
    "    classifier = create_art_classifier(model)\n",
    "    # 创建PGD攻击对象\n",
    "    attack = ProjectedGradientDescent(\n",
    "        estimator=classifier,\n",
    "        eps=epsilon,\n",
    "        eps_step=alpha,\n",
    "        max_iter=iterations,\n",
    "        targeted=False,\n",
    "        num_random_init=1,\n",
    "        batch_size=32\n",
    "    )\n",
    "\n",
    "    # 创建一个新的DataFrame存储攻击后的图像数据\n",
    "    attacked_df = pd.DataFrame(columns=['image', 'label'])\n",
    "\n",
    "    # 遍历输入的DataFrame中的每张图像\n",
    "    for index, row in df.iterrows():\n",
    "        # 提取图像和标签\n",
    "        image = row['image']\n",
    "        label = row['label']\n",
    "\n",
    "        # 将图像转换为Tensor并归一化到[0, 1]\n",
    "        image_tensor = torch.tensor(image, dtype=torch.float32).permute(2, 0, 1).unsqueeze(0) / 255.0\n",
    "\n",
    "        # 生成对抗样本\n",
    "        perturbed_image = attack.generate(x=image_tensor.numpy())\n",
    "\n",
    "        # 将攻击后的图像转换回NumPy数组\n",
    "        attacked_image = (perturbed_image.squeeze(0) * 255).astype(np.uint8)\n",
    "\n",
    "        # 将攻击后的图像和标签添加到新的DataFrame中\n",
    "        new_row = pd.DataFrame({'image': [attacked_image], 'label': [label]})\n",
    "        attacked_df = pd.concat([attacked_df, new_row], ignore_index=True)\n",
    "\n",
    "        # 打印进度\n",
    "        if (index + 1) % 1000 == 0:\n",
    "            print(f\"Processed {index + 1} images\")\n",
    "\n",
    "    return attacked_df"
   ]
  },
  {
   "cell_type": "code",
   "execution_count": null,
   "id": "771acd73",
   "metadata": {},
   "outputs": [],
   "source": [
    "# 删除airplane这一类\n",
    "if 'airplane' in dataframes:\n",
    "    del dataframes['airplane']\n",
    "    print(\"Deleted 'airplane' class from dataframes.\")\n",
    "else:\n",
    "    print(\"'airplane' class not found in dataframes.\")\n",
    "if 'automobile' in dataframes:\n",
    "    del dataframes['automobile']\n",
    "    print(\"Deleted automobile class from dataframes.\")  \n",
    "if 'bird' in dataframes:\n",
    "    del dataframes['bird']\n",
    "    print(\"Deleted bird class from dataframes.\")  \n",
    "if 'cat' in dataframes:\n",
    "    del dataframes['cat']\n",
    "    print(\"Deleted cat class from dataframes.\")  \n",
    "if 'deer' in dataframes:\n",
    "    del dataframes['deer']\n",
    "    print(\"Deleted deer class from dataframes.\")  \n",
    "if 'dog' in dataframes:\n",
    "    del dataframes['dog']\n",
    "    print(\"Deleted dog class from dataframes.\")  "
   ]
  },
  {
   "cell_type": "code",
   "execution_count": null,
   "id": "8e746232",
   "metadata": {},
   "outputs": [],
   "source": [
    "\"\"\"# 对整个字典中的所有类别进行PGD攻击\n",
    "def attack_all_dataframes_pgd(dataframes, epsilon=8/255, alpha=2/255, iterations=10):\n",
    "    attacked_dataframes = {}\n",
    "    for class_name, df in dataframes.items():\n",
    "        print(f\"Attacking class: {class_name}\")\n",
    "        attacked_df = attack_dataframe_pgd(df, epsilon, alpha, iterations)\n",
    "        attacked_dataframes[class_name] = attacked_df\n",
    "    return attacked_dataframes\"\"\"\n",
    "# 对整个字典中的所有类别进行PGD攻击，并保存到CSV文件\n",
    "def attack_all_dataframes_pgd(dataframes, epsilon=8/255, alpha=2/255, iterations=10):\n",
    "    attacked_dataframes = {}\n",
    "    for class_name, df in dataframes.items():\n",
    "        print(f\"Attacking class: {class_name}\")\n",
    "        attacked_df = attack_dataframe_pgd(df, epsilon, alpha, iterations)\n",
    "        attacked_dataframes[class_name] = attacked_df\n",
    "\n",
    "        # 创建一个新的DataFrame来存储攻击后的数据\n",
    "        df_to_save = attacked_df.copy()\n",
    "        df_to_save['class_name'] = class_name  # 添加类别名称列\n",
    "\n",
    "        # 将图像数据转换为字符串格式以便保存\n",
    "        df_to_save['image'] = df_to_save['image'].apply(lambda x: x.tobytes())\n",
    "\n",
    "        # 保存到CSV文件\n",
    "        filename = f\"{class_name}_pgd.csv\"\n",
    "        df_to_save.to_csv(filename, index=False)\n",
    "        print(f\"Data for class '{class_name}' saved to {filename}\")\n",
    "    \n",
    "    return attacked_dataframes"
   ]
  },
  {
   "cell_type": "code",
   "execution_count": null,
   "id": "c622a98b",
   "metadata": {},
   "outputs": [],
   "source": [
    "pgds = attack_all_dataframes_pgd(dataframes, epsilon=8/255, alpha=2/255, iterations=10)"
   ]
  },
  {
   "cell_type": "code",
   "execution_count": 6,
   "id": "f103e392",
   "metadata": {},
   "outputs": [
    {
     "data": {
      "text/html": [
       "<div>\n",
       "<style scoped>\n",
       "    .dataframe tbody tr th:only-of-type {\n",
       "        vertical-align: middle;\n",
       "    }\n",
       "\n",
       "    .dataframe tbody tr th {\n",
       "        vertical-align: top;\n",
       "    }\n",
       "\n",
       "    .dataframe thead th {\n",
       "        text-align: right;\n",
       "    }\n",
       "</style>\n",
       "<table border=\"1\" class=\"dataframe\">\n",
       "  <thead>\n",
       "    <tr style=\"text-align: right;\">\n",
       "      <th></th>\n",
       "      <th>image</th>\n",
       "      <th>label</th>\n",
       "      <th>class_name</th>\n",
       "    </tr>\n",
       "  </thead>\n",
       "  <tbody>\n",
       "    <tr>\n",
       "      <th>0</th>\n",
       "      <td>b'\\xca\\xca\\xcc\\xcd\\xcf\\xd0\\xd1\\xd4\\xd4\\xd7\\xd8...</td>\n",
       "      <td>0</td>\n",
       "      <td>airplane</td>\n",
       "    </tr>\n",
       "    <tr>\n",
       "      <th>1</th>\n",
       "      <td>b'}z~~\\x81\\x81\\x84\\x84\\x81\\x83\\x86\\x82\\x82\\x85...</td>\n",
       "      <td>0</td>\n",
       "      <td>airplane</td>\n",
       "    </tr>\n",
       "    <tr>\n",
       "      <th>2</th>\n",
       "      <td>b'\\xfa\\xf7\\xf7\\xf8\\xf9\\xf8\\xf8\\xf8\\xf9\\xf9\\xf8...</td>\n",
       "      <td>0</td>\n",
       "      <td>airplane</td>\n",
       "    </tr>\n",
       "    <tr>\n",
       "      <th>3</th>\n",
       "      <td>b'\\xff\\xff\\xff\\xb6\\xb5\\xff\\xff\\xff\\xff\\xfe\\xff...</td>\n",
       "      <td>0</td>\n",
       "      <td>airplane</td>\n",
       "    </tr>\n",
       "    <tr>\n",
       "      <th>4</th>\n",
       "      <td>b',/3554566:A:9B:&lt;=@BI&gt;?GEHIGIGKHJ3/2/46:&lt;&lt;;@B...</td>\n",
       "      <td>0</td>\n",
       "      <td>airplane</td>\n",
       "    </tr>\n",
       "    <tr>\n",
       "      <th>...</th>\n",
       "      <td>...</td>\n",
       "      <td>...</td>\n",
       "      <td>...</td>\n",
       "    </tr>\n",
       "    <tr>\n",
       "      <th>59995</th>\n",
       "      <td>b'baaabbbbbbba``^]]\\\\[[ZYXVUTRPNLIHeeegfffffee...</td>\n",
       "      <td>9</td>\n",
       "      <td>truck</td>\n",
       "    </tr>\n",
       "    <tr>\n",
       "      <th>59996</th>\n",
       "      <td>b'\\xf4\\xf1\\xf2\\xf3\\xf4\\xf4\\xf4\\xf3\\xf2\\xf2\\xf2...</td>\n",
       "      <td>9</td>\n",
       "      <td>truck</td>\n",
       "    </tr>\n",
       "    <tr>\n",
       "      <th>59997</th>\n",
       "      <td>b'\\xe1\\xe4\\xe4\\xe8\\xe8\\xe9\\xeb\\xeb\\xee\\xe9\\xe2...</td>\n",
       "      <td>9</td>\n",
       "      <td>truck</td>\n",
       "    </tr>\n",
       "    <tr>\n",
       "      <th>59998</th>\n",
       "      <td>b'7\\x1f&amp;Hy\\xbb\\x9c\\x97\\xc3\\xd0\\xe1\\xf5\\xf0\\xb9...</td>\n",
       "      <td>9</td>\n",
       "      <td>truck</td>\n",
       "    </tr>\n",
       "    <tr>\n",
       "      <th>59999</th>\n",
       "      <td>b'\\xff\\xf9\\xf4\\xee\\xe3\\xe0\\xdc\\xe3\\xe2\\xe6\\xeb...</td>\n",
       "      <td>9</td>\n",
       "      <td>truck</td>\n",
       "    </tr>\n",
       "  </tbody>\n",
       "</table>\n",
       "<p>60000 rows × 3 columns</p>\n",
       "</div>"
      ],
      "text/plain": [
       "                                                   image label class_name\n",
       "0      b'\\xca\\xca\\xcc\\xcd\\xcf\\xd0\\xd1\\xd4\\xd4\\xd7\\xd8...     0   airplane\n",
       "1      b'}z~~\\x81\\x81\\x84\\x84\\x81\\x83\\x86\\x82\\x82\\x85...     0   airplane\n",
       "2      b'\\xfa\\xf7\\xf7\\xf8\\xf9\\xf8\\xf8\\xf8\\xf9\\xf9\\xf8...     0   airplane\n",
       "3      b'\\xff\\xff\\xff\\xb6\\xb5\\xff\\xff\\xff\\xff\\xfe\\xff...     0   airplane\n",
       "4      b',/3554566:A:9B:<=@BI>?GEHIGIGKHJ3/2/46:<<;@B...     0   airplane\n",
       "...                                                  ...   ...        ...\n",
       "59995  b'baaabbbbbbba``^]]\\\\[[ZYXVUTRPNLIHeeegfffffee...     9      truck\n",
       "59996  b'\\xf4\\xf1\\xf2\\xf3\\xf4\\xf4\\xf4\\xf3\\xf2\\xf2\\xf2...     9      truck\n",
       "59997  b'\\xe1\\xe4\\xe4\\xe8\\xe8\\xe9\\xeb\\xeb\\xee\\xe9\\xe2...     9      truck\n",
       "59998  b'7\\x1f&Hy\\xbb\\x9c\\x97\\xc3\\xd0\\xe1\\xf5\\xf0\\xb9...     9      truck\n",
       "59999  b'\\xff\\xf9\\xf4\\xee\\xe3\\xe0\\xdc\\xe3\\xe2\\xe6\\xeb...     9      truck\n",
       "\n",
       "[60000 rows x 3 columns]"
      ]
     },
     "execution_count": 6,
     "metadata": {},
     "output_type": "execute_result"
    }
   ],
   "source": [
    "#合并所有pgd\n",
    "import os\n",
    "import glob\n",
    "import pandas as pd\n",
    "import numpy as np\n",
    "# 将10个单独的PGD攻击后的CSV文件整合成一个文件\n",
    "def merge_pgd_csv_files(output_filename='merged_pgd.csv'):\n",
    "    # 获取当前目录下所有以_pgd.csv结尾的文件\n",
    "    csv_files = glob.glob(r'D:\\python\\resnetcifar\\adv\\deepfool\\*_deepfool.csv')\n",
    "    \n",
    "    # 创建一个空的DataFrame来存储所有数据\n",
    "    merged_data = pd.DataFrame(columns=['image', 'label', 'class_name'])\n",
    "    \n",
    "    # 遍历每个CSV文件并合并数据\n",
    "    for file in csv_files:\n",
    "        # 读取CSV文件\n",
    "        df = pd.read_csv(file)\n",
    "        \n",
    "        # 将图像数据从字符串格式转换回NumPy数组\n",
    "        df['image'] = df['image'].apply(lambda x: np.frombuffer(eval(x), dtype=np.uint8).reshape(32, 32, 3))\n",
    "        \n",
    "        # 合并数据\n",
    "        merged_data = pd.concat([merged_data, df], ignore_index=True)\n",
    "    \n",
    "    # 将图像数据转换为字符串格式以便保存\n",
    "    merged_data['image'] = merged_data['image'].apply(lambda x: x.tobytes())\n",
    "    \n",
    "    # 保存到CSV文件\n",
    "    merged_data.to_csv(output_filename, index=False)\n",
    "    #print(f\"Merged data saved to {output_filename}\")\n",
    "    \n",
    "    return merged_data\n",
    "\n",
    "\n",
    "merge_pgd_csv_files(output_filename=r'D:\\python\\resnetcifar\\adv\\deepfool\\deepfools.csv')"
   ]
  },
  {
   "cell_type": "code",
   "execution_count": null,
   "id": "b05b0b42",
   "metadata": {},
   "outputs": [],
   "source": [
    "#合并所有pgd\n",
    "import os\n",
    "import glob\n",
    "import pandas as pd\n",
    "import numpy as np\n",
    "# 将10个单独的PGD攻击后的CSV文件整合成一个文件\n",
    "def merge_cw_csv_files(output_filename='cw1s.csv'):\n",
    "    # 获取当前目录下所有以_pgd.csv结尾的文件\n",
    "    csv_files = glob.glob(r'D:\\python\\resnetcifar\\adv\\cw\\*_cw1.csv')\n",
    "    \n",
    "    # 创建一个空的DataFrame来存储所有数据\n",
    "    merged_data = pd.DataFrame(columns=['image', 'label', 'class_name'])\n",
    "    \n",
    "    # 遍历每个CSV文件并合并数据\n",
    "    for file in csv_files:\n",
    "        # 读取CSV文件\n",
    "        df = pd.read_csv(file)\n",
    "        \n",
    "        # 将图像数据从字符串格式转换回NumPy数组\n",
    "        df['image'] = df['image'].apply(lambda x: np.frombuffer(eval(x), dtype=np.uint8).reshape(32, 32, 3))\n",
    "        \n",
    "        # 合并数据\n",
    "        merged_data = pd.concat([merged_data, df], ignore_index=True)\n",
    "    \n",
    "    # 将图像数据转换为字符串格式以便保存\n",
    "    merged_data['image'] = merged_data['image'].apply(lambda x: x.tobytes())\n",
    "    \n",
    "    # 保存到CSV文件\n",
    "    merged_data.to_csv(output_filename, index=False)\n",
    "    #print(f\"Merged data saved to {output_filename}\")\n",
    "    \n",
    "    return merged_data\n",
    "\n",
    "\n",
    "merge_cw_csv_files(output_filename=\"cw1s.csv\")"
   ]
  },
  {
   "cell_type": "code",
   "execution_count": null,
   "id": "75038278",
   "metadata": {},
   "outputs": [],
   "source": [
    "# 从合并后的CSV文件中读取数据并恢复attacked_dataframes\n",
    "def load_attacked_dataframes_from_csv(filename='merged_pgd.csv'):\n",
    "    # 读取CSV文件\n",
    "    all_data = pd.read_csv(filename)\n",
    "    \n",
    "    # 将图像数据从字符串格式转换回NumPy数组\n",
    "    all_data['image'] = all_data['image'].apply(lambda x: np.frombuffer(eval(x), dtype=np.uint8).reshape(32, 32, 3))\n",
    "    \n",
    "    # 按类别名称分组并创建字典\n",
    "    attacked_dataframes = {}\n",
    "    for class_name in all_data['class_name'].unique():\n",
    "        class_data = all_data[all_data['class_name'] == class_name]\n",
    "        df = class_data[['image', 'label']].reset_index(drop=True)\n",
    "        attacked_dataframes[class_name] = df\n",
    "    \n",
    "    return attacked_dataframes\n",
    "pgds = load_attacked_dataframes_from_csv(\"pgds.csv\")"
   ]
  },
  {
   "cell_type": "code",
   "execution_count": null,
   "id": "025e33d2",
   "metadata": {},
   "outputs": [],
   "source": []
  },
  {
   "cell_type": "code",
   "execution_count": null,
   "id": "76aa88c1",
   "metadata": {},
   "outputs": [],
   "source": []
  },
  {
   "cell_type": "code",
   "execution_count": null,
   "id": "26b3f93f",
   "metadata": {},
   "outputs": [],
   "source": []
  },
  {
   "cell_type": "code",
   "execution_count": null,
   "id": "8cf5fbac",
   "metadata": {},
   "outputs": [],
   "source": [
    "#AutoAttack攻击\n",
    "from art.attacks.evasion import AutoAttack\n",
    "def attack_dataframe_autoattack(df, epsilon=8/255):\n",
    "    # 创建ART分类器\n",
    "    classifier = create_art_classifier(model)\n",
    "    # 创建AutoAttack攻击对象\n",
    "    attack = AutoAttack(\n",
    "        estimator=classifier,\n",
    "        norm=np.inf,  # 使用np.inf表示L∞范数\n",
    "        eps=epsilon,\n",
    "        eps_step=epsilon / 4,\n",
    "        targeted=False,\n",
    "        batch_size=512\n",
    "    )\n",
    "\n",
    "    # 创建一个新的DataFrame存储攻击后的图像数据\n",
    "    attacked_df = pd.DataFrame(columns=['image', 'label'])\n",
    "\n",
    "    # 遍历输入的DataFrame中的每张图像\n",
    "    for index, row in df.iterrows():\n",
    "        # 提取图像和标签\n",
    "        image = row['image']\n",
    "        label = row['label']\n",
    "\n",
    "        # 将图像转换为Tensor并归一化到[0, 1]\n",
    "        image_tensor = torch.tensor(image, dtype=torch.float32).permute(2, 0, 1).unsqueeze(0) / 255.0\n",
    "\n",
    "        # 生成对抗样本\n",
    "        perturbed_image = attack.generate(x=image_tensor.numpy())\n",
    "\n",
    "        # 将攻击后的图像转换回NumPy数组\n",
    "        attacked_image = (perturbed_image.squeeze(0) * 255).astype(np.uint8)\n",
    "\n",
    "        # 将攻击后的图像和标签添加到新的DataFrame中\n",
    "        new_row = pd.DataFrame({'image': [attacked_image], 'label': [label]})\n",
    "        attacked_df = pd.concat([attacked_df, new_row], ignore_index=True)\n",
    "\n",
    "        # 打印进度\n",
    "        if (index + 1) % 1000 == 0:\n",
    "            print(f\"Processed {index + 1} images\")\n",
    "\n",
    "    return attacked_df"
   ]
  },
  {
   "cell_type": "code",
   "execution_count": null,
   "id": "8da1b2c8",
   "metadata": {},
   "outputs": [],
   "source": [
    "# 对整个字典中的所有类别进行AutoAttack攻击\n",
    "def attack_all_dataframes_autoattack(dataframes, epsilon=8/255):\n",
    "    attacked_dataframes = {}\n",
    "    for class_name, df in dataframes.items():\n",
    "        print(f\"Attacking class: {class_name}\")\n",
    "        attacked_df = attack_dataframe_autoattack(df, epsilon)\n",
    "        attacked_dataframes[class_name] = attacked_df\n",
    "        \n",
    "                # 创建一个新的DataFrame来存储攻击后的数据\n",
    "        df_to_save = attacked_df.copy()\n",
    "        df_to_save['class_name'] = class_name  # 添加类别名称列\n",
    "\n",
    "        # 将图像数据转换为字符串格式以便保存\n",
    "        df_to_save['image'] = df_to_save['image'].apply(lambda x: x.tobytes())\n",
    "\n",
    "        # 保存到CSV文件\n",
    "        filename = f\"{class_name}_auto.csv\"\n",
    "        df_to_save.to_csv(filename, index=False)\n",
    "        print(f\"Data for class '{class_name}' saved to {filename}\")\n",
    "    return attacked_dataframes"
   ]
  },
  {
   "cell_type": "code",
   "execution_count": null,
   "id": "4dba7a8f",
   "metadata": {},
   "outputs": [],
   "source": [
    "autos=attack_all_dataframes_autoattack(dataframes, epsilon=8/255)"
   ]
  },
  {
   "cell_type": "code",
   "execution_count": null,
   "id": "1a1998d4",
   "metadata": {},
   "outputs": [],
   "source": []
  }
 ],
 "metadata": {
  "kernelspec": {
   "display_name": "Python 3 (ipykernel)",
   "language": "python",
   "name": "python3"
  },
  "language_info": {
   "codemirror_mode": {
    "name": "ipython",
    "version": 3
   },
   "file_extension": ".py",
   "mimetype": "text/x-python",
   "name": "python",
   "nbconvert_exporter": "python",
   "pygments_lexer": "ipython3",
   "version": "3.8.20"
  }
 },
 "nbformat": 4,
 "nbformat_minor": 5
}
